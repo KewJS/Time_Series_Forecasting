{
 "cells": [
  {
   "cell_type": "code",
   "execution_count": 1,
   "metadata": {
    "ExecuteTime": {
     "end_time": "2020-08-30T08:16:29.653700Z",
     "start_time": "2020-08-30T08:16:21.315685Z"
    }
   },
   "outputs": [],
   "source": [
    "import importlib\n",
    "import os\n",
    "import time\n",
    "from collections import OrderedDict\n",
    "import numpy as np\n",
    "import pandas as pd\n",
    "from datetime import datetime\n",
    "import missingno as msno\n",
    "import plotly.express as px\n",
    "import squarify\n",
    "import matplotlib\n",
    "import matplotlib.pyplot as plt\n",
    "import matplotlib.colors as mcolors\n",
    "from pandas.plotting import register_matplotlib_converters\n",
    "from matplotlib import gridspec\n",
    "from matplotlib.gridspec import GridSpec\n",
    "import matplotlib.colors as mcolors\n",
    "from mpl_toolkits.mplot3d import Axes3D\n",
    "import seaborn as sns\n",
    "import warnings\n",
    "warnings.filterwarnings('ignore')\n",
    "warnings.filterwarnings(action='ignore',category=DeprecationWarning)\n",
    "warnings.filterwarnings(action='ignore',category=FutureWarning)\n",
    "from IPython.display import display, Markdown, clear_output, HTML\n",
    "import ipywidgets as widgets\n",
    "from ipywidgets import interact, interactive\n",
    "from qgrid import show_grid\n",
    "import textwrap as tw\n",
    "import datetime\n",
    "\n",
    "import statsmodels.api as sm\n",
    "from statsmodels.tsa.seasonal import seasonal_decompose\n",
    "from statsmodels.tsa import seasonal\n",
    "from statsmodels.graphics.tsaplots import plot_acf\n",
    "from statsmodels.graphics.tsaplots import plot_pacf\n",
    "from statsmodels.tsa.stattools import adfuller, kpss\n",
    "import statsmodels.api as sm\n",
    "from statsmodels.tsa.arima_model import ARIMA\n",
    "from scipy import signal\n",
    "import pmdarima as pm\n",
    "\n",
    "from pandas.plotting import lag_plot\n",
    "from pylab import rcParams\n",
    "\n",
    "from sklearn.metrics import r2_score, mean_absolute_error\n",
    "\n",
    "pd.set_option('display.max_rows', 500)\n",
    "pd.set_option('display.max_columns', 1000)\n",
    "pd.options.display.float_format = '{:,.4f}'.format"
   ]
  },
  {
   "cell_type": "code",
   "execution_count": 2,
   "metadata": {
    "ExecuteTime": {
     "end_time": "2020-08-30T08:16:30.652135Z",
     "start_time": "2020-08-30T08:16:29.654674Z"
    }
   },
   "outputs": [],
   "source": [
    "# import function\n",
    "import src\n",
    "import src.analysis\n",
    "importlib.reload(src.analysis)\n",
    "from src.analysis import Analysis\n",
    "\n",
    "from src.Config import Config"
   ]
  },
  {
   "cell_type": "code",
   "execution_count": 3,
   "metadata": {
    "ExecuteTime": {
     "end_time": "2020-08-30T08:16:30.731932Z",
     "start_time": "2020-08-30T08:16:30.658119Z"
    }
   },
   "outputs": [
    {
     "data": {
      "text/markdown": [
       "<a id=\"top\"></a>"
      ],
      "text/plain": [
       "<IPython.core.display.Markdown object>"
      ]
     },
     "metadata": {},
     "output_type": "display_data"
    }
   ],
   "source": [
    "display(Markdown('<a id=\"top\"></a>'))\n",
    "sections = [\"BIODIESEL_B10\", \"PRIMAX_95\"]\n",
    "\n",
    "sub_sections = [\"Data Summary\", \"Missing Analysis\", \"Time Series Feature Analysis\", \"Modelling Analysis\"]\n",
    "    \n",
    "accordions = OrderedDict()\n",
    "accordions[\"-= Loading =-\"] = widgets.Accordion(children=[widgets.Output() for section in sections])\n",
    "[accordions[\"-= Loading =-\"].set_title(i, section) for i, section in enumerate(sections)]\n",
    "\n",
    "for section in sections:\n",
    "    accordions[section] = widgets.Accordion(children=[widgets.Output() for sub_section in sub_sections])\n",
    "    [accordions[section].set_title(i, sub_section) for i, sub_section in enumerate(sub_sections)]\n",
    "\n",
    "tab_fields = widgets.Tab(children=[accordions[v] for v in accordions])\n",
    "[tab_fields.set_title(i, s) for i, s in enumerate(accordions.keys())];"
   ]
  },
  {
   "cell_type": "code",
   "execution_count": 4,
   "metadata": {
    "ExecuteTime": {
     "end_time": "2020-08-30T08:16:30.745494Z",
     "start_time": "2020-08-30T08:16:30.733916Z"
    },
    "scrolled": false
   },
   "outputs": [
    {
     "data": {
      "application/vnd.jupyter.widget-view+json": {
       "model_id": "f70fd89c156247e19ac7bbc25e7933db",
       "version_major": 2,
       "version_minor": 0
      },
      "text/plain": [
       "Tab(children=(Accordion(children=(Output(), Output()), _titles={'0': 'BIODIESEL_B10', '1': 'PRIMAX_95'}), Acco…"
      ]
     },
     "metadata": {},
     "output_type": "display_data"
    }
   ],
   "source": [
    "tab_fields"
   ]
  },
  {
   "cell_type": "code",
   "execution_count": 5,
   "metadata": {
    "ExecuteTime": {
     "end_time": "2020-08-30T08:16:30.754769Z",
     "start_time": "2020-08-30T08:16:30.747478Z"
    }
   },
   "outputs": [],
   "source": [
    "analysis = Analysis()"
   ]
  },
  {
   "cell_type": "code",
   "execution_count": 6,
   "metadata": {
    "ExecuteTime": {
     "end_time": "2020-08-30T08:17:33.745194Z",
     "start_time": "2020-08-30T08:16:30.758448Z"
    }
   },
   "outputs": [],
   "source": [
    "%matplotlib agg\n",
    "section = 'BIODIESEL_B10'\n",
    "\n",
    "with accordions[\"-= Loading =-\"].children[sections.index(section)]:\n",
    "    clear_output()\n",
    "    analysis.get_biodiesel()\n",
    "    \n",
    "#\n",
    "# Data Summary\n",
    "#\n",
    "with accordions[section].children[0]:\n",
    "    clear_output()\n",
    "    \n",
    "    display(Markdown(r'<h2> BioDiesel B10 Data Summary </h2>'))\n",
    "    display(Markdown(r'<h3> 1. Overview from All Stations in BioDiesel B10 </h3>'))\n",
    "    display(analysis.grid_df_display([analysis.descriptive_data(analysis.data['biodiesel_df']), analysis.data_type_analysis(analysis.data['biodiesel_df'])]))\n",
    "    \n",
    "    for district, data in analysis.data['biodiesel_df'].groupby('District'):\n",
    "        display(Markdown(r'<h4> Sales For Each Month in <code>{}</code> </h4>'.format(district)))\n",
    "        display(analysis.weekday_weekend(data, 'Month_Int', 'Prod_Sales'))\n",
    "    \n",
    "    for district in analysis.unique_sorted_values_plus_ALL(analysis.data['biodiesel_df']['District']):\n",
    "        if district != 'ALL':\n",
    "            display(Markdown(r'<h2> {} </h2>'.format(district)))\n",
    "            for col in analysis.data['biodiesel_df'][analysis.data['biodiesel_df']['District'] == district][analysis.vars(['Biodiesel_50'])].columns:\n",
    "                if round(analysis.data['biodiesel_df'][analysis.data['biodiesel_df']['District'] == district][col].isnull().sum() / analysis.data['biodiesel_df'][analysis.data['biodiesel_df']['District'] == district].shape[0], 2) == 1:\n",
    "                    pass\n",
    "                else:   \n",
    "                    display(Markdown(r'<h4> {} </h4>'.format(col)))\n",
    "                    display(analysis.distribution_plot_summary(analysis.data['biodiesel_df'][analysis.data['biodiesel_df']['District'] == district], col, 'Prod_Sales'))   \n",
    "            \n",
    "    display(Markdown('[Home](#top)'))\n",
    "    \n",
    "#\n",
    "# Missing Analysis\n",
    "#\n",
    "with accordions[section].children[1]:\n",
    "    clear_output()\n",
    "    \n",
    "    display(Markdown(r'<h3> 1. Value Available Across All Variables </h3>'))\n",
    "    display(analysis.missingno_barchart(analysis.data['biodiesel_df'], [v for v in analysis.vars(['Biodiesel_50']) if v in analysis.data['biodiesel_df'].columns]))\n",
    "\n",
    "    display(Markdown(r'<h3> {}. {} </h3>'.format(2, \"Input Variables Acquired Across Time in All District\")))\n",
    "    analysis.data['biodiesel_df'][[v for v in analysis.vars(['Biodiesel_50']) if v in analysis.data['biodiesel_df'].columns]].index = pd.to_datetime(analysis.data['biodiesel_df'][[v for v in analysis.vars(['Biodiesel_50']) if v in analysis.data['biodiesel_df'].columns]].index, errors='coerce')\n",
    "    display(analysis.missingno_matrix(analysis.data['biodiesel_df'][[v for v in analysis.vars(['Biodiesel_50']) if v in analysis.data['biodiesel_df'].columns]], 14, 'W'))\n",
    "\n",
    "    display(Markdown(r'<h3> {}. {} </h3>'.format(3, \"Overview on Missing Pattern in <code>Biodisel B10</code> Data\")))\n",
    "    for district, data in analysis.data['missing_pect_biodiesel_50'].groupby('District'):\n",
    "        display(analysis.heatmap_plot(data, district, rotate='vertical'))\n",
    "        \n",
    "    display(Markdown('[Home](#top)'))\n",
    "        \n",
    "#\n",
    "# Time series analysis\n",
    "#\n",
    "with accordions[section].children[2]:\n",
    "    clear_output()\n",
    "    \n",
    "    display(Markdown(r'<h3> Biodiesel Product Sales Across Time with Train-Test Split at: {} </h3>'.format(Config.MODELLING_CONFIG['METRIC_BEST_THRESH'])))\n",
    "    for district, data in analysis.data['biodiesel_df'].groupby('District'):\n",
    "        display(Markdown(r'<h4> <code>{}</code> </h4>'.format(district)))\n",
    "        display(analysis.timeseries_plot(data.reset_index(), 'Date', 'Prod_Sales', datetime.date(2020,3,17), 'Biodiesel Sales at {}'.format(district)))\n",
    "    \n",
    "    display(Markdown(r'<h3> Technical Features Extracted on Time Series Domain </h3>'))\n",
    "    for district, data in analysis.data['biodiesel_df'].groupby('District'):\n",
    "        display(Markdown(r'<h4> <code>{}</code> </h4>'.format(district)))\n",
    "        display(analysis.plot_technical_indicators(data, 'Prod_Sales', data.shape[0]))\n",
    "        display(analysis.histogram_probability_plot(data, 'Prod_Sales', 50, district))\n",
    "        \n",
    "    display(Markdown(r'<h3> Technical Features Extracted on Frequency Domain </h3>'))\n",
    "    for district, data in analysis.data['biodiesel_df'].groupby('District'):\n",
    "        display(Markdown(r'<h4> <code>{}</code> </h4>'.format(district)))\n",
    "        display(analysis.frequency_plot(data, 'Prod_Sales', district))\n",
    "        \n",
    "    display(Markdown('[Home](#top)'))\n",
    "        \n",
    "#\n",
    "# Modelling Analysis\n",
    "#\n",
    "with accordions[section].children[3]:\n",
    "    clear_output()\n",
    "    \n",
    "    display(Markdown(r'<h3> Modelling Analysis on Component of Time Series Data </h3>'))\n",
    "    for district, data in analysis.data['biodiesel_df'].groupby('District'):\n",
    "        display(Markdown(r'<h4> Component of Biodiesel Sales at <code>{}</code> </h4>'.format(district)))\n",
    "        display(analysis.component_plot(data, 'Prod_Sales'))\n",
    "        display(analysis.test_stationarity(data, 'Prod_Sales'))\n",
    "        \n",
    "    display(Markdown(r'<h3> Autocorrelation Plot Analysis </h3>'))\n",
    "    for district, data in analysis.data['biodiesel_df'].groupby('District'):\n",
    "        display(Markdown(r'<h4> Number of Lags Dependency Analysis at <code>{}</code> </h4>'.format(district)))\n",
    "        display(analysis.scatter_lag_plots(data, 8, 'Prod_Sales', district))\n",
    "        display(analysis.autocorrelation_plot(data, 'Prod_Sales'))\n",
    "        display(analysis.partial_autocorrelation_plot(data, 'Prod_Sales'))\n",
    "        \n",
    "    display(Markdown('[Home](#top)'))"
   ]
  },
  {
   "cell_type": "code",
   "execution_count": 7,
   "metadata": {
    "ExecuteTime": {
     "end_time": "2020-08-30T08:18:16.855907Z",
     "start_time": "2020-08-30T08:17:33.746265Z"
    }
   },
   "outputs": [],
   "source": [
    "%matplotlib agg\n",
    "section = 'PRIMAX_95'\n",
    "\n",
    "with accordions[\"-= Loading =-\"].children[sections.index(section)]:\n",
    "    clear_output()\n",
    "    analysis.get_primax95()\n",
    "    \n",
    "#\n",
    "# Data Summary\n",
    "#\n",
    "with accordions[section].children[0]:\n",
    "    clear_output()\n",
    "    \n",
    "    display(Markdown(r'<h2> BioDiesel B10 Data Summary </h2>'))\n",
    "    display(Markdown(r'<h3> 1. Overview from All Stations in BioDiesel B10 </h3>'))\n",
    "    display(analysis.grid_df_display([analysis.descriptive_data(analysis.data['primax_95_df']), analysis.data_type_analysis(analysis.data['primax_95_df'])]))\n",
    "    \n",
    "    for district, data in analysis.data['primax_95_df'].groupby('District'):\n",
    "        display(Markdown(r'<h4> Sales For Each Month in <code>{}</code> </h4>'.format(district)))\n",
    "        display(analysis.weekday_weekend(data, 'Month_Int', 'Prod_Sales'))\n",
    "    \n",
    "    for district in analysis.unique_sorted_values_plus_ALL(analysis.data['primax_95_df']['District']):\n",
    "        if district != 'ALL':\n",
    "            display(Markdown(r'<h2> {} </h2>'.format(district)))\n",
    "            for col in analysis.data['primax_95_df'][analysis.data['primax_95_df']['District'] == district][analysis.vars(['Primax_95'])].columns:\n",
    "                if round(analysis.data['primax_95_df'][analysis.data['primax_95_df']['District'] == district][col].isnull().sum() / analysis.data['primax_95_df'][analysis.data['primax_95_df']['District'] == district].shape[0], 2) == 1:\n",
    "                    pass\n",
    "                else:   \n",
    "                    display(Markdown(r'<h4> {} </h4>'.format(col)))\n",
    "                    display(analysis.distribution_plot_summary(analysis.data['primax_95_df'][analysis.data['primax_95_df']['District'] == district], col, 'Prod_Sales'))   \n",
    "    \n",
    "    display(Markdown('[Home](#top)'))\n",
    "    \n",
    "#\n",
    "# Missing Analysis\n",
    "#\n",
    "with accordions[section].children[1]:\n",
    "    clear_output()\n",
    "    \n",
    "    display(Markdown(r'<h3> 1. Value Available Across All Variables </h3>'))\n",
    "    display(analysis.missingno_barchart(analysis.data['primax_95_df'], [v for v in analysis.vars(['Primax_95']) if v in analysis.data['primax_95_df'].columns]))\n",
    "\n",
    "    display(Markdown(r'<h3> {}. {} </h3>'.format(2, \"Input Variables Acquired Across Time in All District\")))\n",
    "    analysis.data['biodiesel_df'][[v for v in analysis.vars(['Biodiesel_50']) if v in analysis.data['primax_95_df'].columns]].index = pd.to_datetime(analysis.data['primax_95_df'][[v for v in analysis.vars(['Primax_95']) if v in analysis.data['biodiesel_df'].columns]].index, errors='coerce')\n",
    "    display(analysis.missingno_matrix(analysis.data['primax_95_df'][[v for v in analysis.vars(['Primax_95']) if v in analysis.data['primax_95_df'].columns]], 14, 'W'))\n",
    "\n",
    "    display(Markdown(r'<h3> {}. {} </h3>'.format(3, \"Overview on Missing Pattern in <code>Primax 95</code> Data\")))\n",
    "    for district, data in analysis.data['missing_pect_primax_95'].groupby('District'):\n",
    "        display(analysis.heatmap_plot(data, district, rotate='vertical'))\n",
    "        \n",
    "    display(Markdown('[Home](#top)'))\n",
    "        \n",
    "#\n",
    "# Time series analysis\n",
    "#\n",
    "with accordions[section].children[2]:\n",
    "    clear_output()\n",
    "    \n",
    "    display(Markdown(r'<h3> Biodiesel Product Sales Across Time with Train-Test Split at: {} </h3>'.format(Config.MODELLING_CONFIG['METRIC_BEST_THRESH'])))\n",
    "    for district, data in analysis.data['primax_95_df'].groupby('District'):\n",
    "        display(Markdown(r'<h4> <code>{}</code> </h4>'.format(district)))\n",
    "        display(analysis.timeseries_plot(data.reset_index(), 'Date', 'Prod_Sales', datetime.date(2020,3,17), 'Primax Sales at {}'.format(district)))\n",
    "    \n",
    "    display(Markdown(r'<h3> Technical Features Extracted on Time Series Domain </h3>'))\n",
    "    for district, data in analysis.data['primax_95_df'].groupby('District'):\n",
    "        display(Markdown(r'<h4> {} </h4>'.format(district)))\n",
    "        display(analysis.plot_technical_indicators(data, 'Prod_Sales', data.shape[0]))\n",
    "        display(analysis.histogram_probability_plot(data, 'Prod_Sales', 50, district))\n",
    "        \n",
    "    display(Markdown(r'<h3> Technical Features Extracted on Frequency Domain </h3>'))\n",
    "    for district, data in analysis.data['primax_95_df'].groupby('District'):\n",
    "        display(Markdown(r'<h4> <code>{}</code> </h4>'.format(district)))\n",
    "        display(analysis.frequency_plot(data, 'Prod_Sales', district))\n",
    "        \n",
    "    display(Markdown('[Home](#top)'))\n",
    "        \n",
    "#\n",
    "# Modelling Analysis\n",
    "#\n",
    "with accordions[section].children[3]:\n",
    "    clear_output()\n",
    "    \n",
    "    display(Markdown(r'<h3> Modelling Analysis on Component of Time Series Data </h3>'))\n",
    "    for district, data in analysis.data['primax_95_df'].groupby('District'):\n",
    "        display(Markdown(r'<h4> Component of Primax Sales at <code>{}</code> </h4>'.format(district)))\n",
    "        display(analysis.component_plot(data, 'Prod_Sales'))\n",
    "        display(analysis.test_stationarity(data, 'Prod_Sales'))\n",
    "        \n",
    "    display(Markdown(r'<h3> Autocorrelation Plot Analysis </h3>'))\n",
    "    for district, data in analysis.data['primax_95_df'].groupby('District'):\n",
    "        display(analysis.scatter_lag_plots(data, 8, 'Prod_Sales', district))\n",
    "        display(analysis.autocorrelation_plot(data, 'Prod_Sales'))\n",
    "        display(analysis.partial_autocorrelation_plot(data, 'Prod_Sales'))\n",
    "        \n",
    "    display(Markdown('[Home](#top)'))"
   ]
  },
  {
   "cell_type": "code",
   "execution_count": null,
   "metadata": {},
   "outputs": [],
   "source": []
  },
  {
   "cell_type": "code",
   "execution_count": null,
   "metadata": {},
   "outputs": [],
   "source": []
  },
  {
   "cell_type": "markdown",
   "metadata": {},
   "source": [
    "# Testing"
   ]
  },
  {
   "cell_type": "code",
   "execution_count": 8,
   "metadata": {
    "ExecuteTime": {
     "end_time": "2020-08-30T08:18:16.868504Z",
     "start_time": "2020-08-30T08:18:16.857934Z"
    }
   },
   "outputs": [],
   "source": [
    "from statsmodels.tsa.vector_ar.var_model import VAR\n",
    "from statsmodels.tsa.arima_model import ARIMA\n",
    "from sklearn.metrics import mean_squared_error\n",
    "from pmdarima.arima import auto_arima\n",
    "from statsmodels.tsa.stattools import adfuller\n",
    "\n",
    "from math import sqrt\n",
    "from multiprocessing import cpu_count\n",
    "from joblib import Parallel\n",
    "from joblib import delayed\n",
    "\n",
    "from warnings import catch_warnings\n",
    "from warnings import filterwarnings\n",
    "\n",
    "%matplotlib inline"
   ]
  },
  {
   "cell_type": "code",
   "execution_count": 9,
   "metadata": {
    "ExecuteTime": {
     "end_time": "2020-08-30T08:18:16.903739Z",
     "start_time": "2020-08-30T08:18:16.870007Z"
    }
   },
   "outputs": [],
   "source": [
    "def difference(data, interval=1):\n",
    "    diff = list()\n",
    "    for i in range(interval, len(data)):\n",
    "        value = data[i] - data[i - interval]\n",
    "        diff.append(value)\n",
    "    return diff\n",
    "\n",
    "def inverse_difference(history, y_hat, interval=1):\n",
    "    return y_hat + history[-interval]\n",
    "\n",
    "def split_dataset(data, n_test):\n",
    "    train, test = data[0: n_test], series[n_test: len(data)]\n",
    "    train = np.array(np.array_split(train, round(len(train)/7)))\n",
    "    test = np.array(np.array_split(test, round(len(test)/7)))\n",
    "    return train, test\n",
    "\n",
    "def rolling_window(a, window):\n",
    "    shape = a.shape[:-1] + (a.shape[-1] - window + 1, window)\n",
    "    strides = a.strides + (a.strides[-1],)\n",
    "    return np.lib.stride_tricks.as_strided(a, shape=shape, strides=strides)\n",
    "\n",
    "def to_series(data):\n",
    "    series = np.concatenate((np.array(data).flatten()), axis=0)\n",
    "    return series\n",
    "\n",
    "def evaluate_forecasts(actual, predicted):\n",
    "    scores = list()\n",
    "    for i in range(actual.shape[1]):\n",
    "        mse = mean_squared_error(actual[:, i], predicted[:, i])\n",
    "        rmse = sqrt(mse)\n",
    "        scores.append(rmse)\n",
    "    s = 0\n",
    "    for row in range(actual.shape[0]):\n",
    "        for col in range(len(actual)):\n",
    "            s += (actual[row, col] - predicted[row, col])**2\n",
    "    score = sqrt(s / (actual.shape[0] * actual.shape[1]))\n",
    "    return score, scores\n",
    "\n",
    "def evaluate_model(model_func, train, test, orders):\n",
    "    history = [x for x in train]\n",
    "    predictions = list()\n",
    "    for i in range(len(test)):\n",
    "        y_hat_seq = model_func(history, orders)\n",
    "        predictions.append(y_hat_seq)\n",
    "        history.append(test[i])\n",
    "    predictions = np.array(predictions)\n",
    "    score, scores = evaluate_forecasts(test, predictions)\n",
    "    return score, scores, predictions\n",
    "\n",
    "def summarize_scores(name, score, scores):\n",
    "    s_scores = ', '.join(['%.1f' % s for s in scores])\n",
    "    print('%s: Total RMSE --> [%.3f]; Daily RMSE: %s' % (name, score, s_scores))\n",
    "\n",
    "def arima_forecast(history, arima_order):\n",
    "    series = to_series(history)\n",
    "    model = ARIMA(series, order=arima_order)\n",
    "    model_fit = model.fit(disp=False)\n",
    "    yhat = model_fit.predict(len(series), len(series)+6)\n",
    "    return yhat\n",
    "\n",
    "def Sarima_forecast(history, config):\n",
    "    order, sorder, trend = config\n",
    "    series = to_series(history)\n",
    "    model = SARIMAX(series, order=order, seasonal_order=sorder, trend=trend, enforce_stationarity=False, enforce_invertibility=False)\n",
    "    model_fit = model.fit(disp=0)\n",
    "    yhat = model_fit.predict(len(series), len(series)+6)\n",
    "    return yhat\n",
    "\n",
    "def evaluate_algorithms(models, orders, train, test):\n",
    "    prediction_simulations = list()\n",
    "    for (name, func), order in zip(models.items(), orders):\n",
    "        score, scores, predictions = evaluate_model(func, train, test, order)\n",
    "        summarize_scores(name, score, scores)\n",
    "        prediction_simulations.append(predictions)\n",
    "    return prediction_simulations\n",
    "\n",
    "def daily_errors_plot(x_var, y_var, title):\n",
    "    fig, ax = plt.subplots(figsize=(10, 5))\n",
    "    _ = plt.plot(x_var, y_var, marker='o', label=title)\n",
    "    _ = plt.ylabel('RMSE', fontsize=10)\n",
    "    _ = plt.ylabel('Days', fontsize=10)\n",
    "    _ = plt.title(title, fontsize=12, weight=\"bold\")\n",
    "    _ = plt.legend()\n",
    "    _ = plt.show()\n",
    "    \n",
    "    return _\n",
    "\n",
    "def arima_orders(p_values, d_values, q_values):\n",
    "    orders = list()\n",
    "    for p in p_values:\n",
    "        for d in d_values:\n",
    "            for q in q_values:\n",
    "                order = (p,d,q)\n",
    "                orders.append(order)\n",
    "    return orders\n",
    "\n",
    "def Sarima_configs(seasonal=[0]):\n",
    "    configs = list()\n",
    "    p_params = [0, 1, 2]\n",
    "    d_params = [0, 1]\n",
    "    q_params = [0, 1, 2]\n",
    "    t_params = ['n']\n",
    "    P_params = [0, 1, 2]\n",
    "    D_params = [0, 1]\n",
    "    Q_params = [0, 1, 2]\n",
    "    m_params = seasonal\n",
    "    # create config instances\n",
    "    for p in p_params:\n",
    "        for d in d_params:\n",
    "            for q in q_params:\n",
    "                for t in t_params:\n",
    "                    for P in P_params:\n",
    "                        for D in D_params:\n",
    "                            for Q in Q_params:\n",
    "                                for m in m_params:\n",
    "                                    cfg = [(p,d,q), (P,D,Q,m), t]\n",
    "                                    configs.append(cfg)\n",
    "    return configs"
   ]
  },
  {
   "cell_type": "code",
   "execution_count": 10,
   "metadata": {
    "ExecuteTime": {
     "end_time": "2020-08-30T08:18:16.932506Z",
     "start_time": "2020-08-30T08:18:16.905734Z"
    },
    "tags": []
   },
   "outputs": [
    {
     "name": "stdout",
     "output_type": "stream",
     "text": [
      "ADF Statistic: -0.635510\n",
      "p-value: 0.862755\n",
      "Critical Values:\n",
      "\t1%: -3.484\n",
      "\t5%: -2.885\n",
      "\t10%: -2.579\n"
     ]
    }
   ],
   "source": [
    "model_df = analysis.data['biodiesel_df'].loc[analysis.data['biodiesel_df']['District']==\"Sitiawan\"]\n",
    "model_df = model_df[['Prod_Sales']]\n",
    "\n",
    "result = adfuller(model_df['Prod_Sales'])\n",
    "print('ADF Statistic: %f' % result[0])\n",
    "print('p-value: %f' % result[1])\n",
    "print('Critical Values:')\n",
    "\n",
    "for key, value in result[4].items():\n",
    "    print('\\t%s: %.3f' % (key, value))\n",
    "    \n",
    "# if result[1] > 0.05:\n",
    "#     print(\"Time series is not stationary, applied differencing ...\")\n",
    "#     series = difference(model_df['Prod_Sales'])\n",
    "# elif result[1] < 0.05:\n",
    "#     print(\"Time series is stationary, no differencing is required!\")\n",
    "#     series = model_df['Prod_Sales']\n",
    "# else:\n",
    "#     print(\"P-value is not valid ...\")\n",
    "#     pass\n",
    "\n",
    "series = model_df['Prod_Sales'].values\n",
    "train_size = int(len(series) * 0.8)\n",
    "\n",
    "def split_dataset(data, y_var, data_series, n_test):\n",
    "    train, test = data[y_var][0: n_test], data[y_var][n_test: len(data)]\n",
    "    \n",
    "    test_series, test_series = data_series[0: n_test], data_series[n_test: len(data_series)]\n",
    "    train_series = np.array(np.array_split(train, round(len(train)/7)))\n",
    "    test_series = np.array(np.array_split(test, round(len(test)/7)))\n",
    "    return train, test, train_series, test_series\n",
    "\n",
    "train, test, train_series, test_series = split_dataset(model_df, \"Prod_Sales\", series, train_size)"
   ]
  },
  {
   "cell_type": "code",
   "execution_count": 11,
   "metadata": {
    "ExecuteTime": {
     "end_time": "2020-08-30T08:18:16.939334Z",
     "start_time": "2020-08-30T08:18:16.934118Z"
    }
   },
   "outputs": [],
   "source": [
    "N_TEST = round(model_df.shape[0] * 0.60)\n",
    "\n",
    "orders = list()\n",
    "arima_order = (1,0,0)\n",
    "orders.extend([arima_order])\n",
    "\n",
    "models = dict()\n",
    "models['arima'] = arima_forecast\n",
    "colors = list()\n",
    "colors.extend(['red','blue'])\n",
    "\n",
    "days = ['Mon', 'Tues', 'Wed', 'Thurs', 'Fri', 'Sat', 'Sun']"
   ]
  },
  {
   "cell_type": "code",
   "execution_count": 12,
   "metadata": {
    "ExecuteTime": {
     "end_time": "2020-08-30T08:18:17.302375Z",
     "start_time": "2020-08-30T08:18:16.941296Z"
    },
    "tags": []
   },
   "outputs": [
    {
     "name": "stdout",
     "output_type": "stream",
     "text": [
      "arima: Total RMSE --> [2059.010]; Daily RMSE: 1499.9, 2568.2, 3281.6, 3172.2, 4178.0, 5216.3, 4388.0\n"
     ]
    }
   ],
   "source": [
    "score, scores, predictions = evaluate_model(model_func=arima_forecast, train=train_series, test=test_series, orders=arima_order)\n",
    "prediction_simulations = evaluate_algorithms(models, orders, train=train_series, test=test_series)"
   ]
  },
  {
   "cell_type": "code",
   "execution_count": 13,
   "metadata": {
    "ExecuteTime": {
     "end_time": "2020-08-30T08:18:17.667090Z",
     "start_time": "2020-08-30T08:18:17.303442Z"
    }
   },
   "outputs": [
    {
     "data": {
      "image/png": "[encoded data removed]",
      "text/plain": [
       "<Figure size 720x360 with 1 Axes>"
      ]
     },
     "metadata": {
      "needs_background": "light"
     },
     "output_type": "display_data"
    }
   ],
   "source": [
    "daily_errors_plot(days, scores, \"Daily Errors Plot\")"
   ]
  },
  {
   "cell_type": "code",
   "execution_count": 14,
   "metadata": {
    "ExecuteTime": {
     "end_time": "2020-08-30T08:18:17.817134Z",
     "start_time": "2020-08-30T08:18:17.668937Z"
    }
   },
   "outputs": [
    {
     "data": {
      "image/png": "[encoded data removed]",
      "text/plain": [
       "<Figure size 720x360 with 1 Axes>"
      ]
     },
     "metadata": {
      "needs_background": "light"
     },
     "output_type": "display_data"
    },
    {
     "data": {
      "text/plain": [
       "<module 'matplotlib.pyplot' from 'C:\\\\Users\\\\kew.jingsheng\\\\AppData\\\\Local\\\\Continuum\\\\anaconda3\\\\envs\\\\ts_forecasting\\\\lib\\\\site-packages\\\\matplotlib\\\\pyplot.py'>"
      ]
     },
     "execution_count": 14,
     "metadata": {},
     "output_type": "execute_result"
    }
   ],
   "source": [
    "def plot_forecasts(models, train, test, prediction_simulations, colors, n_test, ylabel, title):\n",
    "    fig, ax = plt.subplots(figsize=(10, 5))\n",
    "    plt.plot(test.index, test.values, color = 'green', label=\"testing set\")\n",
    "    for i, (name, model), color in zip(range(len(prediction_simulations)), models.items(), colors):\n",
    "        prediction_value = np.array(prediction_simulations[i]).flatten()\n",
    "        predictions = pd.Series(prediction_value, index=test.index)\n",
    "        plt.plot(predictions.index, predictions.values, color=color, label=name)\n",
    "\n",
    "    plt.xlabel('Date')\n",
    "    plt.ylabel(ylabel)\n",
    "    plt.suptitle(title, fontsize=18, fontweight='bold')\n",
    "    plt.legend()\n",
    "    plt.show()\n",
    "    \n",
    "    return plt\n",
    "\n",
    "plot_forecasts(models, train, test, prediction_simulations, colors, N_TEST, \"Sales\", \"Actual vs Prediction\")"
   ]
  },
  {
   "cell_type": "code",
   "execution_count": 15,
   "metadata": {
    "ExecuteTime": {
     "end_time": "2020-08-30T08:18:17.824044Z",
     "start_time": "2020-08-30T08:18:17.818774Z"
    }
   },
   "outputs": [],
   "source": [
    "p_values = range(0, 8)\n",
    "d_values = range(0, 3)\n",
    "q_values = range(0, 2)\n",
    "\n",
    "orders_arima_list = arima_orders(p_values, d_values, q_values)"
   ]
  },
  {
   "cell_type": "code",
   "execution_count": 16,
   "metadata": {
    "ExecuteTime": {
     "end_time": "2020-08-30T08:18:17.836115Z",
     "start_time": "2020-08-30T08:18:17.826548Z"
    }
   },
   "outputs": [],
   "source": [
    "args = list()\n",
    "args.extend([orders_arima_list])"
   ]
  },
  {
   "cell_type": "code",
   "execution_count": 17,
   "metadata": {
    "ExecuteTime": {
     "end_time": "2020-08-30T08:18:17.844465Z",
     "start_time": "2020-08-30T08:18:17.838495Z"
    }
   },
   "outputs": [],
   "source": [
    "def evaluate_model(model_func, train, test, orders):\n",
    "    history = [x for x in train]\n",
    "    predictions = list()\n",
    "    for i in range(len(test)):\n",
    "        y_hat_seq = model_func(history, orders)\n",
    "        predictions.append(y_hat_seq)\n",
    "        history.append(test[i])\n",
    "    predictions = np.array(predictions)\n",
    "    score, scores = evaluate_forecasts(test, predictions)\n",
    "    return score, scores, predictions"
   ]
  },
  {
   "cell_type": "code",
   "execution_count": 18,
   "metadata": {
    "ExecuteTime": {
     "end_time": "2020-08-30T08:18:18.042547Z",
     "start_time": "2020-08-30T08:18:17.845741Z"
    },
    "tags": []
   },
   "outputs": [
    {
     "name": "stdout",
     "output_type": "stream",
     "text": [
      "2059.009724119694\n"
     ]
    }
   ],
   "source": [
    "score, scores, predictions = evaluate_model(model_func=arima_forecast, train=train_series, test=test_series, orders=arima_order)\n",
    "print(score)"
   ]
  },
  {
   "cell_type": "code",
   "execution_count": 19,
   "metadata": {
    "ExecuteTime": {
     "end_time": "2020-08-29T15:22:42.011700Z",
     "start_time": "2020-08-29T15:22:42.001328Z"
    }
   },
   "outputs": [],
   "source": [
    "def evaluate_arima_scores(model_func, model_name, train, test, orders, debug=False):\n",
    "    # score = None\n",
    "    if debug:\n",
    "        score, scores, predictions = evaluate_model(model_func, train, test, orders)\n",
    "    else:\n",
    "        try:\n",
    "            with catch_warnings():\n",
    "                filterwarnings(\"ignore\")\n",
    "                score, scores, predictions = evaluate_model(model_func, train, test, orders)\n",
    "        except:\n",
    "            score = None\n",
    "    if score is not None:\n",
    "        print(model_name + '%s RMSE=%.3f' % (orders, score))\n",
    "    return (orders, score)"
   ]
  },
  {
   "cell_type": "code",
   "execution_count": 20,
   "metadata": {
    "ExecuteTime": {
     "end_time": "2020-08-29T16:03:20.779968Z",
     "start_time": "2020-08-29T16:03:20.773738Z"
    }
   },
   "outputs": [],
   "source": [
    "orders_list = orders_arima_list\n",
    "model_func = models.values()\n",
    "model_name = models.keys()"
   ]
  },
  {
   "cell_type": "code",
   "execution_count": null,
   "metadata": {},
   "outputs": [],
   "source": []
  },
  {
   "cell_type": "code",
   "execution_count": 21,
   "metadata": {
    "ExecuteTime": {
     "end_time": "2020-08-29T16:03:21.134807Z",
     "start_time": "2020-08-29T16:03:21.122141Z"
    },
    "tags": []
   },
   "outputs": [
    {
     "name": "stdout",
     "output_type": "stream",
     "text": [
      "[]\n"
     ]
    }
   ],
   "source": [
    "for (model, func), arg in zip(models.items(), args):\n",
    "    scores = None\n",
    "    scores = [evaluate_arima_scores(func, model, train, test, order) for order in orders_list]\n",
    "    scores = [r for r in scores if r[1] != None]\n",
    "    print(scores)"
   ]
  },
  {
   "cell_type": "code",
   "execution_count": 65,
   "metadata": {},
   "outputs": [],
   "source": []
  },
  {
   "cell_type": "code",
   "execution_count": null,
   "metadata": {},
   "outputs": [],
   "source": [
    "def grid_search_arima(model_func, model_name, train, test, orders_list):\n",
    "    scores = None\n",
    "    scores = [evaluate_arima_scores(model_func, model_name, train, test, order) for order in orders_list]\n",
    "\n",
    "    scores = [r for r in scores if r[1] != None]\n",
    "    "
   ]
  },
  {
   "cell_type": "code",
   "execution_count": null,
   "metadata": {},
   "outputs": [],
   "source": [
    "# grid search configs for ARIMA model\n",
    "def grid_search_arima_family(func, name, train, test, orders_list, parallel=True):\n",
    "    scores = None\n",
    "    if parallel:\n",
    "        # execute configs in parallel\n",
    "        executor = Parallel(n_jobs=cpu_count(), backend='multiprocessing')\n",
    "        tasks = (delayed(evaluate_arima_family_scores)(func, name, train, test, order) for order in orders_list)\n",
    "        scores = executor(tasks)\n",
    "    else:\n",
    "        scores = [evaluate_arima_family_scores(func, name, train, test, order) for order in orders_list]\n",
    "    # remove empty results\n",
    "    scores = [r for r in scores if r[1] != None]\n",
    "    # sort configs by error, asc\n",
    "    scores.sort(key=lambda tup: tup[1])\n",
    "    return scores, name"
   ]
  },
  {
   "cell_type": "code",
   "execution_count": null,
   "metadata": {},
   "outputs": [],
   "source": []
  },
  {
   "cell_type": "code",
   "execution_count": 481,
   "metadata": {
    "ExecuteTime": {
     "end_time": "2020-08-17T15:12:14.017308Z",
     "start_time": "2020-08-17T15:12:14.003380Z"
    }
   },
   "outputs": [],
   "source": [
    "residuals_model = dict() \n",
    "\n",
    "def plot_residuals(models, test, prediction_simulations, colors, n_test):\n",
    "    test = np.reshape(test, (test.shape[0]*test.shape[1], test.shape[2]))\n",
    "    fig, (ax1, ax2, ax3) = plt.subplots(nrows=3, ncols=1, figsize=(8,8))\n",
    "    \n",
    "    for i, (name, model), color in zip(range(len(prediction_simulations)), models.items(), colors):\n",
    "        predictions = np.array(prediction_simulations[i]).flatten()\n",
    "        residuals = [test[i,0] - predictions[i] for i in range(len(test))]\n",
    "        residuals = pd.DataFrame(residuals)\n",
    "        residuals.plot(kind = 'line', ax = ax1, color=color)\n",
    "        residuals.hist(ax = ax2, bins = 30, color=color)\n",
    "        residuals.plot(kind = 'kde', ax = ax3, color=color)\n",
    "        \n",
    "        residuals_model[name] = residuals\n",
    "        \n",
    "    ax1.set_ylabel('Residual value ($)')\n",
    "    ax1.set_xlabel('Time (days)')\n",
    "    ax2.set_ylabel('Counts')\n",
    "    plt.xlabel('Price ($)')\n",
    "    ax1.legend(['arima','Sarima'])\n",
    "    ax2.legend(['arima','Sarima'])\n",
    "    ax3.legend(['arima','Sarima'])\n",
    "    fig.suptitle(r'Evolution of the residuals', fontsize=18, fontweight='bold', y=0.92)\n",
    "    plt.show()"
   ]
  },
  {
   "cell_type": "code",
   "execution_count": null,
   "metadata": {},
   "outputs": [],
   "source": []
  },
  {
   "cell_type": "code",
   "execution_count": 31,
   "metadata": {
    "ExecuteTime": {
     "end_time": "2020-08-08T17:35:19.411026Z",
     "start_time": "2020-08-08T17:35:19.154392Z"
    }
   },
   "outputs": [
    {
     "name": "stdout",
     "output_type": "stream",
     "text": [
      "                             ARIMA Model Results                              \n",
      "==============================================================================\n",
      "Dep. Variable:                    D.y   No. Observations:                  109\n",
      "Model:                 ARIMA(5, 1, 0)   Log Likelihood                -999.108\n",
      "Method:                       css-mle   S.D. of innovations           2299.191\n",
      "Date:                Sun, 09 Aug 2020   AIC                           2012.216\n",
      "Time:                        01:35:19   BIC                           2031.055\n",
      "Sample:                             1   HQIC                          2019.856\n",
      "                                                                              \n",
      "==============================================================================\n",
      "                 coef    std err          z      P>|z|      [0.025      0.975]\n",
      "------------------------------------------------------------------------------\n",
      "const         -2.2300     58.141     -0.038      0.969    -116.184     111.724\n",
      "ar.L1.D.y     -1.0799      0.096    -11.280      0.000      -1.268      -0.892\n",
      "ar.L2.D.y     -0.8993      0.140     -6.431      0.000      -1.173      -0.625\n",
      "ar.L3.D.y     -0.6250      0.153     -4.076      0.000      -0.926      -0.324\n",
      "ar.L4.D.y     -0.2215      0.141     -1.566      0.117      -0.499       0.056\n",
      "ar.L5.D.y     -0.0164      0.097     -0.170      0.865      -0.206       0.173\n",
      "                                    Roots                                    \n",
      "=============================================================================\n",
      "                  Real          Imaginary           Modulus         Frequency\n",
      "-----------------------------------------------------------------------------\n",
      "AR.1            0.0444           -1.3542j            1.3549           -0.2448\n",
      "AR.2            0.0444           +1.3542j            1.3549            0.2448\n",
      "AR.3           -1.6706           -0.6718j            1.8007           -0.4391\n",
      "AR.4           -1.6706           +0.6718j            1.8007            0.4391\n",
      "AR.5          -10.2218           -0.0000j           10.2218           -0.5000\n",
      "-----------------------------------------------------------------------------\n"
     ]
    }
   ],
   "source": [
    "model = ARIMA(train, order=(1,1,1))\n",
    "model_fit = model.fit(disp=0)\n",
    "print(model_fit.summary())"
   ]
  },
  {
   "cell_type": "code",
   "execution_count": 33,
   "metadata": {
    "ExecuteTime": {
     "end_time": "2020-08-08T17:35:23.661933Z",
     "start_time": "2020-08-08T17:35:23.457992Z"
    }
   },
   "outputs": [
    {
     "data": {
      "image/png": "[encoded data removed]",
      "text/plain": [
       "<Figure size 1080x216 with 2 Axes>"
      ]
     },
     "metadata": {
      "needs_background": "light"
     },
     "output_type": "display_data"
    }
   ],
   "source": [
    "residuals = pd.DataFrame(model_fit.resid)\n",
    "fig, ax = plt.subplots(1,2, figsize=(15,3))\n",
    "residuals.plot(title=\"Residuals\", ax=ax[0])\n",
    "residuals.plot(kind='kde', title='Density', ax=ax[1])\n",
    "plt.show()"
   ]
  },
  {
   "cell_type": "code",
   "execution_count": 53,
   "metadata": {
    "ExecuteTime": {
     "end_time": "2020-08-08T17:45:12.418004Z",
     "start_time": "2020-08-08T17:45:10.625766Z"
    }
   },
   "outputs": [
    {
     "name": "stdout",
     "output_type": "stream",
     "text": [
      "RMSE: 1650.687\n"
     ]
    }
   ],
   "source": [
    "history = [x for x in train]\n",
    "predictions = list()\n",
    "\n",
    "for i in range(len(test)):\n",
    "    model = ARIMA(history, order=(1,0,1))\n",
    "    model_fit = model.fit(disp=0)\n",
    "    \n",
    "    y_hat = model_fit.forecast()[0]\n",
    "    y_hat = inverse_difference(history, y_hat)\n",
    "    predictions.append(y_hat)\n",
    "    obs = test[i]\n",
    "    history.append(obs)\n",
    "    \n",
    "mse = mean_squared_error(test, predictions)\n",
    "rmse = sqrt(mse)\n",
    "print('RMSE: %.3f' % rmse)"
   ]
  },
  {
   "cell_type": "code",
   "execution_count": 16,
   "metadata": {
    "ExecuteTime": {
     "end_time": "2020-08-01T08:25:10.766209Z",
     "start_time": "2020-08-01T08:25:02.507849Z"
    }
   },
   "outputs": [
    {
     "name": "stdout",
     "output_type": "stream",
     "text": [
      "predicted=2511.285810, expected=2200.000000\n",
      "predicted=2511.285810, expected=2400.000000\n",
      "predicted=2511.285810, expected=1800.000000\n",
      "predicted=2511.285810, expected=2300.000000\n",
      "predicted=2511.285810, expected=2000.000000\n",
      "predicted=2511.285810, expected=700.000000\n",
      "predicted=2511.285810, expected=2900.000000\n",
      "predicted=2511.285810, expected=2400.000000\n",
      "predicted=2511.285810, expected=3100.000000\n",
      "predicted=2511.285810, expected=2200.000000\n",
      "predicted=2511.285810, expected=3100.000000\n",
      "predicted=2511.285810, expected=1600.000000\n",
      "predicted=2511.285810, expected=500.000000\n",
      "predicted=2511.285810, expected=400.000000\n",
      "predicted=2511.285810, expected=2300.000000\n",
      "predicted=2511.285810, expected=1000.000000\n",
      "predicted=2511.285810, expected=3300.000000\n",
      "predicted=2511.285810, expected=2000.000000\n",
      "predicted=2511.285810, expected=1600.000000\n",
      "predicted=2511.285810, expected=800.000000\n",
      "predicted=2511.285810, expected=2600.000000\n",
      "predicted=2511.285810, expected=3000.000000\n",
      "predicted=2511.285810, expected=2900.000000\n",
      "predicted=2511.285810, expected=2200.000000\n",
      "predicted=2511.285810, expected=3600.000000\n",
      "predicted=2511.285810, expected=2200.000000\n",
      "predicted=2511.285810, expected=1900.000000\n",
      "predicted=2511.285810, expected=1800.000000\n",
      "Test MSE: 861298.875\n"
     ]
    },
    {
     "ename": "ValueError",
     "evalue": "view limit minimum -36876.75 is less than 1 and is an invalid Matplotlib date value. This often happens if you pass a non-datetime value to an axis that has datetime units",
     "output_type": "error",
     "traceback": [
      "\u001b[1;31m---------------------------------------------------------------------------\u001b[0m",
      "\u001b[1;31mValueError\u001b[0m                                Traceback (most recent call last)",
      "\u001b[1;32m<ipython-input-16-58e5b364366d>\u001b[0m in \u001b[0;36m<module>\u001b[1;34m\u001b[0m\n\u001b[0;32m     15\u001b[0m \u001b[0mplt\u001b[0m\u001b[1;33m.\u001b[0m\u001b[0mplot\u001b[0m\u001b[1;33m(\u001b[0m\u001b[0mtest\u001b[0m\u001b[1;33m)\u001b[0m\u001b[1;33m\u001b[0m\u001b[1;33m\u001b[0m\u001b[0m\n\u001b[0;32m     16\u001b[0m \u001b[0mplt\u001b[0m\u001b[1;33m.\u001b[0m\u001b[0mplot\u001b[0m\u001b[1;33m(\u001b[0m\u001b[0mpredictions\u001b[0m\u001b[1;33m,\u001b[0m \u001b[0mcolor\u001b[0m\u001b[1;33m=\u001b[0m\u001b[1;34m'red'\u001b[0m\u001b[1;33m)\u001b[0m\u001b[1;33m\u001b[0m\u001b[1;33m\u001b[0m\u001b[0m\n\u001b[1;32m---> 17\u001b[1;33m \u001b[0mplt\u001b[0m\u001b[1;33m.\u001b[0m\u001b[0mshow\u001b[0m\u001b[1;33m(\u001b[0m\u001b[1;33m)\u001b[0m\u001b[1;33m\u001b[0m\u001b[1;33m\u001b[0m\u001b[0m\n\u001b[0m",
      "\u001b[1;32m~\\AppData\\Local\\Continuum\\anaconda3\\envs\\ts_forecasting\\lib\\site-packages\\matplotlib\\pyplot.py\u001b[0m in \u001b[0;36mshow\u001b[1;34m(*args, **kw)\u001b[0m\n\u001b[0;32m    270\u001b[0m     \"\"\"\n\u001b[0;32m    271\u001b[0m     \u001b[1;32mglobal\u001b[0m \u001b[0m_show\u001b[0m\u001b[1;33m\u001b[0m\u001b[1;33m\u001b[0m\u001b[0m\n\u001b[1;32m--> 272\u001b[1;33m     \u001b[1;32mreturn\u001b[0m \u001b[0m_show\u001b[0m\u001b[1;33m(\u001b[0m\u001b[1;33m*\u001b[0m\u001b[0margs\u001b[0m\u001b[1;33m,\u001b[0m \u001b[1;33m**\u001b[0m\u001b[0mkw\u001b[0m\u001b[1;33m)\u001b[0m\u001b[1;33m\u001b[0m\u001b[1;33m\u001b[0m\u001b[0m\n\u001b[0m\u001b[0;32m    273\u001b[0m \u001b[1;33m\u001b[0m\u001b[0m\n\u001b[0;32m    274\u001b[0m \u001b[1;33m\u001b[0m\u001b[0m\n",
      "\u001b[1;32m~\\AppData\\Local\\Continuum\\anaconda3\\envs\\ts_forecasting\\lib\\site-packages\\ipykernel\\pylab\\backend_inline.py\u001b[0m in \u001b[0;36mshow\u001b[1;34m(close, block)\u001b[0m\n\u001b[0;32m     41\u001b[0m             display(\n\u001b[0;32m     42\u001b[0m                 \u001b[0mfigure_manager\u001b[0m\u001b[1;33m.\u001b[0m\u001b[0mcanvas\u001b[0m\u001b[1;33m.\u001b[0m\u001b[0mfigure\u001b[0m\u001b[1;33m,\u001b[0m\u001b[1;33m\u001b[0m\u001b[1;33m\u001b[0m\u001b[0m\n\u001b[1;32m---> 43\u001b[1;33m                 \u001b[0mmetadata\u001b[0m\u001b[1;33m=\u001b[0m\u001b[0m_fetch_figure_metadata\u001b[0m\u001b[1;33m(\u001b[0m\u001b[0mfigure_manager\u001b[0m\u001b[1;33m.\u001b[0m\u001b[0mcanvas\u001b[0m\u001b[1;33m.\u001b[0m\u001b[0mfigure\u001b[0m\u001b[1;33m)\u001b[0m\u001b[1;33m\u001b[0m\u001b[1;33m\u001b[0m\u001b[0m\n\u001b[0m\u001b[0;32m     44\u001b[0m             )\n\u001b[0;32m     45\u001b[0m     \u001b[1;32mfinally\u001b[0m\u001b[1;33m:\u001b[0m\u001b[1;33m\u001b[0m\u001b[1;33m\u001b[0m\u001b[0m\n",
      "\u001b[1;32m~\\AppData\\Local\\Continuum\\anaconda3\\envs\\ts_forecasting\\lib\\site-packages\\ipykernel\\pylab\\backend_inline.py\u001b[0m in \u001b[0;36m_fetch_figure_metadata\u001b[1;34m(fig)\u001b[0m\n\u001b[0;32m    179\u001b[0m         \u001b[1;31m# the background is transparent\u001b[0m\u001b[1;33m\u001b[0m\u001b[1;33m\u001b[0m\u001b[1;33m\u001b[0m\u001b[0m\n\u001b[0;32m    180\u001b[0m         ticksLight = _is_light([label.get_color()\n\u001b[1;32m--> 181\u001b[1;33m                                 \u001b[1;32mfor\u001b[0m \u001b[0maxes\u001b[0m \u001b[1;32min\u001b[0m \u001b[0mfig\u001b[0m\u001b[1;33m.\u001b[0m\u001b[0maxes\u001b[0m\u001b[1;33m\u001b[0m\u001b[1;33m\u001b[0m\u001b[0m\n\u001b[0m\u001b[0;32m    182\u001b[0m                                 \u001b[1;32mfor\u001b[0m \u001b[0maxis\u001b[0m \u001b[1;32min\u001b[0m \u001b[1;33m(\u001b[0m\u001b[0maxes\u001b[0m\u001b[1;33m.\u001b[0m\u001b[0mxaxis\u001b[0m\u001b[1;33m,\u001b[0m \u001b[0maxes\u001b[0m\u001b[1;33m.\u001b[0m\u001b[0myaxis\u001b[0m\u001b[1;33m)\u001b[0m\u001b[1;33m\u001b[0m\u001b[1;33m\u001b[0m\u001b[0m\n\u001b[0;32m    183\u001b[0m                                 for label in axis.get_ticklabels()])\n",
      "\u001b[1;32m~\\AppData\\Local\\Continuum\\anaconda3\\envs\\ts_forecasting\\lib\\site-packages\\ipykernel\\pylab\\backend_inline.py\u001b[0m in \u001b[0;36m<listcomp>\u001b[1;34m(.0)\u001b[0m\n\u001b[0;32m    181\u001b[0m                                 \u001b[1;32mfor\u001b[0m \u001b[0maxes\u001b[0m \u001b[1;32min\u001b[0m \u001b[0mfig\u001b[0m\u001b[1;33m.\u001b[0m\u001b[0maxes\u001b[0m\u001b[1;33m\u001b[0m\u001b[1;33m\u001b[0m\u001b[0m\n\u001b[0;32m    182\u001b[0m                                 \u001b[1;32mfor\u001b[0m \u001b[0maxis\u001b[0m \u001b[1;32min\u001b[0m \u001b[1;33m(\u001b[0m\u001b[0maxes\u001b[0m\u001b[1;33m.\u001b[0m\u001b[0mxaxis\u001b[0m\u001b[1;33m,\u001b[0m \u001b[0maxes\u001b[0m\u001b[1;33m.\u001b[0m\u001b[0myaxis\u001b[0m\u001b[1;33m)\u001b[0m\u001b[1;33m\u001b[0m\u001b[1;33m\u001b[0m\u001b[0m\n\u001b[1;32m--> 183\u001b[1;33m                                 for label in axis.get_ticklabels()])\n\u001b[0m\u001b[0;32m    184\u001b[0m         \u001b[1;32mif\u001b[0m \u001b[0mticksLight\u001b[0m\u001b[1;33m.\u001b[0m\u001b[0msize\u001b[0m \u001b[1;32mand\u001b[0m \u001b[1;33m(\u001b[0m\u001b[0mticksLight\u001b[0m \u001b[1;33m==\u001b[0m \u001b[0mticksLight\u001b[0m\u001b[1;33m[\u001b[0m\u001b[1;36m0\u001b[0m\u001b[1;33m]\u001b[0m\u001b[1;33m)\u001b[0m\u001b[1;33m.\u001b[0m\u001b[0mall\u001b[0m\u001b[1;33m(\u001b[0m\u001b[1;33m)\u001b[0m\u001b[1;33m:\u001b[0m\u001b[1;33m\u001b[0m\u001b[1;33m\u001b[0m\u001b[0m\n\u001b[0;32m    185\u001b[0m             \u001b[1;31m# there are one or more tick labels, all with the same lightness\u001b[0m\u001b[1;33m\u001b[0m\u001b[1;33m\u001b[0m\u001b[1;33m\u001b[0m\u001b[0m\n",
      "\u001b[1;32m~\\AppData\\Local\\Continuum\\anaconda3\\envs\\ts_forecasting\\lib\\site-packages\\matplotlib\\axis.py\u001b[0m in \u001b[0;36mget_ticklabels\u001b[1;34m(self, minor, which)\u001b[0m\n\u001b[0;32m   1318\u001b[0m         \u001b[1;32mif\u001b[0m \u001b[0mminor\u001b[0m\u001b[1;33m:\u001b[0m\u001b[1;33m\u001b[0m\u001b[1;33m\u001b[0m\u001b[0m\n\u001b[0;32m   1319\u001b[0m             \u001b[1;32mreturn\u001b[0m \u001b[0mself\u001b[0m\u001b[1;33m.\u001b[0m\u001b[0mget_minorticklabels\u001b[0m\u001b[1;33m(\u001b[0m\u001b[1;33m)\u001b[0m\u001b[1;33m\u001b[0m\u001b[1;33m\u001b[0m\u001b[0m\n\u001b[1;32m-> 1320\u001b[1;33m         \u001b[1;32mreturn\u001b[0m \u001b[0mself\u001b[0m\u001b[1;33m.\u001b[0m\u001b[0mget_majorticklabels\u001b[0m\u001b[1;33m(\u001b[0m\u001b[1;33m)\u001b[0m\u001b[1;33m\u001b[0m\u001b[1;33m\u001b[0m\u001b[0m\n\u001b[0m\u001b[0;32m   1321\u001b[0m \u001b[1;33m\u001b[0m\u001b[0m\n\u001b[0;32m   1322\u001b[0m     \u001b[1;32mdef\u001b[0m \u001b[0mget_majorticklines\u001b[0m\u001b[1;33m(\u001b[0m\u001b[0mself\u001b[0m\u001b[1;33m)\u001b[0m\u001b[1;33m:\u001b[0m\u001b[1;33m\u001b[0m\u001b[1;33m\u001b[0m\u001b[0m\n",
      "\u001b[1;32m~\\AppData\\Local\\Continuum\\anaconda3\\envs\\ts_forecasting\\lib\\site-packages\\matplotlib\\axis.py\u001b[0m in \u001b[0;36mget_majorticklabels\u001b[1;34m(self)\u001b[0m\n\u001b[0;32m   1274\u001b[0m     \u001b[1;32mdef\u001b[0m \u001b[0mget_majorticklabels\u001b[0m\u001b[1;33m(\u001b[0m\u001b[0mself\u001b[0m\u001b[1;33m)\u001b[0m\u001b[1;33m:\u001b[0m\u001b[1;33m\u001b[0m\u001b[1;33m\u001b[0m\u001b[0m\n\u001b[0;32m   1275\u001b[0m         \u001b[1;34m'Return a list of Text instances for the major ticklabels.'\u001b[0m\u001b[1;33m\u001b[0m\u001b[1;33m\u001b[0m\u001b[0m\n\u001b[1;32m-> 1276\u001b[1;33m         \u001b[0mticks\u001b[0m \u001b[1;33m=\u001b[0m \u001b[0mself\u001b[0m\u001b[1;33m.\u001b[0m\u001b[0mget_major_ticks\u001b[0m\u001b[1;33m(\u001b[0m\u001b[1;33m)\u001b[0m\u001b[1;33m\u001b[0m\u001b[1;33m\u001b[0m\u001b[0m\n\u001b[0m\u001b[0;32m   1277\u001b[0m         \u001b[0mlabels1\u001b[0m \u001b[1;33m=\u001b[0m \u001b[1;33m[\u001b[0m\u001b[0mtick\u001b[0m\u001b[1;33m.\u001b[0m\u001b[0mlabel1\u001b[0m \u001b[1;32mfor\u001b[0m \u001b[0mtick\u001b[0m \u001b[1;32min\u001b[0m \u001b[0mticks\u001b[0m \u001b[1;32mif\u001b[0m \u001b[0mtick\u001b[0m\u001b[1;33m.\u001b[0m\u001b[0mlabel1\u001b[0m\u001b[1;33m.\u001b[0m\u001b[0mget_visible\u001b[0m\u001b[1;33m(\u001b[0m\u001b[1;33m)\u001b[0m\u001b[1;33m]\u001b[0m\u001b[1;33m\u001b[0m\u001b[1;33m\u001b[0m\u001b[0m\n\u001b[0;32m   1278\u001b[0m         \u001b[0mlabels2\u001b[0m \u001b[1;33m=\u001b[0m \u001b[1;33m[\u001b[0m\u001b[0mtick\u001b[0m\u001b[1;33m.\u001b[0m\u001b[0mlabel2\u001b[0m \u001b[1;32mfor\u001b[0m \u001b[0mtick\u001b[0m \u001b[1;32min\u001b[0m \u001b[0mticks\u001b[0m \u001b[1;32mif\u001b[0m \u001b[0mtick\u001b[0m\u001b[1;33m.\u001b[0m\u001b[0mlabel2\u001b[0m\u001b[1;33m.\u001b[0m\u001b[0mget_visible\u001b[0m\u001b[1;33m(\u001b[0m\u001b[1;33m)\u001b[0m\u001b[1;33m]\u001b[0m\u001b[1;33m\u001b[0m\u001b[1;33m\u001b[0m\u001b[0m\n",
      "\u001b[1;32m~\\AppData\\Local\\Continuum\\anaconda3\\envs\\ts_forecasting\\lib\\site-packages\\matplotlib\\axis.py\u001b[0m in \u001b[0;36mget_major_ticks\u001b[1;34m(self, numticks)\u001b[0m\n\u001b[0;32m   1429\u001b[0m         \u001b[1;34m'Get the tick instances; grow as necessary.'\u001b[0m\u001b[1;33m\u001b[0m\u001b[1;33m\u001b[0m\u001b[0m\n\u001b[0;32m   1430\u001b[0m         \u001b[1;32mif\u001b[0m \u001b[0mnumticks\u001b[0m \u001b[1;32mis\u001b[0m \u001b[1;32mNone\u001b[0m\u001b[1;33m:\u001b[0m\u001b[1;33m\u001b[0m\u001b[1;33m\u001b[0m\u001b[0m\n\u001b[1;32m-> 1431\u001b[1;33m             \u001b[0mnumticks\u001b[0m \u001b[1;33m=\u001b[0m \u001b[0mlen\u001b[0m\u001b[1;33m(\u001b[0m\u001b[0mself\u001b[0m\u001b[1;33m.\u001b[0m\u001b[0mget_majorticklocs\u001b[0m\u001b[1;33m(\u001b[0m\u001b[1;33m)\u001b[0m\u001b[1;33m)\u001b[0m\u001b[1;33m\u001b[0m\u001b[1;33m\u001b[0m\u001b[0m\n\u001b[0m\u001b[0;32m   1432\u001b[0m \u001b[1;33m\u001b[0m\u001b[0m\n\u001b[0;32m   1433\u001b[0m         \u001b[1;32mwhile\u001b[0m \u001b[0mlen\u001b[0m\u001b[1;33m(\u001b[0m\u001b[0mself\u001b[0m\u001b[1;33m.\u001b[0m\u001b[0mmajorTicks\u001b[0m\u001b[1;33m)\u001b[0m \u001b[1;33m<\u001b[0m \u001b[0mnumticks\u001b[0m\u001b[1;33m:\u001b[0m\u001b[1;33m\u001b[0m\u001b[1;33m\u001b[0m\u001b[0m\n",
      "\u001b[1;32m~\\AppData\\Local\\Continuum\\anaconda3\\envs\\ts_forecasting\\lib\\site-packages\\matplotlib\\axis.py\u001b[0m in \u001b[0;36mget_majorticklocs\u001b[1;34m(self)\u001b[0m\n\u001b[0;32m   1346\u001b[0m     \u001b[1;32mdef\u001b[0m \u001b[0mget_majorticklocs\u001b[0m\u001b[1;33m(\u001b[0m\u001b[0mself\u001b[0m\u001b[1;33m)\u001b[0m\u001b[1;33m:\u001b[0m\u001b[1;33m\u001b[0m\u001b[1;33m\u001b[0m\u001b[0m\n\u001b[0;32m   1347\u001b[0m         \u001b[1;34m\"\"\"Get the array of major tick locations in data coordinates.\"\"\"\u001b[0m\u001b[1;33m\u001b[0m\u001b[1;33m\u001b[0m\u001b[0m\n\u001b[1;32m-> 1348\u001b[1;33m         \u001b[1;32mreturn\u001b[0m \u001b[0mself\u001b[0m\u001b[1;33m.\u001b[0m\u001b[0mmajor\u001b[0m\u001b[1;33m.\u001b[0m\u001b[0mlocator\u001b[0m\u001b[1;33m(\u001b[0m\u001b[1;33m)\u001b[0m\u001b[1;33m\u001b[0m\u001b[1;33m\u001b[0m\u001b[0m\n\u001b[0m\u001b[0;32m   1349\u001b[0m \u001b[1;33m\u001b[0m\u001b[0m\n\u001b[0;32m   1350\u001b[0m     \u001b[1;32mdef\u001b[0m \u001b[0mget_minorticklocs\u001b[0m\u001b[1;33m(\u001b[0m\u001b[0mself\u001b[0m\u001b[1;33m)\u001b[0m\u001b[1;33m:\u001b[0m\u001b[1;33m\u001b[0m\u001b[1;33m\u001b[0m\u001b[0m\n",
      "\u001b[1;32m~\\AppData\\Local\\Continuum\\anaconda3\\envs\\ts_forecasting\\lib\\site-packages\\matplotlib\\dates.py\u001b[0m in \u001b[0;36m__call__\u001b[1;34m(self)\u001b[0m\n\u001b[0;32m   1336\u001b[0m     \u001b[1;32mdef\u001b[0m \u001b[0m__call__\u001b[0m\u001b[1;33m(\u001b[0m\u001b[0mself\u001b[0m\u001b[1;33m)\u001b[0m\u001b[1;33m:\u001b[0m\u001b[1;33m\u001b[0m\u001b[1;33m\u001b[0m\u001b[0m\n\u001b[0;32m   1337\u001b[0m         \u001b[1;34m'Return the locations of the ticks'\u001b[0m\u001b[1;33m\u001b[0m\u001b[1;33m\u001b[0m\u001b[0m\n\u001b[1;32m-> 1338\u001b[1;33m         \u001b[0mself\u001b[0m\u001b[1;33m.\u001b[0m\u001b[0mrefresh\u001b[0m\u001b[1;33m(\u001b[0m\u001b[1;33m)\u001b[0m\u001b[1;33m\u001b[0m\u001b[1;33m\u001b[0m\u001b[0m\n\u001b[0m\u001b[0;32m   1339\u001b[0m         \u001b[1;32mreturn\u001b[0m \u001b[0mself\u001b[0m\u001b[1;33m.\u001b[0m\u001b[0m_locator\u001b[0m\u001b[1;33m(\u001b[0m\u001b[1;33m)\u001b[0m\u001b[1;33m\u001b[0m\u001b[1;33m\u001b[0m\u001b[0m\n\u001b[0;32m   1340\u001b[0m \u001b[1;33m\u001b[0m\u001b[0m\n",
      "\u001b[1;32m~\\AppData\\Local\\Continuum\\anaconda3\\envs\\ts_forecasting\\lib\\site-packages\\matplotlib\\dates.py\u001b[0m in \u001b[0;36mrefresh\u001b[1;34m(self)\u001b[0m\n\u001b[0;32m   1362\u001b[0m     \u001b[1;32mdef\u001b[0m \u001b[0mrefresh\u001b[0m\u001b[1;33m(\u001b[0m\u001b[0mself\u001b[0m\u001b[1;33m)\u001b[0m\u001b[1;33m:\u001b[0m\u001b[1;33m\u001b[0m\u001b[1;33m\u001b[0m\u001b[0m\n\u001b[0;32m   1363\u001b[0m         \u001b[1;31m# docstring inherited\u001b[0m\u001b[1;33m\u001b[0m\u001b[1;33m\u001b[0m\u001b[1;33m\u001b[0m\u001b[0m\n\u001b[1;32m-> 1364\u001b[1;33m         \u001b[0mdmin\u001b[0m\u001b[1;33m,\u001b[0m \u001b[0mdmax\u001b[0m \u001b[1;33m=\u001b[0m \u001b[0mself\u001b[0m\u001b[1;33m.\u001b[0m\u001b[0mviewlim_to_dt\u001b[0m\u001b[1;33m(\u001b[0m\u001b[1;33m)\u001b[0m\u001b[1;33m\u001b[0m\u001b[1;33m\u001b[0m\u001b[0m\n\u001b[0m\u001b[0;32m   1365\u001b[0m         \u001b[0mself\u001b[0m\u001b[1;33m.\u001b[0m\u001b[0m_locator\u001b[0m \u001b[1;33m=\u001b[0m \u001b[0mself\u001b[0m\u001b[1;33m.\u001b[0m\u001b[0mget_locator\u001b[0m\u001b[1;33m(\u001b[0m\u001b[0mdmin\u001b[0m\u001b[1;33m,\u001b[0m \u001b[0mdmax\u001b[0m\u001b[1;33m)\u001b[0m\u001b[1;33m\u001b[0m\u001b[1;33m\u001b[0m\u001b[0m\n\u001b[0;32m   1366\u001b[0m \u001b[1;33m\u001b[0m\u001b[0m\n",
      "\u001b[1;32m~\\AppData\\Local\\Continuum\\anaconda3\\envs\\ts_forecasting\\lib\\site-packages\\matplotlib\\dates.py\u001b[0m in \u001b[0;36mviewlim_to_dt\u001b[1;34m(self)\u001b[0m\n\u001b[0;32m   1096\u001b[0m                              \u001b[1;34m'often happens if you pass a non-datetime '\u001b[0m\u001b[1;33m\u001b[0m\u001b[1;33m\u001b[0m\u001b[0m\n\u001b[0;32m   1097\u001b[0m                              \u001b[1;34m'value to an axis that has datetime units'\u001b[0m\u001b[1;33m\u001b[0m\u001b[1;33m\u001b[0m\u001b[0m\n\u001b[1;32m-> 1098\u001b[1;33m                              .format(vmin))\n\u001b[0m\u001b[0;32m   1099\u001b[0m         \u001b[1;32mreturn\u001b[0m \u001b[0mnum2date\u001b[0m\u001b[1;33m(\u001b[0m\u001b[0mvmin\u001b[0m\u001b[1;33m,\u001b[0m \u001b[0mself\u001b[0m\u001b[1;33m.\u001b[0m\u001b[0mtz\u001b[0m\u001b[1;33m)\u001b[0m\u001b[1;33m,\u001b[0m \u001b[0mnum2date\u001b[0m\u001b[1;33m(\u001b[0m\u001b[0mvmax\u001b[0m\u001b[1;33m,\u001b[0m \u001b[0mself\u001b[0m\u001b[1;33m.\u001b[0m\u001b[0mtz\u001b[0m\u001b[1;33m)\u001b[0m\u001b[1;33m\u001b[0m\u001b[1;33m\u001b[0m\u001b[0m\n\u001b[0;32m   1100\u001b[0m \u001b[1;33m\u001b[0m\u001b[0m\n",
      "\u001b[1;31mValueError\u001b[0m: view limit minimum -36876.75 is less than 1 and is an invalid Matplotlib date value. This often happens if you pass a non-datetime value to an axis that has datetime units"
     ]
    }
   ],
   "source": [
    "predictions = list()\n",
    "\n",
    "for t in range(len(test)):\n",
    "    model = ARIMA(train, order=(5,1,0))\n",
    "    model_fit = model.fit(disp=0)\n",
    "    output = model_fit.forecast()\n",
    "    yhat = output[0]\n",
    "    predictions.append(yhat)\n",
    "    obs = test_values[t]\n",
    "#     train.append(obs)\n",
    "    print('predicted=%f, expected=%f' % (yhat, obs))\n",
    "error = mean_squared_error(test, predictions)\n",
    "print('Test MSE: %.3f' % error)\n",
    "\n",
    "plt.plot(test)\n",
    "plt.plot(predictions, color='red')\n",
    "plt.show()"
   ]
  },
  {
   "cell_type": "code",
   "execution_count": null,
   "metadata": {},
   "outputs": [],
   "source": []
  },
  {
   "cell_type": "code",
   "execution_count": null,
   "metadata": {},
   "outputs": [],
   "source": []
  },
  {
   "cell_type": "markdown",
   "metadata": {},
   "source": [
    "# Time Series Forecasting\n",
    "\n",
    "- Value of p = 2\n",
    "- Value of d\n",
    "- Value of q"
   ]
  },
  {
   "cell_type": "code",
   "execution_count": 8,
   "metadata": {
    "ExecuteTime": {
     "end_time": "2020-07-04T18:12:36.665616Z",
     "start_time": "2020-07-04T18:12:36.656611Z"
    }
   },
   "outputs": [],
   "source": [
    "def arima_residual_plot(ar_model, col):\n",
    "    residuals = pd.DataFrame(ar_model.resid)\n",
    "\n",
    "    fig, ax = plt.subplots(1,2)\n",
    "    residuals.plot(title=\"Residuals\", ax=ax[0])\n",
    "    residuals.plot(kind='kde', title='Density', ax=ax[1])\n",
    "    plt.show()\n",
    "\n",
    "    # Actual vs Predicted\n",
    "    fig, ax = plt.subplots(figsize=(20,5))\n",
    "    fig = ar_model.plot_predict(dynamic=False, ax=ax)\n",
    "    plt.title('Actual vs Predicted of {}'.format(col), fontsize=18, weight='bold')\n",
    "    plt.xlabel('Date'.format(col), fontsize=15)\n",
    "    plt.ylabel('Values'.format(col), fontsize=15)\n",
    "    \n",
    "    return"
   ]
  },
  {
   "cell_type": "code",
   "execution_count": 9,
   "metadata": {
    "ExecuteTime": {
     "end_time": "2020-07-04T18:12:36.678607Z",
     "start_time": "2020-07-04T18:12:36.667583Z"
    }
   },
   "outputs": [],
   "source": [
    "def arima_model_plot(p, d, q, x, test_size):\n",
    "    model = ARIMA(x, order=(p,d,q))\n",
    "\n",
    "    arima_model = model.fit(disp=1)\n",
    "\n",
    "    fc, se, conf = arima_model.forecast(test_size, alpha=0.05)  # 95% conf\n",
    "\n",
    "    # Make as pandas series\n",
    "    fc_series = pd.Series(fc, index=y.index)\n",
    "    lower_series = pd.Series(conf[:, 0], index=y.index)\n",
    "    upper_series = pd.Series(conf[:, 1], index=y.index)\n",
    "\n",
    "    # Plot\n",
    "    plt.figure(figsize=(12,5), dpi=100)\n",
    "    plt.plot(x, label='training')\n",
    "    plt.plot(y, label='actual')\n",
    "    plt.plot(fc_series, label='forecast', color='red')\n",
    "\n",
    "    plt.fill_between(lower_series.index, lower_series, upper_series, \n",
    "                     color='k', alpha=.15)\n",
    "    plt.title('Forecast vs Actuals')\n",
    "    plt.legend(loc='upper left', fontsize=8)\n",
    "    plt.show()\n",
    "     \n",
    "    return fc, se, conf"
   ]
  },
  {
   "cell_type": "code",
   "execution_count": 10,
   "metadata": {
    "ExecuteTime": {
     "end_time": "2020-07-04T18:12:37.320072Z",
     "start_time": "2020-07-04T18:12:36.683542Z"
    }
   },
   "outputs": [
    {
     "ename": "NameError",
     "evalue": "name 'temp_df' is not defined",
     "output_type": "error",
     "traceback": [
      "\u001b[1;31m---------------------------------------------------------------------------\u001b[0m",
      "\u001b[1;31mNameError\u001b[0m                                 Traceback (most recent call last)",
      "\u001b[1;32m<ipython-input-10-2b5b76317f03>\u001b[0m in \u001b[0;36m<module>\u001b[1;34m\u001b[0m\n\u001b[0;32m      2\u001b[0m \u001b[0mfig\u001b[0m\u001b[1;33m,\u001b[0m \u001b[0maxes\u001b[0m \u001b[1;33m=\u001b[0m \u001b[0mplt\u001b[0m\u001b[1;33m.\u001b[0m\u001b[0msubplots\u001b[0m\u001b[1;33m(\u001b[0m\u001b[1;36m5\u001b[0m\u001b[1;33m,\u001b[0m \u001b[1;36m2\u001b[0m\u001b[1;33m)\u001b[0m\u001b[1;33m\u001b[0m\u001b[1;33m\u001b[0m\u001b[0m\n\u001b[0;32m      3\u001b[0m \u001b[1;33m\u001b[0m\u001b[0m\n\u001b[1;32m----> 4\u001b[1;33m \u001b[0maxes\u001b[0m\u001b[1;33m[\u001b[0m\u001b[1;36m0\u001b[0m\u001b[1;33m,\u001b[0m \u001b[1;36m0\u001b[0m\u001b[1;33m]\u001b[0m\u001b[1;33m.\u001b[0m\u001b[0mplot\u001b[0m\u001b[1;33m(\u001b[0m\u001b[0mtemp_df\u001b[0m\u001b[1;33m[\u001b[0m\u001b[1;34m'Prod_Sales'\u001b[0m\u001b[1;33m]\u001b[0m\u001b[1;33m)\u001b[0m\u001b[1;33m;\u001b[0m \u001b[0maxes\u001b[0m\u001b[1;33m[\u001b[0m\u001b[1;36m0\u001b[0m\u001b[1;33m,\u001b[0m \u001b[1;36m0\u001b[0m\u001b[1;33m]\u001b[0m\u001b[1;33m.\u001b[0m\u001b[0mset_title\u001b[0m\u001b[1;33m(\u001b[0m\u001b[1;34m'Original Series'\u001b[0m\u001b[1;33m)\u001b[0m\u001b[1;33m\u001b[0m\u001b[1;33m\u001b[0m\u001b[0m\n\u001b[0m\u001b[0;32m      5\u001b[0m \u001b[0msm\u001b[0m\u001b[1;33m.\u001b[0m\u001b[0mgraphics\u001b[0m\u001b[1;33m.\u001b[0m\u001b[0mtsa\u001b[0m\u001b[1;33m.\u001b[0m\u001b[0mplot_acf\u001b[0m\u001b[1;33m(\u001b[0m\u001b[0mtemp_df\u001b[0m\u001b[1;33m[\u001b[0m\u001b[1;34m'Prod_Sales'\u001b[0m\u001b[1;33m]\u001b[0m\u001b[1;33m,\u001b[0m \u001b[0mlags\u001b[0m\u001b[1;33m=\u001b[0m\u001b[1;36m50\u001b[0m\u001b[1;33m,\u001b[0m \u001b[0max\u001b[0m\u001b[1;33m=\u001b[0m\u001b[0maxes\u001b[0m\u001b[1;33m[\u001b[0m\u001b[1;36m0\u001b[0m\u001b[1;33m,\u001b[0m \u001b[1;36m1\u001b[0m\u001b[1;33m]\u001b[0m\u001b[1;33m)\u001b[0m\u001b[1;33m\u001b[0m\u001b[1;33m\u001b[0m\u001b[0m\n\u001b[0;32m      6\u001b[0m \u001b[1;33m\u001b[0m\u001b[0m\n",
      "\u001b[1;31mNameError\u001b[0m: name 'temp_df' is not defined"
     ]
    }
   ],
   "source": [
    "# Original Series\n",
    "fig, axes = plt.subplots(5, 2)\n",
    "\n",
    "axes[0, 0].plot(temp_df['Prod_Sales']); axes[0, 0].set_title('Original Series')\n",
    "sm.graphics.tsa.plot_acf(temp_df['Prod_Sales'], lags=50, ax=axes[0, 1])\n",
    "\n",
    "# 1st Differencing\n",
    "axes[1, 0].plot(temp_df['Prod_Sales'].diff()); axes[1, 0].set_title('1st Order Differencing')\n",
    "sm.graphics.tsa.plot_acf(temp_df['Prod_Sales'].diff().dropna(), ax=axes[1, 1])\n",
    "\n",
    "# 2nd Differencing\n",
    "axes[2, 0].plot(temp_df['Prod_Sales'].diff(periods=2)); axes[2, 0].set_title('2nd Order Differencing')\n",
    "sm.graphics.tsa.plot_acf(temp_df['Prod_Sales'].diff(periods=2).dropna(), ax=axes[2, 1])\n",
    "\n",
    "# 2nd Differencing\n",
    "axes[3, 0].plot(temp_df['Prod_Sales'].diff(periods=3)); axes[3, 0].set_title('2nd Order Differencing')\n",
    "sm.graphics.tsa.plot_acf(temp_df['Prod_Sales'].diff(periods=3).dropna(), ax=axes[3, 1])\n",
    "\n",
    "# 3rd Differencing\n",
    "axes[4, 0].plot(temp_df['Prod_Sales'].diff(periods=4)); axes[4, 0].set_title('2nd Order Differencing')\n",
    "sm.graphics.tsa.plot_acf(temp_df['Prod_Sales'].diff(periods=4).dropna(), ax=axes[4, 1])\n",
    "\n",
    "plt.subplots_adjust(hspace=0.9, wspace=0.15)\n",
    "\n",
    "plt.show()"
   ]
  },
  {
   "cell_type": "code",
   "execution_count": null,
   "metadata": {
    "ExecuteTime": {
     "end_time": "2020-07-04T18:12:37.322069Z",
     "start_time": "2020-07-04T18:09:59.878Z"
    }
   },
   "outputs": [],
   "source": [
    "# temp_df = temp_df.set_index('Date')\n",
    "model_df = temp_df[['Prod_Sales', 'Prod_Sales_diff_1']]\n",
    "model_df = model_df.dropna(axis=0)"
   ]
  },
  {
   "cell_type": "markdown",
   "metadata": {},
   "source": [
    "## ARIMA"
   ]
  },
  {
   "cell_type": "code",
   "execution_count": null,
   "metadata": {
    "ExecuteTime": {
     "end_time": "2020-07-04T18:12:37.323066Z",
     "start_time": "2020-07-04T18:09:59.926Z"
    }
   },
   "outputs": [],
   "source": [
    "## Testing with order on lag value 2, difference order 1, moving average model 2\n",
    "model = ARIMA(model_df['Prod_Sales'], order=(10,1,2))\n",
    "\n",
    "arima_model = model.fit(disp=0)\n",
    "arima_model.summary()"
   ]
  },
  {
   "cell_type": "code",
   "execution_count": null,
   "metadata": {
    "ExecuteTime": {
     "end_time": "2020-07-04T18:12:37.325061Z",
     "start_time": "2020-07-04T18:09:59.929Z"
    }
   },
   "outputs": [],
   "source": [
    "arima_residual_plot(arima_model, 'Prod_Sales')"
   ]
  },
  {
   "cell_type": "code",
   "execution_count": null,
   "metadata": {
    "ExecuteTime": {
     "end_time": "2020-07-04T18:12:37.326072Z",
     "start_time": "2020-07-04T18:09:59.934Z"
    }
   },
   "outputs": [],
   "source": [
    "# Split train and test dataset\n",
    "\n",
    "sub_model_df = model_df[['Prod_Sales']]\n",
    "\n",
    "x, y = sub_model_df[0: int(len(sub_model_df) * 0.75)], sub_model_df[int(len(sub_model_df) * 0.75):]\n",
    "print('Training Dataset: %d, Testing Dataset: %d' % (len(x), len(y)))"
   ]
  },
  {
   "cell_type": "code",
   "execution_count": null,
   "metadata": {
    "ExecuteTime": {
     "end_time": "2020-07-04T18:12:37.328053Z",
     "start_time": "2020-07-04T18:09:59.936Z"
    },
    "scrolled": false
   },
   "outputs": [],
   "source": [
    "fc, se, conf = arima_model_plot(10, 1, 2, x, 35)"
   ]
  },
  {
   "cell_type": "code",
   "execution_count": null,
   "metadata": {
    "ExecuteTime": {
     "end_time": "2020-07-04T18:12:37.330052Z",
     "start_time": "2020-07-04T18:09:59.939Z"
    }
   },
   "outputs": [],
   "source": [
    "def forecast_accuracy(forecast, actual):\n",
    "    mape = np.mean(np.abs(forecast - actual)/np.abs(actual))  # MAPE\n",
    "    mae = np.mean(np.abs(forecast - actual))    # MAE\n",
    "    rmse = np.mean((forecast - actual)**2)**.5  # RMSE\n",
    "\n",
    "    return({'mape':mape, 'mae': mae,\n",
    "            'rmse':rmse})\n",
    "\n",
    "forecast_accuracy(fc, y.values)"
   ]
  },
  {
   "cell_type": "code",
   "execution_count": null,
   "metadata": {
    "ExecuteTime": {
     "end_time": "2020-07-04T18:12:37.332060Z",
     "start_time": "2020-07-04T18:09:59.942Z"
    }
   },
   "outputs": [],
   "source": [
    "model = pm.auto_arima(sub_model_df['Prod_Sales'], start_p=3, d=1, start_q=3,\n",
    "                      test='adf',                  # use adftest to find optimal 'd'\n",
    "                      max_p=3, max_d=0, max_q=3,   # maximum p, d, q\n",
    "                      m=5,                         # frequency of series\n",
    "                      seasonal=False,              # No Seasonality\n",
    "                      start_P=0, \n",
    "                      D=0, \n",
    "                      trace=True,\n",
    "                      error_action='ignore',  \n",
    "                      suppress_warnings=True, \n",
    "                      stepwise=True)"
   ]
  },
  {
   "cell_type": "code",
   "execution_count": null,
   "metadata": {
    "ExecuteTime": {
     "end_time": "2020-07-04T18:12:37.334049Z",
     "start_time": "2020-07-04T18:09:59.945Z"
    }
   },
   "outputs": [],
   "source": [
    "print(model.summary())"
   ]
  },
  {
   "cell_type": "code",
   "execution_count": null,
   "metadata": {
    "ExecuteTime": {
     "end_time": "2020-07-04T18:12:37.336052Z",
     "start_time": "2020-07-04T18:09:59.947Z"
    }
   },
   "outputs": [],
   "source": [
    "model.plot_diagnostics(figsize=(12,12))\n",
    "plt.show()"
   ]
  },
  {
   "cell_type": "code",
   "execution_count": null,
   "metadata": {},
   "outputs": [],
   "source": []
  },
  {
   "cell_type": "markdown",
   "metadata": {},
   "source": [
    "## Long Short Term Memory"
   ]
  },
  {
   "cell_type": "code",
   "execution_count": null,
   "metadata": {
    "ExecuteTime": {
     "end_time": "2020-07-04T18:12:37.339025Z",
     "start_time": "2020-07-04T18:10:00.002Z"
    }
   },
   "outputs": [],
   "source": [
    "from numpy import array\n",
    "\n",
    "import keras\n",
    "from keras.models import Sequential\n",
    "from keras.layers import Dense\n",
    "from keras.layers import LSTM\n",
    "from keras.layers import Dropout\n",
    "from keras.layers import *\n",
    "from sklearn.preprocessing import MinMaxScaler\n",
    "from sklearn.metrics import mean_squared_error\n",
    "from sklearn.metrics import mean_absolute_error\n",
    "from keras.callbacks import EarlyStopping"
   ]
  },
  {
   "cell_type": "code",
   "execution_count": null,
   "metadata": {
    "ExecuteTime": {
     "end_time": "2020-07-04T18:12:37.340040Z",
     "start_time": "2020-07-04T18:10:00.006Z"
    }
   },
   "outputs": [],
   "source": [
    "# split a univariate sequence into samples\n",
    "def split_sequence(sequence, n_steps):\n",
    "    X, y = list(), list()\n",
    "    for i in range(len(sequence)):\n",
    "        # find the end of this pattern\n",
    "        end_ix = i + n_steps\n",
    "        # check if we are beyond the sequence\n",
    "        if end_ix > len(sequence)-1:\n",
    "            break\n",
    "        # gather input and output parts of the pattern\n",
    "        seq_x, seq_y = sequence[i:end_ix], sequence[end_ix]\n",
    "        X.append(seq_x)\n",
    "        y.append(seq_y)\n",
    "    return array(X), array(y)"
   ]
  },
  {
   "cell_type": "code",
   "execution_count": null,
   "metadata": {
    "ExecuteTime": {
     "end_time": "2020-07-04T18:12:37.341020Z",
     "start_time": "2020-07-04T18:10:00.009Z"
    }
   },
   "outputs": [],
   "source": [
    "def create_dataset(dataset, time_steps=1):\n",
    "    Xs, ys = [], []\n",
    "    for i in range (len(dataset) - time_steps-1):\n",
    "        v = dataset[i: (i + time_steps), 0]\n",
    "        Xs.append(v)\n",
    "        ys.append(dataset[i + time_steps, 0])\n",
    "    return(np.array(Xs), np.array(ys))"
   ]
  },
  {
   "cell_type": "markdown",
   "metadata": {},
   "source": [
    "<b>Steps:</b>\n",
    "\n",
    "1. Create the dataset, ensure all data is float.\n",
    "2. Normalize the features.\n",
    "3. Split into training and test sets.\n",
    "4. Convert an array of values into a dataset matrix.\n",
    "5. Reshape into X=t and Y=t+1.\n",
    "6. Reshape input to be 3D (num_samples, num_timesteps, num_features)."
   ]
  },
  {
   "cell_type": "code",
   "execution_count": null,
   "metadata": {
    "ExecuteTime": {
     "end_time": "2020-07-04T18:12:37.343014Z",
     "start_time": "2020-07-04T18:10:00.056Z"
    }
   },
   "outputs": [],
   "source": [
    "temp_df = analysis.data['biodiesel_df']\n",
    "temp_df = temp_df.drop(['Unnamed: 0'], axis=1)\n",
    "temp_df['Date'] = pd.to_datetime(temp_df['Date'])\n",
    "\n",
    "temp_df['Year'] = temp_df['Date'].apply(lambda x: x.year)\n",
    "temp_df['Day'] = temp_df['Date'].apply(lambda x: x.day)\n",
    "\n",
    "temp_df[\"Weekday\"] = temp_df.apply(lambda row: row[\"Date\"].weekday(),axis=1)\n",
    "temp_df[\"Weekday\"] = (temp_df[\"Weekday\"] < 5).astype(int)\n",
    "\n",
    "temp_df = temp_df.set_index('Date')"
   ]
  },
  {
   "cell_type": "code",
   "execution_count": null,
   "metadata": {
    "ExecuteTime": {
     "end_time": "2020-07-04T18:12:37.344009Z",
     "start_time": "2020-07-04T18:10:00.061Z"
    }
   },
   "outputs": [],
   "source": [
    "# sitiawan_model_df = temp_df[['Prod_Stock', 'Year', 'Month_Int', 'Weekday', 'Prod_Sales']]\n",
    "AREA = 'Tanjung Karang'\n",
    "\n",
    "model_df = temp_df.loc[temp_df['District']==AREA][['Prod_Sales']]\n",
    "\n",
    "train_size = int(len(model_df) * 0.75)\n",
    "test_size = len(model_df) - train_size\n",
    "\n",
    "train, test = model_df.iloc[0:train_size], model_df.iloc[train_size:len(model_df)]\n",
    "print('Training Dataset: {}, Testing Dataset: {}'.format(train.shape, test.shape))"
   ]
  },
  {
   "cell_type": "code",
   "execution_count": null,
   "metadata": {
    "ExecuteTime": {
     "end_time": "2020-07-04T18:12:37.346003Z",
     "start_time": "2020-07-04T18:10:00.065Z"
    }
   },
   "outputs": [],
   "source": [
    "# f_columns = ['Prod_Stock']\n",
    "\n",
    "# f_scaler = MinMaxScaler(feature_range=(0,1))\n",
    "# sales_scaler = MinMaxScaler(feature_range=(0,1))\n",
    "\n",
    "# f_transformer = f_scaler.fit(train[f_columns].to_numpy())\n",
    "# sales_transformer = sales_scaler.fit(train[['Prod_Sales']])\n",
    "\n",
    "# train.loc[:, f_columns] = f_scaler.transform(train[f_columns].to_numpy())\n",
    "# train['Prod_Sales'] = sales_scaler.transform(train[['Prod_Sales']])\n",
    "\n",
    "# test.loc[:, f_columns] = f_scaler.transform(test[f_columns].to_numpy())\n",
    "# test['Prod_Sales'] = sales_scaler.transform(test[['Prod_Sales']])\n",
    "\n",
    "scaler = MinMaxScaler()\n",
    "scaler.fit(train)\n",
    "train = scaler.transform(train)\n",
    "test = scaler.transform(test)"
   ]
  },
  {
   "cell_type": "code",
   "execution_count": null,
   "metadata": {
    "ExecuteTime": {
     "end_time": "2020-07-04T18:12:37.348018Z",
     "start_time": "2020-07-04T18:10:00.068Z"
    }
   },
   "outputs": [],
   "source": [
    "TIME_STEPS = 33\n",
    "\n",
    "X_train, y_train = create_dataset(train, time_steps=TIME_STEPS)\n",
    "X_test, y_test = create_dataset(test, time_steps=TIME_STEPS)\n",
    "\n",
    "# reshape input to be [samples, time steps, features]\n",
    "X_train = np.reshape(X_train, (X_train.shape[0], 1, X_train.shape[1]))\n",
    "X_test = np.reshape(X_test, (X_test.shape[0], 1, X_test.shape[1]))\n",
    "\n",
    "print(X_train.shape, y_train.shape)"
   ]
  },
  {
   "cell_type": "code",
   "execution_count": null,
   "metadata": {
    "ExecuteTime": {
     "end_time": "2020-07-04T18:12:37.350995Z",
     "start_time": "2020-07-04T18:10:00.071Z"
    }
   },
   "outputs": [],
   "source": [
    "# Bidirectional LSTM Model\n",
    "\n",
    "model = keras.Sequential()\n",
    "model.add(\n",
    "    LSTM(\n",
    "        units=128, \n",
    "        input_shape=(X_train.shape[1], X_train.shape[2]))\n",
    ")\n",
    "    \n",
    "model.add(Dropout(rate=0.2))\n",
    "model.add(Dense(units=1))\n",
    "model.compile(loss='mean_squared_error', optimizer='adam')"
   ]
  },
  {
   "cell_type": "code",
   "execution_count": null,
   "metadata": {
    "ExecuteTime": {
     "end_time": "2020-07-04T18:12:37.353994Z",
     "start_time": "2020-07-04T18:10:00.074Z"
    }
   },
   "outputs": [],
   "source": [
    "history = model.fit(\n",
    "    X_train, y_train, \n",
    "    epochs=30, \n",
    "    batch_size=70,\n",
    "    validation_split=0.1,\n",
    "    shuffle=False,\n",
    "    validation_data=(X_test, y_test),\n",
    "    verbose=1,\n",
    ")\n",
    "\n",
    "print(model.summary())"
   ]
  },
  {
   "cell_type": "code",
   "execution_count": null,
   "metadata": {
    "ExecuteTime": {
     "end_time": "2020-07-04T18:12:37.354979Z",
     "start_time": "2020-07-04T18:10:00.077Z"
    }
   },
   "outputs": [],
   "source": [
    "plt.figure(figsize=(20,4))\n",
    "plt.plot(history.history['loss'], label='Train Loss')\n",
    "plt.plot(history.history['val_loss'], label='Test Loss')\n",
    "\n",
    "plt.title('Model Loss Across Time')\n",
    "plt.ylabel('Loss')\n",
    "plt.xlabel('Epochs')\n",
    "plt.legend(loc='upper right')\n",
    "\n",
    "plt.show()"
   ]
  },
  {
   "cell_type": "code",
   "execution_count": null,
   "metadata": {
    "ExecuteTime": {
     "end_time": "2020-07-04T18:12:37.356974Z",
     "start_time": "2020-07-04T18:10:00.080Z"
    },
    "scrolled": true
   },
   "outputs": [],
   "source": [
    "train_predict = model.predict(X_train)\n",
    "test_predict = model.predict(X_test)\n",
    "\n",
    "train_predict = scaler.inverse_transform(train_predict)\n",
    "y_train = scaler.inverse_transform([y_train])\n",
    "test_predict = scaler.inverse_transform(test_predict)\n",
    "y_test = scaler.inverse_transform([y_test])"
   ]
  },
  {
   "cell_type": "code",
   "execution_count": null,
   "metadata": {
    "ExecuteTime": {
     "end_time": "2020-07-04T18:12:37.359966Z",
     "start_time": "2020-07-04T18:10:00.084Z"
    },
    "scrolled": false
   },
   "outputs": [],
   "source": [
    "print('Train Mean Absolute Percentage Error', np.mean(np.abs(train_predict[:,0] - y_train[0])/np.abs(y_train[0])))\n",
    "print('Test Mean Absolute Percentage Error', np.mean(np.abs(test_predict[:,0] - y_test[0])/np.abs(y_test[0])))\n",
    "print()\n",
    "print('Train Mean Absolute Error:', mean_absolute_error(y_train[0], train_predict[:,0]))\n",
    "print('Train Root Mean Squared Error:',np.sqrt(mean_squared_error(y_train[0], train_predict[:,0])))\n",
    "print()\n",
    "print('Test Mean Absolute Error:', mean_absolute_error(y_test[0], test_predict[:,0]))\n",
    "print('Test Root Mean Squared Error:',np.sqrt(mean_squared_error(y_test[0], test_predict[:,0])))"
   ]
  },
  {
   "cell_type": "code",
   "execution_count": null,
   "metadata": {
    "ExecuteTime": {
     "end_time": "2020-07-04T18:12:37.361977Z",
     "start_time": "2020-07-04T18:10:00.087Z"
    }
   },
   "outputs": [],
   "source": [
    "aa=[x for x in range(30)]\n",
    "\n",
    "plt.figure(figsize=(8,4))\n",
    "plt.plot(aa, y_train[0][:30], marker='.', label=\"actual\")\n",
    "plt.plot(aa, train_predict[:,0][:30], 'r', label=\"prediction\")\n",
    "\n",
    "plt.tight_layout()\n",
    "sns.despine(top=True)\n",
    "plt.subplots_adjust(left=0.07)\n",
    "plt.ylabel('Prod_Sales_Biodiesel', size=15)\n",
    "plt.xlabel('Time Step', size=15)\n",
    "plt.legend(fontsize=15)\n",
    "plt.show()"
   ]
  },
  {
   "cell_type": "code",
   "execution_count": null,
   "metadata": {},
   "outputs": [],
   "source": []
  },
  {
   "cell_type": "markdown",
   "metadata": {},
   "source": [
    "# Frequency Domain\n",
    "\n",
    "**Key idea : Time Series are Sequences**\n",
    "\n",
    "1. Run FFT on input data\n",
    "2. Filter out low-amplitude, high-frequency components\n",
    "3. Forecast on each individual component\n",
    "4. Run inverse of FFT of filtered data\n",
    "\n",
    "**Framework**\n",
    "1. Detector framework\n",
    "2. Data generators\n",
    "3. Simulation framework\n",
    "4. Evaluation functions\n",
    "5. Basic Change Detector\n",
    "6. Monte Carlo Change Detector"
   ]
  },
  {
   "cell_type": "code",
   "execution_count": null,
   "metadata": {
    "ExecuteTime": {
     "end_time": "2020-07-04T18:12:37.363956Z",
     "start_time": "2020-07-04T18:10:00.150Z"
    }
   },
   "outputs": [],
   "source": [
    "import scipy.fftpack"
   ]
  },
  {
   "cell_type": "markdown",
   "metadata": {},
   "source": [
    "## Fast Fourier Transform Denoising\n",
    "\n",
    "The Fourier Transform of an 1D signal of $x$ of length $n$ is the following:\n",
    "\n",
    "> $\\mathscr{f}_j = \\sum_{k=0}^{n-1} x_k e^{\\frac{2\\pi i}{n} jk} , ~~\\forall j=0, ... , n-1$\n",
    "\n",
    "The idea is to represent the signal in the complex space, it is roughly the sum of sinusoidal functions. And there is one coefficient per frequency present in the signal.\n",
    "\n",
    "The frequency takes the following values:\n",
    "- $f = \\frac{1}{dn} [0, 1, \\ldots ,   \\frac{n}{2}-1,  -\\frac{n}{2}, \\ldots , -1]$ if $n$ is even\n",
    "- $f =\\frac{1}{dn}  [0, 1, \\ldots,  \\frac{n-1}{2}, -\\frac{n-1}{2}, \\ldots, -1]$ if $n$ is odd"
   ]
  },
  {
   "cell_type": "code",
   "execution_count": null,
   "metadata": {
    "ExecuteTime": {
     "end_time": "2020-07-04T18:12:37.364953Z",
     "start_time": "2020-07-04T18:10:00.197Z"
    }
   },
   "outputs": [],
   "source": [
    "sub_temp_df = temp_df.loc[temp_df['District']=='Sitiawan']\n",
    "sub_temp_df = sub_temp_df[['Prod_Sales']]"
   ]
  },
  {
   "cell_type": "code",
   "execution_count": null,
   "metadata": {
    "ExecuteTime": {
     "end_time": "2020-07-04T18:12:37.365951Z",
     "start_time": "2020-07-04T18:10:00.199Z"
    }
   },
   "outputs": [],
   "source": [
    "fig, ax = plt.subplots(figsize=(10,6))\n",
    "\n",
    "sub_temp_df.plot(ax=ax)\n",
    "plt.show()"
   ]
  },
  {
   "cell_type": "code",
   "execution_count": null,
   "metadata": {},
   "outputs": [],
   "source": []
  }
 ],
 "metadata": {
  "kernelspec": {
   "display_name": "ts_forecasting",
   "language": "python",
   "name": "ts_forecasting"
  },
  "language_info": {
   "codemirror_mode": {
    "name": "ipython",
    "version": 3
   },
   "file_extension": ".py",
   "mimetype": "text/x-python",
   "name": "python",
   "nbconvert_exporter": "python",
   "pygments_lexer": "ipython3",
   "version": "3.7.7"
  },
  "toc": {
   "base_numbering": 1,
   "nav_menu": {},
   "number_sections": true,
   "sideBar": true,
   "skip_h1_title": false,
   "title_cell": "Table of Contents",
   "title_sidebar": "Contents",
   "toc_cell": false,
   "toc_position": {},
   "toc_section_display": true,
   "toc_window_display": false
  }
 },
 "nbformat": 4,
 "nbformat_minor": 2
}
