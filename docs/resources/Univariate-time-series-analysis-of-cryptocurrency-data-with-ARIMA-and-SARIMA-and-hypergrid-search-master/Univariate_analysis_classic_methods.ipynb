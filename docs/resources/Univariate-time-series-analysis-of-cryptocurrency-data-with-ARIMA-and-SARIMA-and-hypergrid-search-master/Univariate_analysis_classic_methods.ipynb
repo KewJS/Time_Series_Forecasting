{
 "cells": [
  {
   "cell_type": "markdown",
   "metadata": {},
   "source": [
    "# Univariate time series analysis with ARIMA and SARIMA\n",
    "\n",
    "<p style=\"text-align: justify\">In this notebook, we conduct a univariate time series analysis on cryptocurrency data. The coin chosen is <a href=\"https://en.wikipedia.org/wiki/Ripple_(payment_protocol)\">XRP</a> as it is one of the most popular cryptocurrency which recently got the 2nd position in terms of market capitalization, and which also has great potential in the future, in terms of payment and transaction speed. Indeed, XRP is often referenced as the \"bankers coin\", as institutions and banks have been partnering with Ripple for their different transaction enhancing procedures. \n",
    "\n",
    "<p style=\"text-align: justify\">The historical data of the coin has been harvested on the web using the <a href=\"https://www.crummy.com/software/BeautifulSoup/\">Beautiful Soup</a> library and saved in <em>csv</em> format, but this is not the purpose of this notebook. In case the reader is interested in this procedure, he can visit my <a href=\"https://github.com/DavidCico/Web-scraping-with-Beautiful-Soup-an-example-on-cryptocurrency-data\">GitHub repository</a> on that matter.</p>\n",
    "\n",
    "<p style=\"text-align: justify\">The <b>\"XRP_price\"</b> dataset is a multivariate time series dataset that describes the historical price of the coin from almost its debut as exchanged currency. The data goes from August 2013 to December 2018, with daily observations of the different quantities. It is a multivariate series comprised of 3 variables (besides the date and time); they are:</p>\n",
    "\n",
    "<ul>\n",
    "<li><strong>Close XRP</strong>: The daily closing price of the cryptocurrency (\\$USD).</li>\n",
    "<li><strong>Volume XRP</strong>: The total daily volume of the coin (\\$USD).</li>\n",
    "<li><strong>Market Cap</strong>: The total daily market capitalization of the coin (\\$USD).</li>\n",
    "</ul>\n",
    "\n",
    "<p style=\"text-align: justify\">This notebook shows the study with the ARIMA and SARIMA models already parametred after grid search. For the grid search procedure of the best parameters, the reader is referred to the 2nd notebook <a href=\"https://github.com/DavidCico/Univariate-time-series-analysis-of-cryptocurrency-data-with-ARIMA-and-SARIMA-and-hypergrid-search/blob/master/Grid_search_models_hyperparameters.ipynb\">Grid_search_models_hyperparameters.ipynb</a>, located in the same GitHub repository.</p>\n"
   ]
  },
  {
   "cell_type": "code",
   "execution_count": 1,
   "metadata": {
    "ExecuteTime": {
     "end_time": "2020-08-15T15:47:50.994090Z",
     "start_time": "2020-08-15T15:47:49.683505Z"
    }
   },
   "outputs": [],
   "source": [
    "# import regular libraries \n",
    "import pandas as pd\n",
    "import numpy as np\n",
    "import matplotlib.pyplot as plt\n",
    "\n",
    "# from SciPy packages\n",
    "from statsmodels.tsa.stattools import adfuller # adfuller test\n",
    "from statsmodels.graphics.tsaplots import plot_acf # autocorellation plot\n",
    "from statsmodels.graphics.tsaplots import plot_pacf # partial autocorellation plot\n",
    "\n",
    "# math function\n",
    "from math import sqrt\n",
    "\n",
    "# evaluation metrics\n",
    "from sklearn.metrics import mean_squared_error\n",
    "\n",
    "# statistics models\n",
    "from statsmodels.tsa.arima_model import ARIMA\n",
    "from statsmodels.tsa.statespace.sarimax import SARIMAX\n",
    "\n",
    "# libraries to filter warnings in some algorithms\n",
    "import warnings\n",
    "warnings.filterwarnings(\"ignore\")"
   ]
  },
  {
   "cell_type": "markdown",
   "metadata": {},
   "source": [
    "## Load and Prepare Dataset\n",
    "\n",
    "<p style=\"text-align: justify\">After importing the different libraries that will be used in the code, we can use the <em>read_csv()</em> function to load the data and infer the first column containing the date data as an index.</p>\n",
    "\n",
    "```python\n",
    "dataset = pd.read_csv(name_coin + '_price.csv', header=0, infer_datetime_format=True, parse_dates=['Date'], index_col=['Date'])\n",
    "```\n",
    "\n",
    "<p style=\"text-align: justify\">The dataset contains some <em>NaN</em> at the start of the historical data for the volume of the coin. These values are set to be 0 and won't influence the current study. We also make sure that the dataset is composed of floating point values of the same type.</p>\n",
    "\n",
    "```python\n",
    "# fill all NaN values with some particular value\n",
    "dataset.fillna(0, inplace=True)\n",
    "\n",
    "# make dataset numeric\n",
    "dataset = dataset.astype('float32')\n",
    "```\n",
    "\n",
    "<p style=\"text-align: justify\">We can perform some operations such as calculating the number of days per year in our dataset. This can easily be achieved using the <a href=\"https://pandas.pydata.org/pandas-docs/stable/generated/pandas.DataFrame.resample.html\">resample() function</a> on the pandas DataFrame. Calling this function with the argument &#8216;<em>Y</em>&#8216; allows the loaded data indexed by date-time to be grouped by year (<a href=\"http://pandas.pydata.org/pandas-docs/stable/timeseries.html#offset-aliases\">see all offset aliases</a>). We can then count the number of days for each year. Finally ,different properties of the dataset can be printed to check the statistics or shape for instance.</p>"
   ]
  },
  {
   "cell_type": "code",
   "execution_count": 2,
   "metadata": {
    "ExecuteTime": {
     "end_time": "2020-08-15T15:47:51.151677Z",
     "start_time": "2020-08-15T15:47:50.997084Z"
    }
   },
   "outputs": [
    {
     "name": "stdout",
     "output_type": "stream",
     "text": [
      "Date\n",
      "2013-12-31    149\n",
      "2014-12-31    365\n",
      "2015-12-31    365\n",
      "2016-12-31    366\n",
      "2017-12-31    365\n",
      "2018-12-31    350\n",
      "Freq: A-DEC, Name: Close XRP, dtype: int64\n",
      "\n",
      "Shape of the dataset : (1960, 3)\n",
      "\n",
      "First rows of the dataset :             Close XRP  Volume XRP  Market Cap XRP\n",
      "Date                                             \n",
      "2013-08-05   0.005613         0.0      43879156.0\n",
      "2013-08-06   0.004680         0.0      36591008.0\n",
      "2013-08-07   0.004417         0.0      34534120.0\n",
      "2013-08-08   0.004254         0.0      33258632.0\n",
      "2013-08-09   0.004291         0.0      33547504.0\n",
      "\n",
      "Statistics on the dataset :          Close XRP    Volume XRP  Market Cap XRP\n",
      "count  1960.000000  1.960000e+03    1.960000e+03\n",
      "mean      0.164995  2.000525e+08    6.352882e+09\n",
      "std       0.341782  6.846502e+08    1.334716e+10\n",
      "min       0.002810  0.000000e+00    2.196991e+07\n",
      "25%       0.006315  2.744888e+05    1.735673e+08\n",
      "50%       0.008615  9.076330e+05    2.580457e+08\n",
      "75%       0.211142  1.335985e+08    8.117047e+09\n",
      "max       3.380000  9.110440e+09    1.308535e+11\n"
     ]
    }
   ],
   "source": [
    "# Write name of coin for study (XRP, BTC)\n",
    "name_coin = 'XRP'\n",
    "\n",
    "dataset = pd.read_csv(name_coin + '_price.csv', header=0, infer_datetime_format=True, parse_dates=['Date'], index_col=['Date'])\n",
    "\n",
    "# fill all NaN values with some particular value\n",
    "dataset.fillna(0, inplace=True)\n",
    "\n",
    "# make dataset numeric\n",
    "dataset = dataset.astype('float32')\n",
    "\n",
    "# look at the values of the dataset\n",
    "values = dataset.values\n",
    "\n",
    "# Counting number of days per year\n",
    "count_yearly_days =dataset['Close ' + name_coin].resample(\"Y\").count()\n",
    "print(count_yearly_days)\n",
    "print()\n",
    "\n",
    "# summarize dataset\n",
    "print(\"Shape of the dataset :\", dataset.shape)\n",
    "print()\n",
    "print(\"First rows of the dataset :\", dataset.head())\n",
    "print()\n",
    "print(\"Statistics on the dataset :\",dataset.describe())\n",
    "\n",
    "\n",
    "\n",
    "# definition of a series from the values of the dataframe\n",
    "series = pd.Series(values[:,0])\n",
    "series.index = dataset.index\n",
    "series.index.name = 'date'"
   ]
  },
  {
   "cell_type": "markdown",
   "metadata": {},
   "source": [
    "## Time Series Data Visualization\n",
    "\n",
    "<p style=\"text-align: justify\">Then a series of curves can be plotted to visualize the dataset and understand if the data answers to a particular behaviour. The first type of plot visualization for time series is the line plot, which is done below for the evolution of the price with time. It can be seen that the price increased substantially since 2017, which is the year where most people became aware of cryptocurrencies. To have a better insight of the price evolution, we can plot the time series after taking its logarithm transformation. A <em>log</em> transformation is often used in order to turn a time series <a href=\"https://en.wikipedia.org/wiki/Stationary_process\">stationary</a>, which is often required for analysis. In our case, the time series is not stationary which may require some differencing, and transformation operations.</p>\n",
    "\n",
    "<p style=\"text-align: justify\">Some linear time series forecasting methods assume a well-behaved distribution of observations (i.e. a bell curve or normal distribution). This can be explicitly checked using tools like statistical hypothesis tests. But plots can provide a useful first check of the distribution of observations both on raw observations and after any type of data transform has been performed. Concerning the histogram and kde plots, the curves are typical of an exponential decay.</p>\n",
    "\n",
    "<p style=\"text-align: justify\">Another type of plot that is useful to summarize the distribution of observations is the box and whisker plot. This plot draws a box around the 25th and 75th percentiles of the data that captures the middle 50% of observations. A line is drawn at the 50th percentile (the median) and whiskers are drawn above and below the box to summarize the general extents of the observations. Dots are drawn for outliers outside the whiskers or extents of the data. From the whiskers plot below, we can see the disparity in data with years. The first 3 years have much smaller values, and are almost insignificant compared to the values in 2017 and 2018. In some analysis, the first years would be considered as outliers, however here as the data available is not enough it is important to keep these years. Also, as seen on the log-log plot of the time series, some recurrent behaviour is seen, such as cycles with a big increase of the coin value in 2017 as explained above.</p>\n"
   ]
  },
  {
   "cell_type": "code",
   "execution_count": 3,
   "metadata": {
    "ExecuteTime": {
     "end_time": "2020-08-15T15:47:52.174584Z",
     "start_time": "2020-08-15T15:47:51.152677Z"
    }
   },
   "outputs": [
    {
     "data": {
      "image/png": "[encoded data removed]",
      "text/plain": [
       "<Figure size 432x288 with 1 Axes>"
      ]
     },
     "metadata": {
      "needs_background": "light"
     },
     "output_type": "display_data"
    },
    {
     "data": {
      "image/png": "[encoded data removed]",
      "text/plain": [
       "<Figure size 432x288 with 1 Axes>"
      ]
     },
     "metadata": {
      "needs_background": "light"
     },
     "output_type": "display_data"
    },
    {
     "data": {
      "image/png": "[encoded data removed]",
      "text/plain": [
       "<Figure size 432x288 with 2 Axes>"
      ]
     },
     "metadata": {
      "needs_background": "light"
     },
     "output_type": "display_data"
    },
    {
     "data": {
      "image/png": "[encoded data removed]",
      "text/plain": [
       "<Figure size 432x288 with 1 Axes>"
      ]
     },
     "metadata": {
      "needs_background": "light"
     },
     "output_type": "display_data"
    }
   ],
   "source": [
    "# plot the series against time\n",
    "series.plot()\n",
    "plt.ylabel('Price ($USD)')\n",
    "plt.xlabel('Date')\n",
    "plt.title('Evolution of XRP price with Time')\n",
    "plt.show()\n",
    "\n",
    "# plot the log of the time series against time\n",
    "series.plot(loglog=True)\n",
    "plt.ylabel('Price ($USD)')\n",
    "plt.xlabel('Date')\n",
    "plt.title('Evolution of Log(XRP price) with Time')\n",
    "plt.show()\n",
    "\n",
    "# density plot\n",
    "plt.figure()\n",
    "plt.suptitle('XRP price distribution')\n",
    "plt.subplot(211)\n",
    "plt.xlabel('Price ($USD)')\n",
    "plt.ylabel('Counts')\n",
    "series.hist()\n",
    "plt.subplot(212)\n",
    "plt.xlabel('Price ($USD)')\n",
    "series.plot(kind='kde')\n",
    "plt.show()\n",
    "\n",
    "# Box and Whisker plots\n",
    "groups = series['2013':'2018'].groupby(pd.Grouper(freq='Y'))\n",
    "\n",
    "years_df = list()\n",
    "for name, group in groups:\n",
    "    df = pd.DataFrame()\n",
    "    df[name.year] = group.values\n",
    "    years_df.append(df)\n",
    "# concatenate the columns of the different coins and save the dataset to a csv file\n",
    "years = pd.concat(years_df, axis = 1, sort=False)\n",
    "\n",
    "years.boxplot()\n",
    "plt.show()"
   ]
  },
  {
   "cell_type": "markdown",
   "metadata": {},
   "source": [
    "## Autocorrelation Analysis\n",
    "\n",
    "<p style=\"text-align: justify\">Statistical correlation summarizes the strength of the relationship between two variables.</p>\n",
    "\n",
    "<p style=\"text-align: justify\">We can assume the distribution of each variable fits a <a href=\"https://en.wikipedia.org/wiki/Normal_distribution\">Gaussian</a> (bell curve) distribution. If this is the case, we can use the Pearson’s correlation coefficient to summarize the correlation between the variables.</p>\n",
    "\n",
    "<p style=\"text-align: justify\">The Pearson’s correlation coefficient is a number between -1 and 1 that describes a negative or positive correlation respectively. A value of zero indicates no correlation.</p>\n",
    "\n",
    "<p style=\"text-align: justify\">We can calculate the correlation for time series observations with observations with previous time steps, called lags. Because the correlation of the time series observations is calculated with values of the same series at previous times, this is called a serial correlation, or an autocorrelation.</p>\n",
    "\n",
    "<p style=\"text-align: justify\">A plot of the autocorrelation of a time series by lag is called the <a href=\"https://machinelearningmastery.com/gentle-introduction-autocorrelation-partial-autocorrelation/\">AutoCorrelation Function</a>, or the acronym ACF. This plot is sometimes called a <a href=\"https://en.wikipedia.org/wiki/Correlogram\">correlogram</a>, or an autocorrelation plot.</p>\n",
    "\n",
    "<p style=\"text-align: justify\">A partial autocorrelation function or PACF is a summary of the relationship between an observation in a time series with observations at prior time steps with the relationships of intervening observations removed.</p>\n",
    "\n",
    "<p style=\"text-align: justify\">The autocorrelation for an observation and an observation at a prior time step is comprised of both the direct correlation and indirect correlations. These indirect correlations are a linear function of the correlation of the observation, with observations at intervening time steps.</p>\n",
    "\n",
    "<p style=\"text-align: justify\">It is these indirect correlations that the partial autocorrelation function seeks to remove. Without going into the math, this is the intuition for the partial autocorrelation.</p>\n",
    "\n",
    "<p style=\"text-align: justify\">We can calculate autocorrelation and partial autocorrelation plots using the <a href=\"http://www.statsmodels.org/dev/generated/statsmodels.graphics.tsaplots.plot_acf.html\">plot_acf()</a> and <a href=\"http://www.statsmodels.org/dev/generated/statsmodels.graphics.tsaplots.plot_pacf.html\">plot_pacf()</a> statsmodels functions respectively.</p>\n",
    "\n",
    "<p style=\"text-align: justify\">We can then create a single figure that contains both an ACF and a PACF plot. The number of lag time steps can be specified. We will fix this to be 100 days for the autocorrelation, and 50 days for the partial autocorrelation. We would expect that the price of the currency tomorrow, and in the coming week will be dependent upon the price from prior days. As such, we would expect to see a strong autocorrelation signal in the ACF and PACF plots.</p>\n",
    "\n",
    "<p style=\"text-align: justify\">We can clearly see a familiar autoregression pattern across the two plots. This pattern is comprised of two elements:</p>\n",
    "\n",
    "<ul>\n",
    "<li><strong>ACF</strong>: A large number of significant lag observations that slowly degrade as the lag increases.</li>\n",
    "<li><strong>PACF</strong>: A few significant lag observations that abruptly drop as the lag increases.</li>\n",
    "</ul>\n",
    "\n",
    "<p style=\"text-align: justify\">The ACF plot indicates that there is a strong autocorrelation component, whereas the PACF plot indicates that this component is distinct for the first approximately two lag observations. However, most of the lags are out of the interval of confidence, and it is difficult to characterize the current plot.</p>"
   ]
  },
  {
   "cell_type": "code",
   "execution_count": 4,
   "metadata": {
    "ExecuteTime": {
     "end_time": "2020-08-15T15:47:52.404008Z",
     "start_time": "2020-08-15T15:47:52.175581Z"
    }
   },
   "outputs": [
    {
     "data": {
      "image/png": "[encoded data removed]",
      "text/plain": [
       "<Figure size 576x576 with 2 Axes>"
      ]
     },
     "metadata": {
      "needs_background": "light"
     },
     "output_type": "display_data"
    }
   ],
   "source": [
    "# plot Autocorrelation and Partial ACF plots\n",
    "fig, (ax1, ax2) = plt.subplots(nrows=2, ncols=1, figsize = (8,8))\n",
    "plot_acf(series, lags =100, ax = ax1)\n",
    "plot_pacf(series, lags =50, ax = ax2)\n",
    "plt.show()"
   ]
  },
  {
   "cell_type": "markdown",
   "metadata": {},
   "source": [
    "## Augmented Dickey-Fuller test\n",
    "<p style=\"text-align: justify\">Statistical tests make strong assumptions about your data. They can only be used to inform the degree to which a null hypothesis can be rejected or fail to be reject. The result must be interpreted for a given problem to be meaningful.</p>\n",
    "\n",
    "<p style=\"text-align: justify\">Nevertheless, they can provide a quick check and confirmatory evidence that your time series is stationary or non-stationary.</p>\n",
    "\n",
    "<p style=\"text-align: justify\">The <a href=\"https://en.wikipedia.org/wiki/Augmented_Dickey%E2%80%93Fuller_test\">Augmented Dickey-Fuller test</a> is a type of statistical test called a <a href=\"https://en.wikipedia.org/wiki/Unit_root_test\">unit root test</a>.</p>\n",
    "\n",
    "<p style=\"text-align: justify\">The intuition behind a unit root test is that it determines how strongly a time series is defined by a trend.</p>\n",
    "\n",
    "<p style=\"text-align: justify\">There are a number of unit root tests and the Augmented Dickey-Fuller may be one of the more widely used. It uses an autoregressive model and optimizes an information criterion across multiple different lag values.</p>\n",
    "\n",
    "<p style=\"text-align: justify\">The null hypothesis of the test is that the time series can be represented by a unit root, that it is not stationary (has some time-dependent structure). The alternate hypothesis (rejecting the null hypothesis) is that the time series is stationary.</p>\n",
    "\n",
    "<ul>\n",
    "<li><strong>Null Hypothesis (H0)</strong>: If failed to be rejected, it suggests the time series has a unit root, meaning it is non-stationary. It has some time dependent structure.</li>\n",
    "<li><strong>Alternate Hypothesis (H1)</strong>: The null hypothesis is rejected; it suggests the time series does not have a unit root, meaning it is stationary. It does not have time-dependent structure.</li>\n",
    "</ul>\n",
    "\n",
    "<p style=\"text-align: justify\">We interpret this result using the p-value from the test. A p-value below a threshold (such as 5% or 1%) suggests we reject the null hypothesis (stationary), otherwise a p-value above the threshold suggests we fail to reject the null hypothesis (non-stationary).</p>\n",
    "<ul>\n",
    "<li><strong>p-value &gt; 0.05</strong>: Fail to reject the null hypothesis (H0), the data has a unit root and is non-stationary.</li>\n",
    "<li><strong>p-value &lt;= 0.05</strong>: Reject the null hypothesis (H0), the data does not have a unit root and is stationary.</li>\n",
    "</ul>\n",
    "\n",
    "<p style=\"text-align: justify\">Below is an example of calculating the Augmented Dickey-Fuller test on the current dataset. The statsmodels library provides the <a href=\"http://statsmodels.sourceforge.net/devel/generated/statsmodels.tsa.stattools.adfuller.html\">adfuller()</a> function that implements the test.</p>"
   ]
  },
  {
   "cell_type": "code",
   "execution_count": 5,
   "metadata": {
    "ExecuteTime": {
     "end_time": "2020-08-15T15:47:52.505958Z",
     "start_time": "2020-08-15T15:47:52.405595Z"
    }
   },
   "outputs": [
    {
     "name": "stdout",
     "output_type": "stream",
     "text": [
      "ADF Statistic: -3.122826\n",
      "p-value: 0.024909\n",
      "Critical Values:\n",
      "\t1%: -3.434\n",
      "\t5%: -2.863\n",
      "\t10%: -2.568\n"
     ]
    }
   ],
   "source": [
    "# check if stationary\n",
    "result = adfuller(series)\n",
    "print('ADF Statistic: %f' % result[0])\n",
    "print('p-value: %f' % result[1])\n",
    "print('Critical Values:')\n",
    "for key, value in result[4].items():\n",
    "\tprint('\\t%s: %.3f' % (key, value))"
   ]
  },
  {
   "cell_type": "markdown",
   "metadata": {},
   "source": [
    "<p style=\"text-align: justify\">Running the example outputs the result of a statistical significance test of whether the series is stationary. Specifically, the augmented Dickey-Fuller test.</p>\n",
    "\n",
    "<p style=\"text-align: justify\">The results show that the test statistic value -3.123 is smaller than the critical value at 5% of -2.863. This suggests that we can reject the null hypothesis with a significance level of less than 5% (i.e. a low probability that the result is a statistical fluke).</p>\n",
    "\n",
    "<p style=\"text-align: justify\">Rejecting the null hypothesis means that the process has no unit root, and in turn that the time series is stationary or does not have time-dependent structure. Interestingly, the current time series can be considered stationary, when it doesn't seem to be so. This implies that no differencing operation will be required for analysis with the different models.</p>"
   ]
  },
  {
   "cell_type": "markdown",
   "metadata": {},
   "source": [
    "## Evaluation metric\n",
    "\n",
    "<p style=\"text-align: justify\">A forecast will be comprised of seven values, one for each day of the week ahead.</p>\n",
    "<p style=\"text-align: justify\">It is common with multi-step forecasting problems to evaluate each forecasted time step separately. This is helpful for a few reasons:</p>\n",
    "<ul>\n",
    "<li>To comment on the skill at a specific lead time (e.g. +1 day vs +3 days).</li>\n",
    "<li>To contrast models based on their skills at different lead times (e.g. models good at +1 day vs models good at days +5).</li>\n",
    "</ul>\n",
    "<p style=\"text-align: justify\">Both <a href=\"https://en.wikipedia.org/wiki/Root-mean-square_deviation\">Root Mean Squared Error (RMSE)</a> and <a href=\"https://en.wikipedia.org/wiki/Mean_absolute_error\">Mean Absolute Error (MAE)</a> can be used to quantify the errors in price prediction (USD), although RMSE is more commonly used and will be adopted in this notebook. Unlike MAE, RMSE is more punishing of forecast errors.</p>\n",
    "<p style=\"text-align: justify\">The performance metric for this problem will be the RMSE for each lead time from day 1 to day 7. In this way, we can see how the chosen algorithms perform on the predictions at a particular day of the week. The cryptocurrency market is quite volatile, and may have a different behaviour depending on the period of the week (weekdays or weekend for instance).</p>\n",
    "<p style=\"text-align: justify\">As a short-cut, it may be useful to summarize the performance of a model using a single score in order to help in model selection. One possible score that could be used would be the RMSE across all forecast days.</p>\n",
    "\n",
    "<p style=\"text-align: justify\">The function <i>evaluate_forecasts()</i> below will implement this behavior and return the performance of a model based on multiple seven-day forecasts.</p>\n"
   ]
  },
  {
   "cell_type": "code",
   "execution_count": 7,
   "metadata": {
    "ExecuteTime": {
     "end_time": "2020-08-15T15:48:02.156685Z",
     "start_time": "2020-08-15T15:48:02.149704Z"
    }
   },
   "outputs": [],
   "source": [
    "# evaluate one or more weekly forecasts against expected values\n",
    "def evaluate_forecasts(actual, predicted):\n",
    "    scores = list()\n",
    "    # calculate an RMSE score for each day\n",
    "    for i in range(actual.shape[1]):\n",
    "        # calculate mse\n",
    "        mse = mean_squared_error(actual[:, i], predicted[:, i])\n",
    "        # calculate rmse\n",
    "        rmse = sqrt(mse)\n",
    "        # store\n",
    "        scores.append(rmse)\n",
    "    # calculate overall RMSE\n",
    "    s = 0\n",
    "    for row in range(actual.shape[0]):\n",
    "        for col in range(actual.shape[1]):\n",
    "            s += (actual[row, col] - predicted[row, col])**2\n",
    "    score = sqrt(s / (actual.shape[0] * actual.shape[1]))\n",
    "    return score, scores"
   ]
  },
  {
   "cell_type": "markdown",
   "metadata": {},
   "source": [
    "<p style=\"text-align: justify\">Running the function will first return the overall RMSE regardless of day, then an array of RMSE scores for each day.</p>\n",
    "\n",
    "## Train and Test Sets\n",
    "\n",
    "<p style=\"text-align: justify\">We will use the first 4 years of data for training predictive models and the final 2 years for evaluating models.</p>\n",
    "\n",
    "<p style=\"text-align: justify\">The data in a given dataset will be divided into standard weeks. These are weeks that begin on a Monday and end on a Sunday.</p>\n",
    "\n",
    "<p style=\"text-align: justify\">This is a realistic and useful way for using the chosen framing of the model, where the price for the week ahead can be predicted. It is also helpful with modeling, where models can be used to predict a specific day (e.g. Wednesday) or the entire sequence.</p>\n",
    "\n",
    "<p style=\"text-align: justify\">We will split the data into standard weeks, working backwards from the test dataset. This gives 178 weeks of data for the training set and 102 weeks (714 days) for the testing set.</p>\n",
    "\n",
    "<p style=\"text-align: justify\">The function <em>split_dataset()</em> below splits the daily data into train and test sets and organizes each into standard weeks. The \"<i>n_test</i>\" argument corresponds to the number of days (714 in this study), to cut the data backwards.</p>\n",
    "\n",
    "<p style=\"text-align: justify\">Specific row offsets are used to split the data using knowledge of the dataset. The split datasets are then organized into weekly data using the NumPy <a href=\"https://docs.scipy.org/doc/numpy/reference/generated/numpy.split.html\">split() function</a>.</p>"
   ]
  },
  {
   "cell_type": "code",
   "execution_count": 8,
   "metadata": {
    "ExecuteTime": {
     "end_time": "2020-08-15T15:48:02.493447Z",
     "start_time": "2020-08-15T15:48:02.484471Z"
    }
   },
   "outputs": [
    {
     "name": "stdout",
     "output_type": "stream",
     "text": [
      "Training dataset shape : (178, 7, 3)\n",
      "First row : [5.6130001e-03 0.0000000e+00 4.3879156e+07] ; Last row : [6.3680001e-03 4.1897800e+05 2.3140864e+08]\n",
      "Testing dataset shape : (102, 7, 3)\n",
      "First row : [6.311000e-03 1.046250e+06 2.293127e+08] ; Last row : [2.8792900e-01 3.1613594e+08 1.1784051e+10]\n"
     ]
    }
   ],
   "source": [
    "# split a univariate dataset into train/test sets\n",
    "def split_dataset(data, n_test):\n",
    "    # split into standard weeks\n",
    "    train, test = data[0:-n_test], data[-n_test:]\n",
    "    # restructure into windows of weekly data\n",
    "    train = np.array(np.array_split(train, len(train)/7))\n",
    "    test = np.array(np.array_split(test, len(test)/7))\n",
    "    return train, test\n",
    "\n",
    "# testing the procedure on the current data\n",
    "n_test = 714 # number of days to split the dataset in weekly windows\n",
    "train, test = split_dataset(values, n_test)\n",
    "# validate train data\n",
    "print(\"Training dataset shape :\", train.shape)\n",
    "print(\"First row :\", train[0, 0, :], \"; Last row :\" ,train[-1, -1, :])\n",
    "# validate test\n",
    "print(\"Testing dataset shape :\", test.shape)\n",
    "print(\"First row :\", test[0, 0, :], \"; Last row :\" ,test[-1, -1, :])"
   ]
  },
  {
   "cell_type": "code",
   "execution_count": 9,
   "metadata": {
    "ExecuteTime": {
     "end_time": "2020-08-15T15:48:02.623101Z",
     "start_time": "2020-08-15T15:48:02.617115Z"
    }
   },
   "outputs": [
    {
     "data": {
      "text/plain": [
       "array([5.6130001e-03, 0.0000000e+00, 4.3879156e+07], dtype=float32)"
      ]
     },
     "execution_count": 9,
     "metadata": {},
     "output_type": "execute_result"
    }
   ],
   "source": [
    "values[0]"
   ]
  },
  {
   "cell_type": "code",
   "execution_count": 34,
   "metadata": {
    "ExecuteTime": {
     "end_time": "2020-08-16T10:37:19.877458Z",
     "start_time": "2020-08-16T10:37:19.862987Z"
    }
   },
   "outputs": [
    {
     "data": {
      "text/plain": [
       "array([[6.3109999e-03, 1.0462500e+06, 2.2931270e+08],\n",
       "       [6.3860002e-03, 1.0148300e+06, 2.3204635e+08],\n",
       "       [6.5700002e-03, 1.6427300e+06, 2.3873459e+08],\n",
       "       [6.2010000e-03, 4.0581700e+06, 2.2533304e+08],\n",
       "       [6.3149999e-03, 1.7461500e+06, 2.2946251e+08],\n",
       "       [6.3660000e-03, 1.3510300e+06, 2.3133502e+08],\n",
       "       [6.2330002e-03, 5.5413300e+05, 2.2649914e+08]], dtype=float32)"
      ]
     },
     "execution_count": 34,
     "metadata": {},
     "output_type": "execute_result"
    }
   ],
   "source": [
    "test[0]"
   ]
  },
  {
   "cell_type": "code",
   "execution_count": 10,
   "metadata": {
    "ExecuteTime": {
     "end_time": "2020-08-15T15:48:02.762237Z",
     "start_time": "2020-08-15T15:48:02.757252Z"
    },
    "scrolled": true
   },
   "outputs": [
    {
     "data": {
      "text/plain": [
       "array([[5.6130001e-03, 0.0000000e+00, 4.3879156e+07],\n",
       "       [4.6799998e-03, 0.0000000e+00, 3.6591008e+07],\n",
       "       [4.4169999e-03, 0.0000000e+00, 3.4534120e+07],\n",
       "       [4.2539998e-03, 0.0000000e+00, 3.3258632e+07],\n",
       "       [4.2909998e-03, 0.0000000e+00, 3.3547504e+07],\n",
       "       [4.3139998e-03, 0.0000000e+00, 3.3724968e+07],\n",
       "       [4.4149999e-03, 0.0000000e+00, 3.4518484e+07]], dtype=float32)"
      ]
     },
     "execution_count": 10,
     "metadata": {},
     "output_type": "execute_result"
    }
   ],
   "source": [
    "train[0]"
   ]
  },
  {
   "cell_type": "markdown",
   "metadata": {},
   "source": [
    "## Walk-forward validation\n",
    "\n",
    "<p style=\"text-align: justify\">Models will be evaluated using a scheme called <a href=\"https://en.wikipedia.org/wiki/Walk_forward_optimization\">walk-forward validation</a>.</p>\n",
    "\n",
    "<p style=\"text-align: justify\">This is where a model is required to make a one week prediction, then the actual data for that week is made available to the model so that it can be used as the basis for making a prediction on the subsequent week. This is both realistic for how the model may be used in practice and beneficial to the models allowing them to make use of the best available data.</p>\n",
    "\n",
    "<p style=\"text-align: justify\">We can demonstrate this below with separation of input data and output/predicted data.</p>\n",
    "\n",
    "    Input, \t\t\t\t\t\tPredict\n",
    "    [Week1]\t\t\t\t\t\tWeek2\n",
    "    [Week1 + Week2]\t\t\t\tWeek3\n",
    "    [Week1 + Week2 + Week3]\t\tWeek4\n",
    "\n",
    "<p style=\"text-align: justify\">The walk-forward validation approach to evaluating predictive models on this dataset is implement below, named <em>evaluate_model()</em>.</p>\n",
    "\n",
    "<p style=\"text-align: justify\">The name of a function is provided for the model as the argument \"<em>model_func</em>\";. This function is responsible for defining the model, fitting the model on the training data, and making a one-week forecast.</p>\n",
    "\n",
    "<p style=\"text-align: justify\">The forecasts made by the model are then evaluated against the test dataset using the previously defined <em>evaluate_forecasts()</em> function.</p>"
   ]
  },
  {
   "cell_type": "code",
   "execution_count": 11,
   "metadata": {
    "ExecuteTime": {
     "end_time": "2020-08-15T15:48:03.525555Z",
     "start_time": "2020-08-15T15:48:03.519578Z"
    }
   },
   "outputs": [],
   "source": [
    "def evaluate_model(model_func, train, test, *args):\n",
    "    #history of weekly data\n",
    "    history = [x for x in train]\n",
    "    #walk forward validation\n",
    "    predictions = list()\n",
    "    for i in range(len(test)):\n",
    "    #weekly prediction\n",
    "        y_hat_seq = model_func(history, *args)\n",
    "    #store the preditions\n",
    "        predictions.append(y_hat_seq)\n",
    "    #update history data\n",
    "        history.append(test[i,:])\n",
    "    predictions = np.array(predictions)\n",
    "    # evaluate predictions days for each week\n",
    "    score, scores = evaluate_forecasts(test[:, :, 0], predictions)\n",
    "    return score, scores, predictions"
   ]
  },
  {
   "cell_type": "markdown",
   "metadata": {},
   "source": [
    "<p style=\"text-align: justify\">Once we have the evaluation for a model, we can summarize the performance.</p>\n",
    "\n",
    "<p style=\"text-align: justify\">The function below named <em>summarize_scores()</em> will display the performance of a model as a single line for easy comparison with other models.</p>"
   ]
  },
  {
   "cell_type": "code",
   "execution_count": 17,
   "metadata": {
    "ExecuteTime": {
     "end_time": "2020-08-15T15:48:07.807344Z",
     "start_time": "2020-08-15T15:48:07.803350Z"
    }
   },
   "outputs": [],
   "source": [
    "#Summarize scores\n",
    "def summarize_scores(name, score, scores):\n",
    "    s_scores = ', '.join(['%.1f' % s for s in scores])\n",
    "    print('%s: Total RMSE --> [%.3f]; Daily RMSE: %s' % (name, score, s_scores))"
   ]
  },
  {
   "cell_type": "markdown",
   "metadata": {},
   "source": [
    "## Develop an Autoregression Model\n",
    "\n",
    "<p style=\"text-align: justify\">The <em>to_series()</em> function below will take the multivariate data divided into weekly windows and will return a single univariate time series.</p>"
   ]
  },
  {
   "cell_type": "code",
   "execution_count": 18,
   "metadata": {
    "ExecuteTime": {
     "end_time": "2020-08-15T15:48:08.254108Z",
     "start_time": "2020-08-15T15:48:08.250096Z"
    }
   },
   "outputs": [],
   "source": [
    "# convert windows of weekly multivariate data into a series of closing price\n",
    "def to_series(data):\n",
    "    # extract just the price of XRP from each week\n",
    "    series = [week[:, 0] for week in data]\n",
    "    # flatten into a single series\n",
    "    series = np.array(series).flatten()\n",
    "    return series"
   ]
  },
  {
   "cell_type": "markdown",
   "metadata": {},
   "source": [
    "<p style=\"text-align: justify\">We can develop an autoregression model for univariate series of XRP price.\n",
    "\n",
    "<p style=\"text-align: justify\">The Statsmodels library provides multiple ways of developing an AR model, such as using the AR, ARMA, ARIMA, and SARIMAX classes.</p>\n",
    "\n",
    "<p style=\"text-align: justify\">We will use the <a href=\"http://www.statsmodels.org/dev/generated/statsmodels.tsa.arima_model.ARIMA.html\">ARIMA implementation</a> as it allows for easy expandability into differencing and moving average. </p>\n",
    "\n",
    "<p style=\"text-align: justify\">The <em>arima_forecast()</em> function defined below implements the procedure for doing a prediction with an ARIMA model. First, the history data comprised of weeks of prior observations must be converted into a univariate time series of daily closing price. We can use the <em>to_series()</em> function developed in the previous section.</p>\n",
    "\n",
    "```python\n",
    "# convert history into a univariate series\n",
    "series = to_series(history)\n",
    "```\n",
    "<p style=\"text-align: justify\">Next, an ARIMA model can be defined by passing order arguments (\"<em>arima_order</em>\") to the constructor of the ARIMA class. And the model can be fit on the training data. We will use the defaults and disable all debugging information during the fit by setting <em>disp=False</em>.</p>\n",
    "\n",
    "```python\n",
    "# define the model\n",
    "model = ARIMA(series, order=arima_order)\n",
    "# fit the model\n",
    "model_fit = model.fit(disp=False)\n",
    "```\n",
    "\n",
    "<p style=\"text-align: justify\">Now that the model has been fit, we can make a prediction.</p>\n",
    "\n",
    "<p style=\"text-align: justify\">A prediction can be made by calling the <em>predict()</em> function and passing it either an interval of dates or indices relative to the training data. We will use indices starting with the first time step beyond the training data and extending it six more days, giving a total of a seven day forecast period beyond the training dataset.</p>\n",
    "\n",
    "```python\n",
    "# make forecast\n",
    "yhat = model_fit.predict(len(series), len(series)+6)\n",
    "```\n"
   ]
  },
  {
   "cell_type": "code",
   "execution_count": 19,
   "metadata": {
    "ExecuteTime": {
     "end_time": "2020-08-15T15:48:08.550891Z",
     "start_time": "2020-08-15T15:48:08.545906Z"
    }
   },
   "outputs": [],
   "source": [
    "# Arima forecast for weekly prediction\n",
    "def arima_forecast(history, arima_order):\n",
    "    # convert history into a univariate series\n",
    "    series = to_series(history)\n",
    "    # define the model\n",
    "    model = ARIMA(series, order=arima_order)\n",
    "    # fit the model\n",
    "    model_fit = model.fit(disp=False)\n",
    "    # make forecast\n",
    "    yhat = model_fit.predict(len(series), len(series)+6)\n",
    "    return yhat"
   ]
  },
  {
   "cell_type": "markdown",
   "metadata": {},
   "source": [
    "<p style=\"text-align: justify\">The seasonal ARIMA model <a href=\"https://www.statsmodels.org/dev/generated/statsmodels.tsa.statespace.sarimax.SARIMAX.html\">SARIMA</a>, can also be implemented in a similar way as the ARIMA model. The <em>Sarima_forecast</em> function below implements the same procedure as above, with the <em>\"config\"</em> argument defining the configuration of the chosen SARIMA model. The seasonal ARIMA model takes more parameters than the regular ARIMA model, to characterize some seasonal trends that might be present inside the dataset.</p>"
   ]
  },
  {
   "cell_type": "code",
   "execution_count": 40,
   "metadata": {
    "ExecuteTime": {
     "end_time": "2020-08-16T11:30:21.709968Z",
     "start_time": "2020-08-16T11:30:21.704980Z"
    }
   },
   "outputs": [
    {
     "name": "stdout",
     "output_type": "stream",
     "text": [
      "[0.005613 0.00468  0.004417 ... 0.006426 0.006449 0.006368]\n"
     ]
    }
   ],
   "source": [
    "series = to_series(history)\n",
    "print(series)"
   ]
  },
  {
   "cell_type": "code",
   "execution_count": 20,
   "metadata": {
    "ExecuteTime": {
     "end_time": "2020-08-15T15:48:08.934319Z",
     "start_time": "2020-08-15T15:48:08.929332Z"
    }
   },
   "outputs": [],
   "source": [
    "# Sarima forecast for weekly prediction\n",
    "def Sarima_forecast(history, config):\n",
    "    order, sorder, trend = config\n",
    "    # convert history into a univariate series\n",
    "    series = to_series(history)\n",
    "    # define model\n",
    "    model = SARIMAX(series, order=order, seasonal_order=sorder, trend=trend, enforce_stationarity=False, enforce_invertibility=False)\n",
    "    # fit model\n",
    "    model_fit = model.fit(disp=False)\n",
    "    # make one step forecast\n",
    "    yhat = model_fit.predict(len(series), len(series)+6)\n",
    "    return yhat"
   ]
  },
  {
   "cell_type": "markdown",
   "metadata": {},
   "source": [
    "<p style=\"text-align: justify\">A grid search with hyperparameters has been carried out to find the most suitable ARIMA and SARIMA models for the current study. We find that <b>ARIMA(1,0,0)</b> and <b>SARIMA((0,1,0),(0,0,0,0),'n')</b> give the best results out of the different parameters tested, in this configuration.</p> \n",
    "\n",
    "<p style=\"text-align: justify\">A dictionary containing both models is then created, to store the names of the models, which will be useful for future looping functions. Both orders are defined as <em>\"arima_order\"</em> for ARIMA, and <em>\"config_sarima\"</em> for the SARIMA model. Both parameters are stored in a list <em>\"orders\"</em> that will be called in the evaluation of the algorithms.</p>"
   ]
  },
  {
   "cell_type": "code",
   "execution_count": 21,
   "metadata": {
    "ExecuteTime": {
     "end_time": "2020-08-15T15:48:09.566316Z",
     "start_time": "2020-08-15T15:48:09.561330Z"
    }
   },
   "outputs": [],
   "source": [
    "# define the names and functions for the models we wish to evaluate\n",
    "models = dict()\n",
    "models['arima'] = arima_forecast\n",
    "models['Sarima'] = Sarima_forecast\n",
    "\n",
    "# define both parameters for the 2 models\n",
    "arima_order = (1,0,0)\n",
    "config_sarima = (0,1,0),(0,0,0,0),'n'\n",
    "\n",
    "# list creation to store the parameters\n",
    "orders = list()\n",
    "orders.extend([arima_order, config_sarima])\n",
    "\n",
    "# list containing the days of the week for plot on a particular day\n",
    "days = ['mon', 'tue', 'wed', 'thr', 'fri', 'sat', 'sun']"
   ]
  },
  {
   "cell_type": "markdown",
   "metadata": {},
   "source": [
    "<p style=\"text-align: justify\">After defining the different functions, it is now possible to evaluate the different algorithms, summarizing their scores and plotting the RMSE for each day of the week. The function <em>evaluate_algorithms()</em> below implements this procedure by looping over the dictionary of models, and saving the predictions of each model in a list of results, to be used for plots afterwards.</p>"
   ]
  },
  {
   "cell_type": "code",
   "execution_count": 22,
   "metadata": {
    "ExecuteTime": {
     "end_time": "2020-08-15T15:48:09.925232Z",
     "start_time": "2020-08-15T15:48:09.863783Z"
    }
   },
   "outputs": [
    {
     "data": {
      "text/plain": [
       "[array([[5.6130001e-03, 0.0000000e+00, 4.3879156e+07],\n",
       "        [4.6799998e-03, 0.0000000e+00, 3.6591008e+07],\n",
       "        [4.4169999e-03, 0.0000000e+00, 3.4534120e+07],\n",
       "        [4.2539998e-03, 0.0000000e+00, 3.3258632e+07],\n",
       "        [4.2909998e-03, 0.0000000e+00, 3.3547504e+07],\n",
       "        [4.3139998e-03, 0.0000000e+00, 3.3724968e+07],\n",
       "        [4.4149999e-03, 0.0000000e+00, 3.4518484e+07]], dtype=float32),\n",
       " array([[4.4490001e-03, 0.0000000e+00, 3.4778196e+07],\n",
       "        [4.2450000e-03, 0.0000000e+00, 3.3190304e+07],\n",
       "        [3.7880000e-03, 0.0000000e+00, 2.9617450e+07],\n",
       "        [3.0920000e-03, 0.0000000e+00, 2.4172680e+07],\n",
       "        [3.1340001e-03, 0.0000000e+00, 2.4497514e+07],\n",
       "        [5.6710001e-03, 0.0000000e+00, 4.4335332e+07],\n",
       "        [5.6170002e-03, 0.0000000e+00, 4.3916528e+07]], dtype=float32),\n",
       " array([[5.2600000e-03, 0.0000000e+00, 4.1125304e+07],\n",
       "        [6.0979999e-03, 0.0000000e+00, 4.7673884e+07],\n",
       "        [6.1309999e-03, 0.0000000e+00, 4.7928744e+07],\n",
       "        [5.1429998e-03, 0.0000000e+00, 4.0205216e+07],\n",
       "        [5.1389998e-03, 0.0000000e+00, 4.0172928e+07],\n",
       "        [5.5459999e-03, 0.0000000e+00, 4.3357940e+07],\n",
       "        [6.1039999e-03, 0.0000000e+00, 4.7719540e+07]], dtype=float32),\n",
       " array([[6.4170002e-03, 0.0000000e+00, 5.0166772e+07],\n",
       "        [6.4519998e-03, 0.0000000e+00, 5.0441336e+07],\n",
       "        [6.2460001e-03, 0.0000000e+00, 4.8830304e+07],\n",
       "        [5.7629999e-03, 0.0000000e+00, 4.5051372e+07],\n",
       "        [5.9300000e-03, 0.0000000e+00, 4.6362744e+07],\n",
       "        [5.6320000e-03, 0.0000000e+00, 4.4028636e+07],\n",
       "        [5.7870001e-03, 0.0000000e+00, 4.5239784e+07]], dtype=float32),\n",
       " array([[5.5280002e-03, 0.0000000e+00, 4.3216200e+07],\n",
       "        [5.6699999e-03, 0.0000000e+00, 4.4326104e+07],\n",
       "        [5.6949998e-03, 0.0000000e+00, 4.4522804e+07],\n",
       "        [5.7150000e-03, 0.0000000e+00, 4.4677288e+07],\n",
       "        [5.8660000e-03, 0.0000000e+00, 4.5856304e+07],\n",
       "        [6.1730002e-03, 0.0000000e+00, 4.8259600e+07],\n",
       "        [6.1829998e-03, 0.0000000e+00, 4.8338324e+07]], dtype=float32),\n",
       " array([[6.2699998e-03, 0.0000000e+00, 4.9018248e+07],\n",
       "        [5.8080000e-03, 0.0000000e+00, 4.5404896e+07],\n",
       "        [6.2730000e-03, 0.0000000e+00, 4.9043420e+07],\n",
       "        [6.3490001e-03, 0.0000000e+00, 4.9632888e+07],\n",
       "        [6.5130000e-03, 0.0000000e+00, 5.0918776e+07],\n",
       "        [6.3399998e-03, 0.0000000e+00, 4.9564168e+07],\n",
       "        [6.4719999e-03, 0.0000000e+00, 5.0595584e+07]], dtype=float32),\n",
       " array([[7.0560002e-03, 0.0000000e+00, 5.5164280e+07],\n",
       "        [9.6129999e-03, 0.0000000e+00, 7.5152824e+07],\n",
       "        [1.0782000e-02, 0.0000000e+00, 8.4291704e+07],\n",
       "        [1.0958000e-02, 0.0000000e+00, 8.5666872e+07],\n",
       "        [1.0113000e-02, 0.0000000e+00, 7.9063104e+07],\n",
       "        [9.7000003e-03, 0.0000000e+00, 7.5835640e+07],\n",
       "        [1.0406000e-02, 0.0000000e+00, 8.1353744e+07]], dtype=float32),\n",
       " array([[1.00079998e-02, 0.00000000e+00, 7.82390960e+07],\n",
       "        [1.04480004e-02, 0.00000000e+00, 8.16844400e+07],\n",
       "        [1.04329996e-02, 0.00000000e+00, 8.15632640e+07],\n",
       "        [1.17130000e-02, 0.00000000e+00, 9.15740720e+07],\n",
       "        [1.45659996e-02, 0.00000000e+00, 1.13875384e+08],\n",
       "        [1.38349999e-02, 0.00000000e+00, 1.08162072e+08],\n",
       "        [1.28680002e-02, 0.00000000e+00, 1.00599040e+08]], dtype=float32),\n",
       " array([[1.0932000e-02, 0.0000000e+00, 8.5467520e+07],\n",
       "        [1.0529000e-02, 0.0000000e+00, 8.2312216e+07],\n",
       "        [7.8619998e-03, 0.0000000e+00, 6.1466360e+07],\n",
       "        [9.1120005e-03, 0.0000000e+00, 7.1234192e+07],\n",
       "        [9.8730000e-03, 0.0000000e+00, 7.7187120e+07],\n",
       "        [9.4879996e-03, 0.0000000e+00, 7.4176064e+07],\n",
       "        [9.8190000e-03, 0.0000000e+00, 7.6764408e+07]], dtype=float32),\n",
       " array([[9.2399996e-03, 0.0000000e+00, 7.2233936e+07],\n",
       "        [9.4510000e-03, 0.0000000e+00, 7.3884456e+07],\n",
       "        [9.6629998e-03, 0.0000000e+00, 7.5545288e+07],\n",
       "        [9.8609999e-03, 0.0000000e+00, 7.7089632e+07],\n",
       "        [8.9699998e-03, 0.0000000e+00, 7.0127096e+07],\n",
       "        [9.3820002e-03, 0.0000000e+00, 7.3347832e+07],\n",
       "        [8.4119998e-03, 0.0000000e+00, 6.5761508e+07]], dtype=float32),\n",
       " array([[8.4889997e-03, 0.0000000e+00, 6.6366536e+07],\n",
       "        [8.0509996e-03, 0.0000000e+00, 6.2941908e+07],\n",
       "        [7.3050000e-03, 0.0000000e+00, 5.7107728e+07],\n",
       "        [8.3430000e-03, 0.0000000e+00, 6.5224108e+07],\n",
       "        [7.9420004e-03, 0.0000000e+00, 6.2093356e+07],\n",
       "        [7.2519998e-03, 0.0000000e+00, 5.6694712e+07],\n",
       "        [6.6999998e-03, 0.0000000e+00, 5.2377124e+07]], dtype=float32),\n",
       " array([[6.6340002e-03, 0.0000000e+00, 5.1865992e+07],\n",
       "        [6.8450002e-03, 0.0000000e+00, 5.3516424e+07],\n",
       "        [7.8729996e-03, 0.0000000e+00, 6.1551184e+07],\n",
       "        [8.5960003e-03, 0.0000000e+00, 6.7201720e+07],\n",
       "        [6.8600001e-03, 0.0000000e+00, 5.3632208e+07],\n",
       "        [6.0640001e-03, 0.0000000e+00, 4.7410888e+07],\n",
       "        [6.8419999e-03, 0.0000000e+00, 5.3493208e+07]], dtype=float32),\n",
       " array([[5.9420001e-03, 0.0000000e+00, 4.6453824e+07],\n",
       "        [5.9980000e-03, 0.0000000e+00, 4.6892408e+07],\n",
       "        [5.8539999e-03, 0.0000000e+00, 4.5768352e+07],\n",
       "        [6.0729999e-03, 0.0000000e+00, 4.7476952e+07],\n",
       "        [6.3530002e-03, 0.0000000e+00, 4.9670964e+07],\n",
       "        [6.8140002e-03, 0.0000000e+00, 5.3274384e+07],\n",
       "        [7.1600000e-03, 0.0000000e+00, 5.5978044e+07]], dtype=float32),\n",
       " array([[7.0110001e-03, 0.0000000e+00, 5.4811928e+07],\n",
       "        [7.1500000e-03, 0.0000000e+00, 5.5899164e+07],\n",
       "        [7.7760001e-03, 0.0000000e+00, 6.0789252e+07],\n",
       "        [8.9389998e-03, 0.0000000e+00, 6.9883024e+07],\n",
       "        [1.0722000e-02, 0.0000000e+00, 8.3819504e+07],\n",
       "        [8.6530000e-03, 0.0000000e+00, 6.7644528e+07],\n",
       "        [8.6089997e-03, 0.0000000e+00, 6.7307344e+07]], dtype=float32),\n",
       " array([[8.681000e-03, 0.000000e+00, 6.786601e+07],\n",
       "        [9.557000e-03, 0.000000e+00, 7.471370e+07],\n",
       "        [1.084600e-02, 0.000000e+00, 8.479205e+07],\n",
       "        [9.646000e-03, 0.000000e+00, 7.541355e+07],\n",
       "        [9.685000e-03, 0.000000e+00, 7.571415e+07],\n",
       "        [1.014000e-02, 0.000000e+00, 7.927027e+07],\n",
       "        [1.020900e-02, 0.000000e+00, 7.981127e+07]], dtype=float32),\n",
       " array([[1.0918000e-02, 0.0000000e+00, 8.5352592e+07],\n",
       "        [7.2249998e-03, 0.0000000e+00, 5.6486364e+07],\n",
       "        [7.4669998e-03, 0.0000000e+00, 5.8373840e+07],\n",
       "        [9.9350000e-03, 0.0000000e+00, 7.7672768e+07],\n",
       "        [9.7169997e-03, 0.0000000e+00, 7.5969560e+07],\n",
       "        [9.7979996e-03, 0.0000000e+00, 7.6595856e+07],\n",
       "        [1.1668000e-02, 0.0000000e+00, 9.1218352e+07]], dtype=float32),\n",
       " array([[1.8208001e-02, 0.0000000e+00, 1.4234814e+08],\n",
       "        [2.9912001e-02, 0.0000000e+00, 2.3385262e+08],\n",
       "        [2.4095999e-02, 0.0000000e+00, 1.8837830e+08],\n",
       "        [2.8981000e-02, 0.0000000e+00, 2.2657261e+08],\n",
       "        [3.0986000e-02, 0.0000000e+00, 2.4224747e+08],\n",
       "        [3.8385998e-02, 0.0000000e+00, 3.0009907e+08],\n",
       "        [5.1495999e-02, 0.0000000e+00, 4.0259395e+08]], dtype=float32),\n",
       " array([[5.5252001e-02, 0.0000000e+00, 4.3195482e+08],\n",
       "        [4.8672002e-02, 0.0000000e+00, 3.8050998e+08],\n",
       "        [5.8692001e-02, 0.0000000e+00, 4.5884838e+08],\n",
       "        [5.5153001e-02, 0.0000000e+00, 4.3117930e+08],\n",
       "        [4.2211000e-02, 0.0000000e+00, 3.3000486e+08],\n",
       "        [3.3066001e-02, 0.0000000e+00, 2.5851026e+08],\n",
       "        [3.6456000e-02, 0.0000000e+00, 2.8500509e+08]], dtype=float32),\n",
       " array([[3.8929999e-02, 0.0000000e+00, 3.0435200e+08],\n",
       "        [4.3784000e-02, 0.0000000e+00, 3.4229613e+08],\n",
       "        [3.7937000e-02, 0.0000000e+00, 2.9659040e+08],\n",
       "        [3.4650002e-02, 0.0000000e+00, 2.7089222e+08],\n",
       "        [3.5145000e-02, 0.0000000e+00, 2.7476051e+08],\n",
       "        [3.1941000e-02, 0.0000000e+00, 2.4970731e+08],\n",
       "        [2.9137000e-02, 0.0000000e+00, 2.2778907e+08]], dtype=float32),\n",
       " array([[2.15649996e-02, 0.00000000e+00, 1.68589664e+08],\n",
       "        [1.83130000e-02, 0.00000000e+00, 1.43170576e+08],\n",
       "        [1.58520006e-02, 0.00000000e+00, 1.23933096e+08],\n",
       "        [2.10730005e-02, 0.00000000e+00, 1.64747168e+08],\n",
       "        [2.08509993e-02, 0.00000000e+00, 1.63010816e+08],\n",
       "        [2.16840003e-02, 0.00000000e+00, 1.69521552e+08],\n",
       "        [2.17160005e-02, 0.00000000e+00, 1.69773296e+08]], dtype=float32),\n",
       " array([[2.3701999e-02, 0.0000000e+00, 1.8530118e+08],\n",
       "        [2.2575000e-02, 0.0000000e+00, 1.7648730e+08],\n",
       "        [2.2042001e-02, 0.0000000e+00, 1.7231880e+08],\n",
       "        [2.4385000e-02, 0.0000000e+00, 1.9063846e+08],\n",
       "        [2.7076000e-02, 1.4842200e+05, 2.1167406e+08],\n",
       "        [2.7303001e-02, 1.4340400e+05, 2.1345341e+08],\n",
       "        [2.7217999e-02, 5.6772000e+04, 2.1278419e+08]], dtype=float32),\n",
       " array([[2.7460000e-02, 7.2634000e+04, 2.1468082e+08],\n",
       "        [2.7330000e-02, 6.3621000e+04, 2.1366371e+08],\n",
       "        [2.6944000e-02, 5.8533000e+04, 2.1064914e+08],\n",
       "        [2.8726000e-02, 1.2891400e+05, 2.2457357e+08],\n",
       "        [2.7627001e-02, 8.9780000e+04, 2.1598797e+08],\n",
       "        [2.8129000e-02, 6.0973000e+04, 2.1991176e+08],\n",
       "        [2.5230000e-02, 2.0043800e+05, 1.9724146e+08]], dtype=float32),\n",
       " array([[2.5699999e-02, 1.8447800e+05, 2.0092211e+08],\n",
       "        [2.2986000e-02, 7.3761000e+04, 1.7970358e+08],\n",
       "        [2.3227001e-02, 8.2941000e+04, 1.8158925e+08],\n",
       "        [2.2368001e-02, 1.0035700e+05, 1.7487368e+08],\n",
       "        [2.2837000e-02, 6.4111000e+04, 1.7854027e+08],\n",
       "        [2.4018999e-02, 7.0390000e+04, 1.8777634e+08],\n",
       "        [2.2043999e-02, 4.2581000e+04, 1.7233365e+08]], dtype=float32),\n",
       " array([[2.1663999e-02, 1.5328000e+04, 1.6936989e+08],\n",
       "        [2.1186000e-02, 4.1916000e+04, 1.6562826e+08],\n",
       "        [2.2221001e-02, 2.5189000e+04, 1.7372211e+08],\n",
       "        [2.1024000e-02, 5.8851000e+04, 1.6436019e+08],\n",
       "        [2.0530000e-02, 7.2572000e+04, 1.6049893e+08],\n",
       "        [2.1279000e-02, 2.1242000e+04, 1.6635296e+08],\n",
       "        [2.0874999e-02, 6.9842000e+04, 1.6320158e+08]], dtype=float32),\n",
       " array([[1.9856000e-02, 6.7712000e+04, 1.5523437e+08],\n",
       "        [1.9927001e-02, 8.2453000e+04, 1.5578944e+08],\n",
       "        [1.9389000e-02, 6.0703000e+04, 1.5157794e+08],\n",
       "        [1.8534999e-02, 1.0675500e+05, 1.4490067e+08],\n",
       "        [1.8126000e-02, 1.3662200e+05, 1.4170786e+08],\n",
       "        [1.9141000e-02, 7.5029000e+04, 1.4964536e+08],\n",
       "        [2.0128001e-02, 7.7411000e+04, 1.5736240e+08]], dtype=float32),\n",
       " array([[1.8967001e-02, 1.2468500e+05, 1.4827878e+08],\n",
       "        [2.0605000e-02, 1.0016900e+05, 1.6108997e+08],\n",
       "        [2.0337000e-02, 7.3134000e+04, 1.5899008e+08],\n",
       "        [2.0337000e-02, 9.0862000e+04, 1.5898930e+08],\n",
       "        [2.0504000e-02, 9.8529000e+04, 1.6029802e+08],\n",
       "        [2.0698000e-02, 1.2394900e+05, 1.6181547e+08],\n",
       "        [2.1560000e-02, 1.1230100e+05, 1.6855526e+08]], dtype=float32),\n",
       " array([[2.1402000e-02, 7.4739000e+04, 1.6731456e+08],\n",
       "        [2.0997001e-02, 7.5453000e+04, 1.6415536e+08],\n",
       "        [2.0357000e-02, 5.4085000e+04, 1.5915035e+08],\n",
       "        [1.9753000e-02, 9.7667000e+04, 1.5442286e+08],\n",
       "        [1.8377000e-02, 1.5302900e+05, 1.4367248e+08],\n",
       "        [1.7487001e-02, 5.4013000e+04, 1.3670987e+08],\n",
       "        [1.7390000e-02, 6.4662000e+04, 1.3595154e+08]], dtype=float32),\n",
       " array([[1.6677000e-02, 3.8466000e+04, 1.3037504e+08],\n",
       "        [1.7681001e-02, 6.3155000e+04, 1.3823123e+08],\n",
       "        [1.7174000e-02, 6.7226000e+04, 1.3426288e+08],\n",
       "        [1.6078999e-02, 6.4399000e+04, 1.2570150e+08],\n",
       "        [1.6367000e-02, 1.2682500e+05, 1.2795306e+08],\n",
       "        [1.6083000e-02, 8.2831000e+04, 1.2573199e+08],\n",
       "        [1.5338000e-02, 8.0122000e+04, 1.1991314e+08]], dtype=float32),\n",
       " array([[1.5294000e-02, 1.1087800e+05, 1.1956290e+08],\n",
       "        [1.5286000e-02, 1.5212400e+05, 1.1950505e+08],\n",
       "        [1.5237000e-02, 1.0628100e+05, 1.1912197e+08],\n",
       "        [1.4251000e-02, 2.1739300e+05, 1.1141587e+08],\n",
       "        [1.5070000e-02, 1.2432100e+05, 1.1781716e+08],\n",
       "        [1.5682001e-02, 8.8006000e+04, 1.2259702e+08],\n",
       "        [1.5412000e-02, 1.0394400e+05, 1.2048775e+08]], dtype=float32),\n",
       " array([[1.35899996e-02, 1.41564000e+05, 1.06241992e+08],\n",
       "        [1.29899997e-02, 2.93736000e+05, 1.01551264e+08],\n",
       "        [1.40930004e-02, 7.09790000e+04, 1.10177520e+08],\n",
       "        [1.41530000e-02, 1.01022000e+05, 1.10647376e+08],\n",
       "        [1.36670005e-02, 1.66863000e+05, 1.06843192e+08],\n",
       "        [1.37989996e-02, 1.11575000e+05, 1.07881408e+08],\n",
       "        [1.35430004e-02, 6.29820000e+04, 1.05880024e+08]], dtype=float32),\n",
       " array([[1.5596000e-02, 1.2771700e+05, 1.2193172e+08],\n",
       "        [1.6135000e-02, 1.7974700e+05, 1.2613853e+08],\n",
       "        [1.6008001e-02, 1.2234700e+05, 1.2515190e+08],\n",
       "        [1.5921000e-02, 1.4227700e+05, 1.2446862e+08],\n",
       "        [1.5009000e-02, 1.6955300e+05, 1.1733870e+08],\n",
       "        [1.4404000e-02, 5.6617000e+04, 1.1261202e+08],\n",
       "        [1.4745000e-02, 4.7281000e+04, 1.1527635e+08]], dtype=float32),\n",
       " array([[1.4745000e-02, 1.0161000e+05, 1.1527557e+08],\n",
       "        [1.4279000e-02, 3.3228000e+04, 1.1163165e+08],\n",
       "        [1.4353000e-02, 1.3517100e+05, 1.1221252e+08],\n",
       "        [1.4333000e-02, 5.7138000e+04, 1.1205538e+08],\n",
       "        [1.4198000e-02, 1.2185200e+05, 1.1099918e+08],\n",
       "        [1.4345000e-02, 3.7093000e+04, 1.1214528e+08],\n",
       "        [1.4306000e-02, 8.2339000e+04, 1.1184351e+08]], dtype=float32),\n",
       " array([[1.4112000e-02, 1.2154100e+05, 1.1032215e+08],\n",
       "        [1.4050000e-02, 8.7514000e+04, 1.0984135e+08],\n",
       "        [1.3963000e-02, 1.3271700e+05, 1.0915885e+08],\n",
       "        [1.3638000e-02, 1.6279700e+05, 1.0662116e+08],\n",
       "        [1.3250000e-02, 1.9260700e+05, 1.0358704e+08],\n",
       "        [1.2954000e-02, 1.3712200e+05, 1.0127216e+08],\n",
       "        [1.2651000e-02, 1.3741300e+05, 9.8902560e+07]], dtype=float32),\n",
       " array([[1.2871000e-02, 1.1553800e+05, 1.0062718e+08],\n",
       "        [1.2830000e-02, 9.0025000e+04, 1.0030743e+08],\n",
       "        [1.2594000e-02, 1.5410400e+05, 9.8456160e+07],\n",
       "        [1.0226000e-02, 2.7250700e+05, 7.9948088e+07],\n",
       "        [1.0551000e-02, 2.2076500e+05, 8.2488904e+07],\n",
       "        [1.0338000e-02, 1.2192100e+05, 8.0824472e+07],\n",
       "        [9.6530002e-03, 1.7796500e+05, 7.5463512e+07]], dtype=float32),\n",
       " array([[8.7850001e-03, 2.4459800e+05, 6.8678048e+07],\n",
       "        [8.7569999e-03, 1.7270900e+05, 6.8458136e+07],\n",
       "        [7.9220003e-03, 3.0688900e+05, 6.1931056e+07],\n",
       "        [7.9440000e-03, 1.7287300e+05, 6.2108288e+07],\n",
       "        [8.0939997e-03, 1.3200700e+05, 6.3275968e+07],\n",
       "        [8.3240001e-03, 7.3596000e+04, 6.5075568e+07],\n",
       "        [8.2470002e-03, 9.5708000e+04, 6.4471712e+07]], dtype=float32),\n",
       " array([[8.0350004e-03, 6.2187000e+04, 6.2814320e+07],\n",
       "        [8.0129998e-03, 6.5204000e+04, 6.2642876e+07],\n",
       "        [7.8659998e-03, 2.2184400e+05, 6.1493408e+07],\n",
       "        [6.3180001e-03, 3.3295300e+05, 4.9396944e+07],\n",
       "        [6.5819998e-03, 3.4588800e+05, 5.1456024e+07],\n",
       "        [6.2569999e-03, 1.8242100e+05, 4.8919272e+07],\n",
       "        [5.9870002e-03, 1.5300500e+05, 4.6807036e+07]], dtype=float32),\n",
       " array([[6.5179998e-03, 4.6632900e+05, 5.0955128e+07],\n",
       "        [7.7189999e-03, 2.7461600e+05, 6.0350200e+07],\n",
       "        [7.0230002e-03, 1.0249700e+06, 5.4902384e+07],\n",
       "        [6.3390001e-03, 2.6118700e+05, 4.9554476e+07],\n",
       "        [6.2099998e-03, 2.0953800e+05, 4.8547688e+07],\n",
       "        [6.4730002e-03, 2.0754100e+05, 5.0604732e+07],\n",
       "        [6.2139998e-03, 1.6283000e+05, 4.8577864e+07]], dtype=float32),\n",
       " array([[6.1420002e-03, 1.7281300e+05, 4.8015524e+07],\n",
       "        [6.0589998e-03, 2.0565500e+05, 4.7371800e+07],\n",
       "        [6.1100000e-03, 2.4828400e+05, 4.7768872e+07],\n",
       "        [6.0689999e-03, 2.0106400e+05, 4.7450292e+07],\n",
       "        [5.4910001e-03, 1.1569800e+05, 4.2927016e+07],\n",
       "        [5.3940001e-03, 6.2246000e+04, 4.2171576e+07],\n",
       "        [4.8590000e-03, 1.8377700e+05, 3.7983608e+07]], dtype=float32),\n",
       " array([[5.1389998e-03, 1.7902000e+05, 4.0174496e+07],\n",
       "        [5.3619999e-03, 6.6925000e+04, 4.1918040e+07],\n",
       "        [5.3639999e-03, 2.2200300e+05, 4.1935004e+07],\n",
       "        [5.4130000e-03, 1.6786100e+05, 4.2319408e+07],\n",
       "        [5.3150002e-03, 2.9288100e+05, 4.1551928e+07],\n",
       "        [5.0240001e-03, 7.8782000e+04, 3.9275592e+07],\n",
       "        [5.0240001e-03, 5.0950000e+04, 3.9279344e+07]], dtype=float32),\n",
       " array([[5.2140001e-03, 1.8415600e+05, 4.0766308e+07],\n",
       "        [5.9730001e-03, 5.1886700e+05, 4.6693520e+07],\n",
       "        [6.3510002e-03, 5.6681900e+05, 4.9653608e+07],\n",
       "        [6.0800002e-03, 2.9342400e+05, 4.7531988e+07],\n",
       "        [6.0629998e-03, 2.3447800e+05, 4.7399240e+07],\n",
       "        [5.9750001e-03, 1.7376200e+05, 4.6710640e+07],\n",
       "        [5.7540000e-03, 1.2092300e+05, 4.4981560e+07]], dtype=float32),\n",
       " array([[5.9369998e-03, 1.6847100e+05, 4.6411608e+07],\n",
       "        [6.3399998e-03, 3.3197900e+05, 4.9564404e+07],\n",
       "        [7.1540000e-03, 9.7227000e+05, 5.5928244e+07],\n",
       "        [7.0989998e-03, 3.6767200e+05, 5.5495760e+07],\n",
       "        [6.9100000e-03, 3.1346800e+05, 5.4020760e+07],\n",
       "        [6.4869998e-03, 2.4815700e+05, 5.0712696e+07],\n",
       "        [6.0040001e-03, 3.4667800e+05, 4.6938140e+07]], dtype=float32),\n",
       " array([[6.0339998e-03, 2.4790700e+05, 4.7170412e+07],\n",
       "        [6.7110001e-03, 3.9558700e+05, 5.2468984e+07],\n",
       "        [6.6689998e-03, 4.7499200e+05, 5.2135788e+07],\n",
       "        [3.9929999e-03, 2.8467500e+06, 3.1220116e+07],\n",
       "        [3.3150001e-03, 1.1746500e+06, 2.5918572e+07],\n",
       "        [4.1109999e-03, 1.1113100e+06, 3.2136452e+07],\n",
       "        [3.6460001e-03, 6.3847300e+05, 2.8500196e+07]], dtype=float32),\n",
       " array([[3.7990001e-03, 4.6486100e+05, 2.9698834e+07],\n",
       "        [4.6430002e-03, 1.3581700e+06, 3.6294788e+07],\n",
       "        [5.0050002e-03, 1.5505800e+06, 3.9130024e+07],\n",
       "        [4.7909999e-03, 4.8532200e+05, 3.7458168e+07],\n",
       "        [4.2320001e-03, 1.6663800e+05, 3.3082572e+07],\n",
       "        [4.1459999e-03, 2.0156800e+05, 3.2409218e+07],\n",
       "        [4.0920000e-03, 2.4624400e+05, 3.1988928e+07]], dtype=float32),\n",
       " array([[4.3390002e-03, 2.7493700e+05, 3.3921356e+07],\n",
       "        [4.3850001e-03, 6.1244100e+05, 3.4282776e+07],\n",
       "        [3.9519998e-03, 4.3867200e+05, 3.0898802e+07],\n",
       "        [3.8409999e-03, 2.5199400e+05, 3.0031408e+07],\n",
       "        [3.9160000e-03, 6.2554000e+04, 3.0614778e+07],\n",
       "        [3.9610001e-03, 1.0388800e+05, 3.0966504e+07],\n",
       "        [3.9740000e-03, 1.1587500e+05, 3.1071578e+07]], dtype=float32),\n",
       " array([[4.2249998e-03, 4.3497100e+05, 3.3027926e+07],\n",
       "        [4.5469999e-03, 3.8636000e+05, 3.5549120e+07],\n",
       "        [4.4209999e-03, 2.5705700e+05, 3.4562264e+07],\n",
       "        [4.0480001e-03, 2.6454800e+05, 3.1643924e+07],\n",
       "        [4.1609998e-03, 1.7243000e+05, 3.2533054e+07],\n",
       "        [4.0170001e-03, 1.4432400e+05, 3.1407434e+07],\n",
       "        [4.1970001e-03, 8.2035000e+04, 3.2813872e+07]], dtype=float32),\n",
       " array([[4.1729999e-03, 1.7795500e+05, 3.2625774e+07],\n",
       "        [4.2639999e-03, 1.1574300e+05, 3.3333060e+07],\n",
       "        [4.2470000e-03, 1.5344800e+05, 3.3202500e+07],\n",
       "        [4.2300001e-03, 2.4118000e+04, 3.3073348e+07],\n",
       "        [4.1880002e-03, 1.5767700e+05, 3.2742496e+07],\n",
       "        [4.1499999e-03, 7.7189000e+04, 3.2441272e+07],\n",
       "        [4.1870000e-03, 2.0489300e+05, 3.2729674e+07]], dtype=float32),\n",
       " array([[4.0850001e-03, 1.0471200e+05, 3.1938660e+07],\n",
       "        [4.0489999e-03, 1.9677000e+05, 3.1658232e+07],\n",
       "        [3.9309999e-03, 2.0874100e+05, 3.0732594e+07],\n",
       "        [4.0509999e-03, 1.9022000e+04, 3.1671522e+07],\n",
       "        [3.9929999e-03, 1.7794000e+04, 3.1220196e+07],\n",
       "        [3.9229998e-03, 8.3160000e+03, 3.0666532e+07],\n",
       "        [4.0130001e-03, 1.3533000e+04, 3.1372410e+07]], dtype=float32),\n",
       " array([[3.7799999e-03, 2.0028000e+04, 2.9549122e+07],\n",
       "        [3.6230001e-03, 2.4187000e+05, 2.8326168e+07],\n",
       "        [3.4840000e-03, 1.5741200e+05, 2.7234948e+07],\n",
       "        [3.3600000e-03, 1.4002300e+05, 2.6268812e+07],\n",
       "        [3.2460000e-03, 2.2468000e+05, 2.5373352e+07],\n",
       "        [3.1320001e-03, 2.1598000e+05, 2.4489228e+07],\n",
       "        [2.8100000e-03, 1.4886200e+05, 2.1969912e+07]], dtype=float32),\n",
       " array([[3.0820000e-03, 1.9151000e+05, 2.4096300e+07],\n",
       "        [3.3000000e-03, 2.2295700e+05, 2.5796378e+07],\n",
       "        [3.8790000e-03, 1.7891800e+05, 3.0323168e+07],\n",
       "        [4.0739998e-03, 2.8190900e+05, 3.1847186e+07],\n",
       "        [4.2980001e-03, 4.0656000e+05, 3.3599332e+07],\n",
       "        [4.3170000e-03, 1.7267400e+05, 3.3751000e+07],\n",
       "        [4.3060002e-03, 6.4623000e+04, 3.3667424e+07]], dtype=float32),\n",
       " array([[4.3670000e-03, 1.1392700e+05, 3.4143064e+07],\n",
       "        [4.5139999e-03, 1.7606700e+05, 3.5286824e+07],\n",
       "        [4.8980000e-03, 3.5185200e+05, 3.8295460e+07],\n",
       "        [6.1619999e-03, 9.5231000e+05, 4.8174300e+07],\n",
       "        [6.3640000e-03, 6.1309800e+05, 4.9754296e+07],\n",
       "        [5.2979998e-03, 5.3840800e+05, 4.1416360e+07],\n",
       "        [5.3829998e-03, 1.7500400e+05, 4.2080256e+07]], dtype=float32),\n",
       " array([[5.3619999e-03, 1.3696700e+05, 4.1918580e+07],\n",
       "        [5.6429999e-03, 2.8045400e+05, 4.4119316e+07],\n",
       "        [6.1440002e-03, 3.2788000e+05, 5.0707776e+07],\n",
       "        [5.9290002e-03, 2.6373900e+05, 4.8928020e+07],\n",
       "        [6.0430001e-03, 1.5300200e+05, 4.9871624e+07],\n",
       "        [6.0410001e-03, 1.4611700e+05, 4.9850660e+07],\n",
       "        [6.0210000e-03, 9.9553000e+04, 4.9685444e+07]], dtype=float32),\n",
       " array([[6.1570001e-03, 1.5989300e+05, 5.0815060e+07],\n",
       "        [6.0660001e-03, 1.2340800e+05, 5.0058296e+07],\n",
       "        [5.0969999e-03, 4.7401000e+05, 4.2067468e+07],\n",
       "        [5.1890002e-03, 5.7262100e+05, 4.2821592e+07],\n",
       "        [5.3690001e-03, 3.9315300e+05, 4.4307720e+07],\n",
       "        [5.2939998e-03, 2.2051800e+05, 4.3690588e+07],\n",
       "        [5.2149999e-03, 7.0579000e+04, 4.3035992e+07]], dtype=float32),\n",
       " array([[4.9480000e-03, 3.4176500e+05, 4.0833456e+07],\n",
       "        [5.1040002e-03, 2.5694700e+05, 4.2124492e+07],\n",
       "        [5.2560000e-03, 2.0333500e+05, 4.3376328e+07],\n",
       "        [5.3429999e-03, 2.2195800e+05, 4.4093892e+07],\n",
       "        [5.4620001e-03, 1.9230400e+05, 4.5072156e+07],\n",
       "        [5.2419999e-03, 3.2588600e+05, 4.3259472e+07],\n",
       "        [4.9749999e-03, 2.5086300e+05, 4.1057100e+07]], dtype=float32),\n",
       " array([[5.2140001e-03, 2.7238700e+05, 4.3030712e+07],\n",
       "        [5.0440002e-03, 2.8997700e+05, 4.1621992e+07],\n",
       "        [4.9700001e-03, 2.9114800e+05, 4.1016252e+07],\n",
       "        [5.2270000e-03, 6.6550600e+05, 4.3134448e+07],\n",
       "        [5.4100002e-03, 3.0083100e+05, 4.4643764e+07],\n",
       "        [5.4179998e-03, 9.4314000e+04, 4.4712756e+07],\n",
       "        [5.1770001e-03, 1.1816000e+05, 4.2720248e+07]], dtype=float32),\n",
       " array([[4.9790000e-03, 4.9572000e+05, 4.1088792e+07],\n",
       "        [5.0510000e-03, 1.7619700e+05, 4.1681988e+07],\n",
       "        [5.2649998e-03, 1.9055700e+05, 4.3447136e+07],\n",
       "        [5.1170001e-03, 1.5290500e+05, 4.2225832e+07],\n",
       "        [5.0949999e-03, 1.6954000e+05, 4.2047412e+07],\n",
       "        [5.0160000e-03, 1.0419000e+05, 4.1397604e+07],\n",
       "        [5.1540001e-03, 8.3678000e+04, 4.2530520e+07]], dtype=float32),\n",
       " array([[4.9740002e-03, 2.9102300e+05, 4.1052232e+07],\n",
       "        [4.8369998e-03, 4.5568800e+05, 1.4021261e+08],\n",
       "        [5.0149998e-03, 1.6737400e+05, 1.4537589e+08],\n",
       "        [5.0619999e-03, 3.6582000e+05, 1.4674794e+08],\n",
       "        [5.0169998e-03, 1.6954800e+05, 1.4543821e+08],\n",
       "        [4.9609998e-03, 1.3695700e+05, 1.4380640e+08],\n",
       "        [4.8870002e-03, 1.1336500e+05, 1.4165598e+08]], dtype=float32),\n",
       " array([[5.0249998e-03, 2.6709500e+05, 1.4568432e+08],\n",
       "        [4.6410002e-03, 2.3031500e+05, 1.3454347e+08],\n",
       "        [4.7760000e-03, 1.9301700e+05, 1.3843846e+08],\n",
       "        [4.8050000e-03, 1.2481400e+05, 1.3928930e+08],\n",
       "        [4.8739999e-03, 1.1914500e+05, 1.4130290e+08],\n",
       "        [4.7950000e-03, 6.5745000e+04, 1.3899854e+08],\n",
       "        [4.7040000e-03, 8.7858000e+04, 1.3635790e+08]], dtype=float32),\n",
       " array([[4.7109998e-03, 1.0808000e+05, 1.3655734e+08],\n",
       "        [4.7189998e-03, 1.8167700e+05, 1.3681216e+08],\n",
       "        [4.7499998e-03, 1.6144000e+05, 1.3769112e+08],\n",
       "        [4.7490001e-03, 1.0551800e+05, 1.3767026e+08],\n",
       "        [4.7129998e-03, 1.9503800e+05, 1.3661475e+08],\n",
       "        [4.7060000e-03, 1.3183500e+05, 1.3641821e+08],\n",
       "        [5.1360000e-03, 9.8338200e+05, 1.4889952e+08]], dtype=float32),\n",
       " array([[5.0499998e-03, 3.1929000e+05, 1.4638934e+08],\n",
       "        [5.1239999e-03, 5.9050700e+05, 1.4853890e+08],\n",
       "        [5.3989999e-03, 1.2819600e+06, 1.5649906e+08],\n",
       "        [5.1350002e-03, 4.9114700e+05, 1.4887286e+08],\n",
       "        [4.9419999e-03, 4.0710900e+05, 1.4327213e+08],\n",
       "        [4.7720000e-03, 3.2262100e+05, 1.3832656e+08],\n",
       "        [4.5699999e-03, 3.0957100e+05, 1.3247770e+08]], dtype=float32),\n",
       " array([[4.65699984e-03, 2.67342000e+05, 1.35011072e+08],\n",
       "        [4.61299997e-03, 3.23106000e+05, 1.33732640e+08],\n",
       "        [4.66800015e-03, 3.49329000e+05, 1.35310528e+08],\n",
       "        [4.72200010e-03, 7.45348000e+05, 1.36895360e+08],\n",
       "        [4.61600022e-03, 4.97323000e+05, 1.33802216e+08],\n",
       "        [4.70500020e-03, 2.21573000e+05, 1.36395584e+08],\n",
       "        [5.28200017e-03, 4.64102000e+05, 1.53120064e+08]], dtype=float32),\n",
       " array([[4.7050002e-03, 1.2207300e+05, 1.3638110e+08],\n",
       "        [4.6440000e-03, 1.0935200e+05, 1.3462522e+08],\n",
       "        [4.7519999e-03, 6.4998000e+04, 1.3776824e+08],\n",
       "        [4.8739999e-03, 2.0915800e+05, 1.4129622e+08],\n",
       "        [5.0229998e-03, 2.6408300e+05, 1.4560779e+08],\n",
       "        [4.9410001e-03, 1.6851600e+05, 1.4325010e+08],\n",
       "        [4.7889999e-03, 1.8131600e+05, 1.3881968e+08]], dtype=float32),\n",
       " array([[4.7300002e-03, 2.1868400e+05, 1.3711742e+08],\n",
       "        [4.7650002e-03, 1.3643900e+05, 1.3814422e+08],\n",
       "        [4.7869999e-03, 3.9802600e+05, 1.3876024e+08],\n",
       "        [4.8239999e-03, 2.1459100e+05, 1.3983835e+08],\n",
       "        [4.8710001e-03, 1.4043600e+05, 1.4121970e+08],\n",
       "        [4.7530001e-03, 2.6317500e+05, 1.3778736e+08],\n",
       "        [4.8580002e-03, 2.7266700e+05, 1.4081934e+08]], dtype=float32),\n",
       " array([[4.7840001e-03, 4.6367900e+05, 1.3869010e+08],\n",
       "        [4.8719998e-03, 2.3149000e+05, 1.4122202e+08],\n",
       "        [4.8270002e-03, 2.3562700e+05, 1.3993344e+08],\n",
       "        [4.8549999e-03, 1.1962300e+05, 1.4073296e+08],\n",
       "        [4.9040001e-03, 2.4569200e+05, 1.4216504e+08],\n",
       "        [4.9649999e-03, 6.9145000e+04, 1.4393338e+08],\n",
       "        [4.9490002e-03, 5.5748000e+04, 1.4347187e+08]], dtype=float32),\n",
       " array([[5.0730002e-03, 2.9588800e+05, 1.4707698e+08],\n",
       "        [5.1930002e-03, 1.4679600e+05, 1.5053075e+08],\n",
       "        [5.1870001e-03, 1.0756100e+05, 1.5037653e+08],\n",
       "        [5.1420000e-03, 3.7821600e+05, 1.4905694e+08],\n",
       "        [5.0820000e-03, 2.8207000e+05, 1.4731613e+08],\n",
       "        [4.7189998e-03, 2.7256600e+05, 1.3680754e+08],\n",
       "        [4.5480002e-03, 4.4067900e+05, 1.3183964e+08]], dtype=float32),\n",
       " array([[4.8910002e-03, 2.9951800e+05, 1.4179803e+08],\n",
       "        [4.8449999e-03, 2.7289400e+05, 1.4044278e+08],\n",
       "        [4.7760000e-03, 3.4660600e+05, 1.3845296e+08],\n",
       "        [4.8900000e-03, 2.2006300e+05, 1.4175658e+08],\n",
       "        [4.8670000e-03, 1.5104600e+05, 1.4108170e+08],\n",
       "        [4.6709999e-03, 1.9020400e+05, 1.3540474e+08],\n",
       "        [4.6640001e-03, 1.1991300e+05, 1.3521805e+08]], dtype=float32),\n",
       " array([[4.8099998e-03, 2.1251700e+05, 1.3944410e+08],\n",
       "        [4.8050000e-03, 2.7613400e+05, 1.3928843e+08],\n",
       "        [4.8610000e-03, 3.0982000e+05, 1.4091821e+08],\n",
       "        [4.8770001e-03, 4.1638600e+05, 1.4139363e+08],\n",
       "        [4.8770001e-03, 4.3407500e+05, 1.4138378e+08],\n",
       "        [4.9069999e-03, 1.4318100e+05, 1.4224997e+08],\n",
       "        [4.9259998e-03, 2.4082400e+05, 1.4280424e+08]], dtype=float32),\n",
       " array([[4.9009998e-03, 5.4539000e+05, 1.4208995e+08],\n",
       "        [4.8989998e-03, 7.8161400e+05, 1.4200675e+08],\n",
       "        [5.0969999e-03, 4.4717300e+05, 1.4776981e+08],\n",
       "        [5.0349999e-03, 4.8659500e+05, 1.4596320e+08],\n",
       "        [5.1970002e-03, 3.0091000e+05, 1.5064730e+08],\n",
       "        [5.0519998e-03, 1.1680300e+05, 1.4646733e+08],\n",
       "        [5.1810001e-03, 7.8345000e+04, 1.5019709e+08]], dtype=float32),\n",
       " array([[5.3400001e-03, 4.3135900e+05, 1.5479390e+08],\n",
       "        [5.4319999e-03, 4.5454400e+05, 1.5745541e+08],\n",
       "        [5.6960001e-03, 4.3491600e+05, 1.6510944e+08],\n",
       "        [6.0580000e-03, 9.3256400e+05, 1.7561544e+08],\n",
       "        [6.5890001e-03, 7.2003500e+05, 1.9101859e+08],\n",
       "        [7.6629999e-03, 1.1235600e+06, 2.2214928e+08],\n",
       "        [8.5990001e-03, 1.2880500e+06, 2.6556147e+08]], dtype=float32),\n",
       " array([[8.5619995e-03, 8.3615400e+05, 2.6440250e+08],\n",
       "        [9.7399997e-03, 2.6179900e+06, 3.0079558e+08],\n",
       "        [1.1004000e-02, 2.3828600e+06, 3.3980614e+08],\n",
       "        [1.4205000e-02, 5.3553500e+06, 4.3866355e+08],\n",
       "        [1.5165000e-02, 2.8155200e+06, 4.6830966e+08],\n",
       "        [1.3982000e-02, 1.8785000e+06, 4.3178010e+08],\n",
       "        [1.1211000e-02, 2.8573400e+06, 3.4622330e+08]], dtype=float32),\n",
       " array([[1.2559000e-02, 3.4537500e+06, 3.8782355e+08],\n",
       "        [1.3158000e-02, 2.2060400e+06, 4.0633386e+08],\n",
       "        [1.3130000e-02, 1.0630000e+06, 4.0547843e+08],\n",
       "        [1.3343000e-02, 2.3631600e+06, 4.1205309e+08],\n",
       "        [1.3785000e-02, 1.2812900e+06, 4.2569648e+08],\n",
       "        [1.4406000e-02, 1.4024500e+06, 4.4487997e+08],\n",
       "        [1.4794000e-02, 9.3538600e+05, 4.5686502e+08]], dtype=float32),\n",
       " array([[1.3421000e-02, 2.5683800e+06, 4.1444640e+08],\n",
       "        [1.5068000e-02, 1.6216000e+06, 4.6532653e+08],\n",
       "        [1.5907001e-02, 1.1162200e+06, 4.9124525e+08],\n",
       "        [1.6373999e-02, 1.6209100e+06, 5.0565450e+08],\n",
       "        [1.6373999e-02, 1.6209100e+06, 5.0565450e+08],\n",
       "        [1.6992001e-02, 1.2109500e+06, 5.2474534e+08],\n",
       "        [1.7127000e-02, 4.3181400e+05, 5.2889888e+08]], dtype=float32),\n",
       " array([[1.8242000e-02, 2.6337400e+06, 5.6332237e+08],\n",
       "        [2.1539001e-02, 6.2497800e+06, 6.6514125e+08],\n",
       "        [2.6064999e-02, 5.9811400e+06, 8.0491341e+08],\n",
       "        [2.7939999e-02, 4.0167100e+06, 8.6282214e+08],\n",
       "        [2.3337999e-02, 6.2545900e+06, 7.2071226e+08],\n",
       "        [2.4207000e-02, 3.2247700e+06, 7.4754816e+08],\n",
       "        [2.4921000e-02, 1.5231800e+06, 7.7198912e+08]], dtype=float32),\n",
       " array([[2.5562000e-02, 2.1503700e+06, 7.9186157e+08],\n",
       "        [2.3878001e-02, 2.7787700e+06, 7.3968518e+08],\n",
       "        [2.3382001e-02, 1.4283900e+06, 7.2434176e+08],\n",
       "        [2.4138000e-02, 1.2348000e+06, 7.4775808e+08],\n",
       "        [2.5308000e-02, 2.0117800e+06, 7.8399315e+08],\n",
       "        [2.4073999e-02, 8.3799200e+05, 7.4576000e+08],\n",
       "        [2.3763999e-02, 1.0056500e+06, 7.3615680e+08]], dtype=float32),\n",
       " array([[2.4231000e-02, 1.1458000e+06, 7.5063904e+08],\n",
       "        [2.4200000e-02, 7.9550500e+05, 7.4968179e+08],\n",
       "        [2.4437999e-02, 6.4094000e+05, 7.5704218e+08],\n",
       "        [2.4390001e-02, 3.9902200e+05, 7.5555834e+08],\n",
       "        [2.4318000e-02, 4.5995600e+05, 7.5334035e+08],\n",
       "        [2.2105999e-02, 2.1710400e+06, 6.8479821e+08],\n",
       "        [1.8928001e-02, 3.8010100e+06, 5.8634989e+08]], dtype=float32),\n",
       " array([[2.0315999e-02, 3.0519300e+06, 6.2935059e+08],\n",
       "        [2.0732000e-02, 1.7521600e+06, 6.4224058e+08],\n",
       "        [2.0842999e-02, 7.8746200e+05, 6.4568531e+08],\n",
       "        [2.0676000e-02, 8.2344600e+05, 6.4050266e+08],\n",
       "        [2.0576000e-02, 1.0923000e+06, 6.3740486e+08],\n",
       "        [1.9233000e-02, 1.5503300e+06, 5.9581062e+08],\n",
       "        [1.8765001e-02, 5.5812000e+05, 5.8130669e+08]], dtype=float32),\n",
       " array([[1.8433999e-02, 5.6064200e+05, 5.7106221e+08],\n",
       "        [1.5648000e-02, 3.1134400e+06, 4.8474493e+08],\n",
       "        [1.4233000e-02, 1.8864200e+06, 4.4089546e+08],\n",
       "        [1.6443999e-02, 2.2858100e+06, 5.0940966e+08],\n",
       "        [1.6403001e-02, 1.6515500e+06, 5.0813338e+08],\n",
       "        [1.5361000e-02, 7.3773600e+05, 4.7586659e+08],\n",
       "        [1.5622000e-02, 1.1707300e+06, 4.8394570e+08]], dtype=float32),\n",
       " array([[1.5991000e-02, 1.0935400e+06, 4.9536112e+08],\n",
       "        [1.6112000e-02, 1.0297000e+06, 4.9911875e+08],\n",
       "        [1.6652999e-02, 1.1419900e+06, 5.1587789e+08],\n",
       "        [1.7010000e-02, 1.1056300e+06, 5.2693395e+08],\n",
       "        [1.6734000e-02, 1.0808000e+06, 5.1837782e+08],\n",
       "        [1.6736001e-02, 9.4564900e+05, 5.1844288e+08],\n",
       "        [1.6578000e-02, 8.9218200e+05, 5.1356384e+08]], dtype=float32),\n",
       " array([[1.6019000e-02, 3.0792800e+06, 4.9623158e+08],\n",
       "        [1.5841000e-02, 1.3160000e+06, 4.9070819e+08],\n",
       "        [1.4970000e-02, 1.3802800e+06, 4.6374797e+08],\n",
       "        [1.4706000e-02, 1.0972000e+06, 4.5555738e+08],\n",
       "        [1.4443000e-02, 8.0739900e+05, 4.4741635e+08],\n",
       "        [1.4298000e-02, 5.5761900e+05, 4.4292451e+08],\n",
       "        [1.4139000e-02, 8.5210600e+05, 4.3798662e+08]], dtype=float32),\n",
       " array([[1.3670000e-02, 1.4827600e+06, 4.2347338e+08],\n",
       "        [1.3025000e-02, 1.2641700e+06, 4.0349562e+08],\n",
       "        [1.3498000e-02, 6.2544400e+05, 4.1814826e+08],\n",
       "        [1.4466000e-02, 1.2217200e+06, 4.4813814e+08],\n",
       "        [1.5185000e-02, 1.7901300e+06, 4.8454093e+08],\n",
       "        [1.4577000e-02, 5.1828400e+05, 4.6513414e+08],\n",
       "        [1.4426000e-02, 4.4688800e+05, 4.6032870e+08]], dtype=float32),\n",
       " array([[1.3994000e-02, 6.2535700e+05, 4.4654102e+08],\n",
       "        [1.3649000e-02, 8.5030200e+05, 4.3551344e+08],\n",
       "        [1.3776000e-02, 4.5762700e+05, 4.3958496e+08],\n",
       "        [1.4039000e-02, 5.4230100e+05, 4.4798010e+08],\n",
       "        [1.4566000e-02, 1.0054700e+06, 4.6476400e+08],\n",
       "        [1.4956000e-02, 8.1644200e+05, 4.7721472e+08],\n",
       "        [1.3712000e-02, 1.1343400e+06, 4.3754282e+08]], dtype=float32),\n",
       " array([[1.3750000e-02, 3.9103700e+05, 4.3873939e+08],\n",
       "        [1.4031000e-02, 4.2823600e+05, 4.4769933e+08],\n",
       "        [1.3791000e-02, 3.8470000e+05, 4.4004125e+08],\n",
       "        [1.3758000e-02, 3.0865400e+05, 4.3899466e+08],\n",
       "        [1.3481000e-02, 1.0367800e+06, 4.3015280e+08],\n",
       "        [1.3286000e-02, 3.1442000e+05, 4.2393062e+08],\n",
       "        [1.3130000e-02, 5.8791100e+05, 4.1894653e+08]], dtype=float32),\n",
       " array([[1.3334000e-02, 4.3938700e+05, 4.2547821e+08],\n",
       "        [1.3396000e-02, 6.2747500e+05, 4.2745971e+08],\n",
       "        [1.3401000e-02, 5.0282800e+05, 4.2761290e+08],\n",
       "        [1.3299000e-02, 8.3654400e+05, 4.2434864e+08],\n",
       "        [1.3360000e-02, 9.1048500e+05, 4.2629187e+08],\n",
       "        [1.2998000e-02, 5.2008000e+05, 4.1474416e+08],\n",
       "        [1.2239000e-02, 1.4969700e+06, 3.9051600e+08]], dtype=float32),\n",
       " array([[1.2192000e-02, 1.2842500e+06, 3.8903226e+08],\n",
       "        [1.0593000e-02, 3.0500100e+06, 3.3800090e+08],\n",
       "        [1.0032000e-02, 2.8518900e+06, 3.2010659e+08],\n",
       "        [1.1544000e-02, 3.0885300e+06, 3.6833635e+08],\n",
       "        [1.0856000e-02, 9.7828400e+05, 3.4638966e+08],\n",
       "        [1.0535000e-02, 1.2302700e+06, 3.3615658e+08],\n",
       "        [9.9609997e-03, 7.3599600e+05, 3.1783949e+08]], dtype=float32),\n",
       " array([[1.0643000e-02, 2.3613900e+06, 3.3960592e+08],\n",
       "        [1.0086000e-02, 1.6420700e+06, 3.2184240e+08],\n",
       "        [1.0229000e-02, 7.5578400e+05, 3.2640534e+08],\n",
       "        [1.0359000e-02, 6.8754600e+05, 3.3054067e+08],\n",
       "        [1.0511000e-02, 7.0160700e+05, 3.3539715e+08],\n",
       "        [1.1088000e-02, 7.9807000e+05, 3.5380522e+08],\n",
       "        [1.0817000e-02, 4.0715400e+05, 3.4516118e+08]], dtype=float32),\n",
       " array([[1.0968000e-02, 8.5989600e+05, 3.4997619e+08],\n",
       "        [1.0929000e-02, 8.0539600e+05, 3.4872858e+08],\n",
       "        [1.0575000e-02, 1.6325900e+06, 3.3744250e+08],\n",
       "        [1.0480000e-02, 2.7716100e+06, 3.3441440e+08],\n",
       "        [1.0446000e-02, 4.4718400e+05, 3.3331994e+08],\n",
       "        [1.0182000e-02, 3.9412900e+05, 3.2488330e+08],\n",
       "        [1.0196000e-02, 3.0608000e+05, 3.2533958e+08]], dtype=float32),\n",
       " array([[1.0309000e-02, 6.7022900e+05, 3.2892931e+08],\n",
       "        [9.7570000e-03, 6.0876300e+05, 3.1131770e+08],\n",
       "        [9.1150003e-03, 1.1605400e+06, 2.9084899e+08],\n",
       "        [8.7639997e-03, 6.0926400e+05, 2.7965962e+08],\n",
       "        [8.8950004e-03, 4.3953700e+05, 2.8381795e+08],\n",
       "        [8.8510001e-03, 1.8629200e+05, 2.8243024e+08],\n",
       "        [8.4980000e-03, 4.1781900e+05, 2.7117069e+08]], dtype=float32),\n",
       " array([[8.4530003e-03, 9.7752500e+05, 2.6972746e+08],\n",
       "        [7.7720000e-03, 1.3599700e+06, 2.4797891e+08],\n",
       "        [7.6680002e-03, 7.0805800e+05, 2.4467318e+08],\n",
       "        [7.9060001e-03, 3.7339500e+05, 2.5225530e+08],\n",
       "        [8.7200003e-03, 1.0106900e+06, 2.7825056e+08],\n",
       "        [8.8440003e-03, 3.0271500e+05, 2.8219222e+08],\n",
       "        [8.7390002e-03, 2.2506800e+05, 2.7884086e+08]], dtype=float32),\n",
       " array([[8.7860003e-03, 5.3791600e+05, 2.8034470e+08],\n",
       "        [9.0709999e-03, 1.1453500e+06, 2.8943514e+08],\n",
       "        [9.1979997e-03, 9.4099800e+05, 2.9349581e+08],\n",
       "        [8.7799998e-03, 7.0187400e+05, 2.8016090e+08],\n",
       "        [8.5119996e-03, 4.9428000e+05, 2.7161037e+08],\n",
       "        [8.2999999e-03, 2.5599100e+05, 2.6483651e+08],\n",
       "        [8.6099999e-03, 1.9941200e+05, 2.7472496e+08]], dtype=float32),\n",
       " array([[8.1940005e-03, 3.7254800e+05, 2.6147238e+08],\n",
       "        [8.1590004e-03, 6.3667900e+05, 2.6033869e+08],\n",
       "        [7.9490002e-03, 4.0909800e+05, 2.5363533e+08],\n",
       "        [8.0100000e-03, 2.4660800e+05, 2.5558048e+08],\n",
       "        [8.0249999e-03, 3.1203800e+05, 2.5608016e+08],\n",
       "        [7.8999996e-03, 1.8459500e+05, 2.5207565e+08],\n",
       "        [7.8459997e-03, 1.9702200e+05, 2.5036598e+08]], dtype=float32),\n",
       " array([[7.9319999e-03, 7.1084000e+05, 2.5308651e+08],\n",
       "        [7.9680001e-03, 6.7894600e+05, 2.5423362e+08],\n",
       "        [8.0249999e-03, 7.0436400e+05, 2.5606773e+08],\n",
       "        [8.0190003e-03, 3.9713200e+05, 2.5586414e+08],\n",
       "        [8.0770003e-03, 4.4633000e+05, 2.5772314e+08],\n",
       "        [8.2909996e-03, 2.1193400e+05, 2.6454358e+08],\n",
       "        [7.7399998e-03, 4.9377600e+05, 2.4697762e+08]], dtype=float32),\n",
       " array([[7.7650002e-03, 7.7935700e+05, 2.4778203e+08],\n",
       "        [7.6299999e-03, 5.6929500e+05, 2.4345810e+08],\n",
       "        [7.8630000e-03, 5.4998100e+05, 2.5089822e+08],\n",
       "        [8.0289999e-03, 5.9510600e+05, 2.5619758e+08],\n",
       "        [8.0180001e-03, 6.6395900e+05, 2.5585808e+08],\n",
       "        [8.0370000e-03, 1.0764900e+05, 2.5645286e+08],\n",
       "        [8.0549996e-03, 4.3845300e+05, 2.5703774e+08]], dtype=float32),\n",
       " array([[8.0169998e-03, 2.6214700e+05, 2.5580990e+08],\n",
       "        [7.9100002e-03, 5.5353600e+05, 2.5238133e+08],\n",
       "        [7.7820001e-03, 4.7546600e+05, 2.4832448e+08],\n",
       "        [7.5289998e-03, 2.2314400e+06, 2.4022896e+08],\n",
       "        [7.4910000e-03, 3.6966900e+05, 2.3903749e+08],\n",
       "        [7.5739999e-03, 1.7985800e+05, 2.4166963e+08],\n",
       "        [7.3819999e-03, 5.7542900e+05, 2.3556360e+08]], dtype=float32),\n",
       " array([[7.3600002e-03, 4.5663200e+05, 2.3485523e+08],\n",
       "        [7.2130002e-03, 9.7316600e+05, 2.3016435e+08],\n",
       "        [6.8569998e-03, 8.9791900e+05, 2.1879470e+08],\n",
       "        [6.6020000e-03, 6.2257700e+05, 2.1067206e+08],\n",
       "        [6.6550002e-03, 2.4315100e+05, 2.1235811e+08],\n",
       "        [6.5879999e-03, 6.3602000e+04, 2.1020557e+08],\n",
       "        [6.3290000e-03, 3.5073100e+05, 2.0195338e+08]], dtype=float32),\n",
       " array([[5.7480000e-03, 1.1859300e+06, 1.8341195e+08],\n",
       "        [6.5390002e-03, 9.5258400e+05, 2.0866310e+08],\n",
       "        [6.6359998e-03, 4.6537400e+05, 2.1173558e+08],\n",
       "        [6.5730000e-03, 1.8202200e+05, 2.0972182e+08],\n",
       "        [6.6490001e-03, 3.1442100e+05, 2.1217400e+08],\n",
       "        [6.8000001e-03, 2.9816000e+05, 2.1697656e+08],\n",
       "        [6.8089999e-03, 1.4901500e+05, 2.1727075e+08]], dtype=float32),\n",
       " array([[6.9249999e-03, 3.1591900e+05, 2.2096322e+08],\n",
       "        [6.7940000e-03, 5.0351400e+05, 2.1677330e+08],\n",
       "        [6.9370000e-03, 5.3646500e+05, 2.2134165e+08],\n",
       "        [7.8570005e-03, 1.2429900e+06, 2.5070963e+08],\n",
       "        [9.0560000e-03, 1.9497500e+06, 2.8897789e+08],\n",
       "        [8.4090000e-03, 4.8722800e+05, 2.6832283e+08],\n",
       "        [8.2900003e-03, 2.4830300e+05, 2.6452509e+08]], dtype=float32),\n",
       " array([[7.5790002e-03, 7.7756500e+05, 2.4181960e+08],\n",
       "        [7.9809995e-03, 5.0630400e+05, 2.5464907e+08],\n",
       "        [8.0119995e-03, 3.8848000e+05, 2.5565099e+08],\n",
       "        [7.8790002e-03, 2.4157300e+05, 2.5141896e+08],\n",
       "        [7.9560000e-03, 1.9882800e+05, 2.5388006e+08],\n",
       "        [7.9049999e-03, 1.0875000e+05, 2.5224125e+08],\n",
       "        [7.8739999e-03, 1.0099400e+05, 2.5124890e+08]], dtype=float32),\n",
       " array([[8.0000004e-03, 2.2707400e+05, 2.5525246e+08],\n",
       "        [7.9950001e-03, 2.1182800e+05, 2.5510536e+08],\n",
       "        [7.9990001e-03, 2.6057100e+05, 2.5522214e+08],\n",
       "        [8.0420002e-03, 1.9640400e+05, 2.5661528e+08],\n",
       "        [8.0570001e-03, 1.3873800e+05, 2.5709390e+08],\n",
       "        [8.0930004e-03, 8.0646000e+04, 2.5823112e+08],\n",
       "        [8.1470003e-03, 3.1588400e+05, 2.5994971e+08]], dtype=float32),\n",
       " array([[8.5789999e-03, 6.5817400e+05, 2.7373773e+08],\n",
       "        [9.4240000e-03, 1.5235300e+06, 3.0069533e+08],\n",
       "        [9.6779997e-03, 1.0505400e+06, 3.0882467e+08],\n",
       "        [1.0252000e-02, 1.1171000e+06, 3.2712966e+08],\n",
       "        [1.1207000e-02, 1.6500800e+06, 3.5759594e+08],\n",
       "        [1.1039000e-02, 6.6090900e+05, 3.5224806e+08],\n",
       "        [1.0314000e-02, 5.6494700e+05, 3.2910480e+08]], dtype=float32),\n",
       " array([[1.0567000e-02, 6.2301200e+05, 3.3717446e+08],\n",
       "        [1.0667000e-02, 4.8729600e+05, 3.4037171e+08],\n",
       "        [1.0914000e-02, 6.6201500e+05, 3.4825632e+08],\n",
       "        [1.1048000e-02, 3.2879500e+05, 3.5252250e+08],\n",
       "        [1.1288000e-02, 3.4444100e+05, 3.6017098e+08],\n",
       "        [1.1445000e-02, 3.4720100e+05, 3.6518381e+08],\n",
       "        [1.1467000e-02, 2.5583200e+05, 3.6589856e+08]], dtype=float32),\n",
       " array([[1.1977000e-02, 8.4053300e+05, 3.8215597e+08],\n",
       "        [1.1320000e-02, 1.0282300e+06, 3.6118886e+08],\n",
       "        [1.1198000e-02, 5.5824800e+05, 3.5732474e+08],\n",
       "        [1.1037000e-02, 4.0411700e+05, 3.5216829e+08],\n",
       "        [1.1099000e-02, 2.5115000e+05, 3.5415939e+08],\n",
       "        [1.0782000e-02, 1.3832900e+05, 3.4403802e+08],\n",
       "        [1.0022000e-02, 8.0104600e+05, 3.1977155e+08]], dtype=float32),\n",
       " array([[9.8730000e-03, 9.2802700e+05, 3.1501971e+08],\n",
       "        [9.5800003e-03, 6.1240200e+05, 3.0568870e+08],\n",
       "        [9.4489995e-03, 8.0302600e+05, 3.0150486e+08],\n",
       "        [8.9870002e-03, 9.3517200e+05, 2.8676246e+08],\n",
       "        [8.8470001e-03, 1.3449500e+06, 2.8229846e+08],\n",
       "        [8.6150002e-03, 4.0743400e+05, 2.7489568e+08],\n",
       "        [8.6139999e-03, 4.2395100e+05, 2.7484973e+08]], dtype=float32),\n",
       " array([[8.5690003e-03, 1.0238800e+06, 2.7342246e+08],\n",
       "        [8.6310003e-03, 7.9177100e+05, 2.7538963e+08],\n",
       "        [8.5159997e-03, 5.7278500e+05, 2.7172333e+08],\n",
       "        [8.0620004e-03, 7.8285600e+05, 2.5724355e+08],\n",
       "        [8.0260001e-03, 2.9986900e+05, 2.5608400e+08],\n",
       "        [8.0599999e-03, 6.8213000e+04, 2.5717112e+08],\n",
       "        [8.0909999e-03, 8.5865000e+04, 2.5818038e+08]], dtype=float32),\n",
       " array([[7.9480000e-03, 2.8516500e+05, 2.5362258e+08],\n",
       "        [7.7109998e-03, 5.2573200e+05, 2.4605514e+08],\n",
       "        [7.5790002e-03, 3.6788800e+05, 2.4182182e+08],\n",
       "        [7.4870000e-03, 1.8297000e+05, 2.3889038e+08],\n",
       "        [7.6560001e-03, 2.7740600e+05, 2.4430176e+08],\n",
       "        [7.8880005e-03, 2.3702800e+05, 2.5170678e+08],\n",
       "        [8.1150001e-03, 2.3326600e+05, 2.5894715e+08]], dtype=float32),\n",
       " array([[8.5619995e-03, 6.6609000e+05, 2.7321219e+08],\n",
       "        [8.4490003e-03, 1.4314200e+05, 2.6958355e+08],\n",
       "        [8.5190004e-03, 1.7452500e+05, 2.7182035e+08],\n",
       "        [8.4910002e-03, 3.2421900e+05, 2.7092435e+08],\n",
       "        [8.4370002e-03, 4.2358100e+05, 2.6920797e+08],\n",
       "        [8.2219997e-03, 1.9642900e+05, 2.6235179e+08],\n",
       "        [8.2299998e-03, 2.0600900e+05, 2.6260674e+08]], dtype=float32),\n",
       " array([[8.2810000e-03, 2.3126200e+05, 2.6422930e+08],\n",
       "        [8.2710003e-03, 1.7871200e+05, 2.6392744e+08],\n",
       "        [8.2240002e-03, 2.1926900e+05, 2.6243157e+08],\n",
       "        [8.0239996e-03, 3.7552100e+05, 2.5604922e+08],\n",
       "        [8.1519997e-03, 3.6364300e+05, 2.6013254e+08],\n",
       "        [8.4760003e-03, 6.7829500e+05, 2.7045878e+08],\n",
       "        [8.8080000e-03, 5.3196900e+05, 2.8104861e+08]], dtype=float32),\n",
       " array([[8.7500000e-03, 4.7297300e+05, 2.7920461e+08],\n",
       "        [8.5910000e-03, 2.8246100e+05, 2.7411456e+08],\n",
       "        [8.2710003e-03, 2.8746300e+05, 2.6391882e+08],\n",
       "        [8.1470003e-03, 2.0293400e+05, 2.5996472e+08],\n",
       "        [8.3370004e-03, 4.2316300e+05, 2.6601394e+08],\n",
       "        [8.4199999e-03, 1.7613500e+05, 2.6868150e+08],\n",
       "        [8.3149998e-03, 3.0165400e+05, 2.6531482e+08]], dtype=float32),\n",
       " array([[8.3010001e-03, 3.3709200e+05, 2.6488693e+08],\n",
       "        [7.5520002e-03, 2.9172900e+05, 2.4096827e+08],\n",
       "        [7.7579999e-03, 4.7470200e+05, 2.4756154e+08],\n",
       "        [7.8720003e-03, 2.1541500e+05, 2.5118221e+08],\n",
       "        [7.8809997e-03, 2.6564600e+05, 2.5146555e+08],\n",
       "        [7.7220001e-03, 1.8222700e+05, 2.4639624e+08],\n",
       "        [7.5520002e-03, 1.5758000e+05, 2.4097722e+08]], dtype=float32),\n",
       " array([[7.3970002e-03, 5.4651600e+05, 2.4032043e+08],\n",
       "        [7.1259998e-03, 5.9331600e+05, 2.3151613e+08],\n",
       "        [7.4919998e-03, 1.9612400e+05, 2.4340032e+08],\n",
       "        [7.5510000e-03, 2.0241200e+05, 2.4533240e+08],\n",
       "        [7.4330000e-03, 4.1431000e+05, 2.4147734e+08],\n",
       "        [7.7510001e-03, 3.6514400e+05, 2.5180763e+08],\n",
       "        [8.0500003e-03, 4.0880900e+05, 2.6154501e+08]], dtype=float32),\n",
       " array([[7.8840004e-03, 6.3557200e+05, 2.5612597e+08],\n",
       "        [7.8149997e-03, 4.0190300e+05, 2.5389467e+08],\n",
       "        [7.7000000e-03, 3.9897600e+05, 2.5016341e+08],\n",
       "        [7.4310000e-03, 3.2205400e+05, 2.4141010e+08],\n",
       "        [7.3549999e-03, 4.7222800e+05, 2.3895139e+08],\n",
       "        [7.8600002e-03, 8.5683300e+05, 2.5536640e+08],\n",
       "        [7.8910002e-03, 2.8405000e+05, 2.5635501e+08]], dtype=float32),\n",
       " array([[7.9180002e-03, 2.3410000e+05, 2.5723382e+08],\n",
       "        [7.8309998e-03, 1.9367200e+05, 2.5443008e+08],\n",
       "        [7.6779998e-03, 2.5415900e+05, 2.4944118e+08],\n",
       "        [7.6629999e-03, 2.3487300e+05, 2.4894704e+08],\n",
       "        [8.4440000e-03, 7.7796000e+04, 2.7433888e+08],\n",
       "        [8.1970003e-03, 2.4819000e+04, 2.6631072e+08],\n",
       "        [8.5319998e-03, 6.2875000e+04, 2.7718387e+08]], dtype=float32),\n",
       " array([[7.4040000e-03, 2.7483500e+05, 2.4054429e+08],\n",
       "        [7.7200001e-03, 6.7650100e+05, 2.5079466e+08],\n",
       "        [7.4260002e-03, 3.1649700e+05, 2.4124667e+08],\n",
       "        [7.3719998e-03, 5.4410000e+05, 2.3950109e+08],\n",
       "        [7.5289998e-03, 5.0117200e+05, 2.4460402e+08],\n",
       "        [7.4820002e-03, 4.4129800e+05, 2.4307285e+08],\n",
       "        [7.6370002e-03, 4.4503900e+05, 2.4811307e+08]], dtype=float32),\n",
       " array([[7.2470000e-03, 2.4532400e+05, 2.3543226e+08],\n",
       "        [7.1680001e-03, 2.5217300e+05, 2.3286082e+08],\n",
       "        [6.6680000e-03, 9.8590200e+05, 2.1663942e+08],\n",
       "        [6.7099999e-03, 4.0028700e+05, 2.1798640e+08],\n",
       "        [6.6499999e-03, 4.0345300e+05, 2.1605659e+08],\n",
       "        [6.5009999e-03, 4.3927400e+05, 2.1121584e+08],\n",
       "        [6.5359999e-03, 2.6914300e+05, 2.1234870e+08]], dtype=float32),\n",
       " array([[6.2930002e-03, 6.0285600e+05, 2.0446478e+08],\n",
       "        [5.5789999e-03, 9.6499500e+05, 1.8126330e+08],\n",
       "        [5.5200001e-03, 7.1979300e+05, 1.7934064e+08],\n",
       "        [5.4480000e-03, 5.5759700e+05, 1.7700474e+08],\n",
       "        [5.8680000e-03, 5.8772200e+05, 1.9064202e+08],\n",
       "        [5.5169999e-03, 3.9571500e+05, 1.7922597e+08],\n",
       "        [5.2359998e-03, 3.5576200e+05, 1.7011594e+08]], dtype=float32),\n",
       " array([[5.0079999e-03, 6.2366700e+05, 1.6268717e+08],\n",
       "        [5.3280001e-03, 3.4915400e+05, 1.7310291e+08],\n",
       "        [5.3750002e-03, 3.7308000e+05, 1.7462661e+08],\n",
       "        [5.0309999e-03, 6.6531000e+05, 1.6344544e+08],\n",
       "        [4.9830000e-03, 8.5132600e+05, 1.6188147e+08],\n",
       "        [5.0369999e-03, 1.6308800e+05, 1.6365208e+08],\n",
       "        [5.1819999e-03, 1.3455500e+05, 1.6836059e+08]], dtype=float32),\n",
       " array([[5.2600000e-03, 1.2332600e+05, 1.7440765e+08],\n",
       "        [5.3770002e-03, 3.5565900e+05, 1.7826437e+08],\n",
       "        [5.4179998e-03, 3.3840700e+05, 1.7965130e+08],\n",
       "        [5.3989999e-03, 4.4092900e+05, 1.7901635e+08],\n",
       "        [5.3980001e-03, 3.4259800e+05, 1.7896198e+08],\n",
       "        [5.2029998e-03, 3.9498000e+05, 1.7251840e+08],\n",
       "        [4.9790000e-03, 2.4234000e+05, 1.6507981e+08]], dtype=float32),\n",
       " array([[5.0430000e-03, 3.0002400e+05, 1.6721341e+08],\n",
       "        [4.7309999e-03, 4.2094900e+05, 1.5686435e+08],\n",
       "        [4.6970001e-03, 2.4350300e+05, 1.5574334e+08],\n",
       "        [4.7229999e-03, 3.0517000e+05, 1.5660971e+08],\n",
       "        [4.6770000e-03, 2.9621700e+05, 1.5506530e+08],\n",
       "        [4.6620001e-03, 1.8990000e+05, 1.5457493e+08],\n",
       "        [4.5560002e-03, 2.8710300e+05, 1.5105938e+08]], dtype=float32),\n",
       " array([[4.6750000e-03, 4.2701100e+05, 1.5499965e+08],\n",
       "        [4.6489998e-03, 3.5760200e+05, 1.5415384e+08],\n",
       "        [4.6750000e-03, 3.5036900e+05, 1.5501158e+08],\n",
       "        [4.6339999e-03, 5.5025300e+05, 1.5365086e+08],\n",
       "        [4.8389998e-03, 9.9717200e+05, 1.6044357e+08],\n",
       "        [4.6870001e-03, 3.1931200e+05, 1.5538891e+08],\n",
       "        [4.9009998e-03, 4.9010500e+05, 1.6251152e+08]], dtype=float32),\n",
       " array([[5.1560001e-03, 5.7297400e+05, 1.7095741e+08],\n",
       "        [5.3829998e-03, 1.0304300e+06, 1.7848022e+08],\n",
       "        [4.9470002e-03, 1.3543400e+06, 1.6403638e+08],\n",
       "        [4.5059999e-03, 1.1810100e+06, 1.4939261e+08],\n",
       "        [4.5619998e-03, 7.8651300e+05, 1.5126627e+08],\n",
       "        [4.6939999e-03, 3.6714400e+05, 1.5564587e+08],\n",
       "        [4.6470002e-03, 3.1285900e+05, 1.5406464e+08]], dtype=float32),\n",
       " array([[4.6089999e-03, 3.0533700e+05, 1.5282394e+08],\n",
       "        [4.4060000e-03, 4.1463100e+05, 1.4608229e+08],\n",
       "        [4.2639999e-03, 4.4617700e+05, 1.4137013e+08],\n",
       "        [4.5409999e-03, 5.0381200e+05, 1.5054578e+08],\n",
       "        [4.4769999e-03, 3.2983800e+05, 1.4845330e+08],\n",
       "        [4.3279999e-03, 1.4435600e+05, 1.4348450e+08],\n",
       "        [4.1649998e-03, 2.7389200e+05, 1.3807971e+08]], dtype=float32),\n",
       " array([[4.2340001e-03, 3.5172500e+05, 1.4039699e+08],\n",
       "        [4.2500002e-03, 2.4368100e+05, 1.4092650e+08],\n",
       "        [4.2579998e-03, 2.4679400e+05, 1.4118578e+08],\n",
       "        [4.2220000e-03, 1.7371200e+05, 1.4000045e+08],\n",
       "        [4.2269998e-03, 3.1276800e+05, 1.4015296e+08],\n",
       "        [4.2450000e-03, 1.8262800e+05, 1.4075509e+08],\n",
       "        [4.2670001e-03, 1.7455600e+05, 1.4148717e+08]], dtype=float32),\n",
       " array([[4.2880001e-03, 3.1445100e+05, 1.4218146e+08],\n",
       "        [4.2420002e-03, 1.9794000e+05, 1.4064168e+08],\n",
       "        [4.3179998e-03, 1.9735600e+05, 1.4315957e+08],\n",
       "        [4.2909998e-03, 4.0052000e+05, 1.4228027e+08],\n",
       "        [4.2760000e-03, 1.9979000e+05, 1.4177928e+08],\n",
       "        [4.2380001e-03, 1.9548000e+05, 1.4213838e+08],\n",
       "        [4.2989999e-03, 1.9782200e+05, 1.4418315e+08]], dtype=float32),\n",
       " array([[4.2010001e-03, 2.7269500e+05, 1.4089414e+08],\n",
       "        [4.0899999e-03, 3.1240100e+05, 1.3717048e+08],\n",
       "        [4.1729999e-03, 3.2840300e+05, 1.3994973e+08],\n",
       "        [4.2619999e-03, 1.3910400e+05, 1.4294362e+08],\n",
       "        [4.7539999e-03, 9.3010200e+05, 1.5945174e+08],\n",
       "        [5.3010001e-03, 7.1624100e+05, 1.7779438e+08],\n",
       "        [5.3440002e-03, 1.0020000e+06, 1.7921704e+08]], dtype=float32),\n",
       " array([[5.5600000e-03, 8.6687100e+05, 1.8646616e+08],\n",
       "        [6.7750001e-03, 2.4238700e+06, 2.2722152e+08],\n",
       "        [8.5230004e-03, 5.7024700e+06, 2.8584061e+08],\n",
       "        [8.4440000e-03, 3.2235200e+06, 2.8319517e+08],\n",
       "        [8.4410002e-03, 3.4654900e+06, 2.8307814e+08],\n",
       "        [8.5359998e-03, 1.3179900e+06, 2.8627222e+08],\n",
       "        [8.7789996e-03, 1.3940500e+06, 2.9442554e+08]], dtype=float32),\n",
       " array([[7.6139998e-03, 2.4331400e+06, 2.5536178e+08],\n",
       "        [6.6840001e-03, 4.9085400e+06, 2.2417363e+08],\n",
       "        [6.7550000e-03, 1.2498500e+06, 2.2655211e+08],\n",
       "        [6.6940002e-03, 5.5668200e+05, 2.2451002e+08],\n",
       "        [6.3870000e-03, 8.3333000e+05, 2.1418787e+08],\n",
       "        [6.2910002e-03, 4.5240300e+05, 2.1099811e+08],\n",
       "        [6.2350002e-03, 5.7780300e+05, 2.0911398e+08]], dtype=float32),\n",
       " array([[6.2690000e-03, 5.1251400e+05, 2.1023749e+08],\n",
       "        [6.1929999e-03, 4.6022200e+05, 2.0769234e+08],\n",
       "        [6.0210000e-03, 3.6417800e+05, 2.0194502e+08],\n",
       "        [5.9710001e-03, 3.3216600e+05, 2.0024133e+08],\n",
       "        [6.4869998e-03, 8.1599800e+05, 2.1754128e+08],\n",
       "        [6.1740000e-03, 6.6521000e+05, 2.0705512e+08],\n",
       "        [6.3430001e-03, 4.6585600e+05, 2.1273435e+08]], dtype=float32),\n",
       " array([[6.3399998e-03, 4.6958300e+05, 2.1263442e+08],\n",
       "        [6.2640002e-03, 3.1261200e+05, 2.1008958e+08],\n",
       "        [6.1820000e-03, 2.8034500e+05, 2.0732006e+08],\n",
       "        [6.0399999e-03, 3.7435500e+05, 2.0257922e+08],\n",
       "        [5.9549999e-03, 2.1176700e+05, 1.9971646e+08],\n",
       "        [6.0649998e-03, 2.7853900e+05, 2.0339518e+08],\n",
       "        [6.0169999e-03, 2.9172300e+05, 2.0179947e+08]], dtype=float32),\n",
       " array([[5.9580002e-03, 3.1082000e+05, 1.9980768e+08],\n",
       "        [6.0439999e-03, 3.8155400e+05, 2.0271136e+08],\n",
       "        [6.0029998e-03, 3.1623500e+05, 2.0133498e+08],\n",
       "        [6.0390001e-03, 4.2604800e+05, 2.0253864e+08],\n",
       "        [5.9329998e-03, 2.8864100e+05, 1.9898803e+08],\n",
       "        [5.9819999e-03, 3.1033600e+05, 2.0062163e+08],\n",
       "        [5.9560002e-03, 1.9501100e+05, 1.9975101e+08]], dtype=float32),\n",
       " array([[5.8950000e-03, 2.1628600e+05, 1.9769181e+08],\n",
       "        [5.8539999e-03, 3.1041400e+05, 1.9634091e+08],\n",
       "        [5.7939999e-03, 4.9728400e+05, 1.9430386e+08],\n",
       "        [5.5290000e-03, 8.4937100e+05, 1.8544058e+08],\n",
       "        [5.2290000e-03, 4.4105400e+05, 1.7537834e+08],\n",
       "        [5.1119998e-03, 3.0420900e+05, 1.7144507e+08],\n",
       "        [5.2660001e-03, 4.7317500e+05, 1.7660146e+08]], dtype=float32),\n",
       " array([[5.3260000e-03, 5.1429500e+05, 1.7862141e+08],\n",
       "        [5.2709999e-03, 2.2647200e+05, 1.7676611e+08],\n",
       "        [5.3810002e-03, 7.2226000e+05, 1.8046061e+08],\n",
       "        [5.3130002e-03, 3.4495000e+05, 1.7817000e+08],\n",
       "        [5.1139998e-03, 3.5559500e+05, 1.7152288e+08],\n",
       "        [5.1199999e-03, 3.1028600e+05, 1.7171470e+08],\n",
       "        [5.2189999e-03, 3.4178900e+05, 1.7504464e+08]], dtype=float32),\n",
       " array([[5.1350002e-03, 4.1209500e+05, 1.7416824e+08],\n",
       "        [5.4190001e-03, 9.0478100e+05, 1.8381344e+08],\n",
       "        [6.5060002e-03, 2.5447700e+06, 2.2068061e+08],\n",
       "        [6.2259999e-03, 2.2039400e+06, 2.1118566e+08],\n",
       "        [6.8399999e-03, 2.8954300e+06, 2.3199842e+08],\n",
       "        [6.6340002e-03, 1.2333200e+06, 2.2502917e+08],\n",
       "        [6.3990001e-03, 9.7785600e+05, 2.1706166e+08]], dtype=float32),\n",
       " array([[6.5420000e-03, 8.3038000e+05, 2.2189597e+08],\n",
       "        [6.7679998e-03, 8.0985400e+05, 2.2958093e+08],\n",
       "        [6.8830000e-03, 8.0336600e+05, 2.3345766e+08],\n",
       "        [6.9700000e-03, 1.1746000e+06, 2.3643925e+08],\n",
       "        [7.2619999e-03, 1.1860100e+06, 2.4633104e+08],\n",
       "        [7.9220003e-03, 1.8590400e+06, 2.6872278e+08],\n",
       "        [8.3379997e-03, 2.4601400e+06, 2.8283120e+08]], dtype=float32),\n",
       " array([[7.9910001e-03, 1.0481600e+06, 2.7241379e+08],\n",
       "        [7.8149997e-03, 8.6676500e+05, 2.6643424e+08],\n",
       "        [7.8530004e-03, 6.6818500e+05, 2.6773106e+08],\n",
       "        [7.8149997e-03, 5.6552200e+05, 2.6642606e+08],\n",
       "        [7.9790000e-03, 8.1657900e+05, 2.7202413e+08],\n",
       "        [8.2569998e-03, 6.8444400e+05, 2.8150374e+08],\n",
       "        [8.5899998e-03, 1.1448300e+06, 2.9284237e+08]], dtype=float32),\n",
       " array([[8.6310003e-03, 7.3427500e+05, 2.9422579e+08],\n",
       "        [8.4509999e-03, 1.0122200e+06, 2.8809795e+08],\n",
       "        [8.1380000e-03, 1.5563200e+06, 2.7742819e+08],\n",
       "        [7.9950001e-03, 8.5407300e+05, 2.7256650e+08],\n",
       "        [8.2449997e-03, 7.1080800e+05, 2.8107046e+08],\n",
       "        [8.2529997e-03, 5.1531200e+05, 2.8133808e+08],\n",
       "        [8.1000002e-03, 4.7256900e+05, 2.7614672e+08]], dtype=float32),\n",
       " array([[8.0500003e-03, 6.0719800e+05, 2.7444186e+08],\n",
       "        [7.9699997e-03, 8.0714000e+05, 2.7169344e+08],\n",
       "        [8.0760000e-03, 4.7309700e+05, 2.7532070e+08],\n",
       "        [8.0270004e-03, 8.2529700e+05, 2.7365910e+08],\n",
       "        [8.0580004e-03, 5.7998600e+05, 2.7470160e+08],\n",
       "        [7.9720002e-03, 4.1757600e+05, 2.7178003e+08],\n",
       "        [7.8889998e-03, 5.7093500e+05, 2.6893923e+08]], dtype=float32),\n",
       " array([[7.9229996e-03, 6.8921500e+05, 2.7008672e+08],\n",
       "        [8.0060000e-03, 7.3877200e+05, 2.7291968e+08],\n",
       "        [8.0300001e-03, 4.0938800e+05, 2.7375558e+08],\n",
       "        [8.1620002e-03, 6.8524000e+05, 2.7823648e+08],\n",
       "        [8.0960002e-03, 5.6797400e+05, 2.7600048e+08],\n",
       "        [7.8779999e-03, 1.1486900e+06, 2.6856493e+08],\n",
       "        [7.8600002e-03, 5.6957700e+05, 2.6793867e+08]], dtype=float32),\n",
       " array([[7.9180002e-03, 5.8705900e+05, 2.6991798e+08],\n",
       "        [7.9490002e-03, 6.5597400e+05, 2.7100070e+08],\n",
       "        [8.0559999e-03, 3.9652700e+05, 2.7464538e+08],\n",
       "        [8.1900004e-03, 1.3486600e+06, 2.7921933e+08],\n",
       "        [8.8029997e-03, 2.8312200e+06, 3.0009418e+08],\n",
       "        [8.7000001e-03, 1.5368500e+06, 2.9659917e+08],\n",
       "        [8.6350003e-03, 8.6086800e+05, 2.9438259e+08]], dtype=float32),\n",
       " array([[8.4790001e-03, 8.4675000e+05, 2.8905488e+08],\n",
       "        [8.1860004e-03, 2.8457200e+05, 2.7905808e+08],\n",
       "        [8.1780003e-03, 2.1904700e+05, 2.8166477e+08],\n",
       "        [8.2869995e-03, 1.7647500e+05, 2.8538874e+08],\n",
       "        [8.1190001e-03, 2.2931300e+05, 2.7962627e+08],\n",
       "        [8.0159996e-03, 1.6401000e+05, 2.7605725e+08],\n",
       "        [7.9600001e-03, 1.1598400e+05, 2.7413206e+08]], dtype=float32),\n",
       " array([[8.0469996e-03, 7.9784000e+04, 2.7714038e+08],\n",
       "        [8.1099998e-03, 6.0421400e+05, 2.7930803e+08],\n",
       "        [8.3320001e-03, 1.0228500e+06, 2.8693648e+08],\n",
       "        [8.2299998e-03, 9.6519600e+05, 2.8345082e+08],\n",
       "        [8.1909997e-03, 7.5367100e+05, 2.8209974e+08],\n",
       "        [8.0660004e-03, 3.0966400e+05, 2.7777821e+08],\n",
       "        [8.0289999e-03, 4.1822200e+05, 2.7650496e+08]], dtype=float32),\n",
       " array([[7.5639999e-03, 2.1146000e+06, 2.6049043e+08],\n",
       "        [7.5659999e-03, 1.1169000e+06, 2.6056138e+08],\n",
       "        [7.3320000e-03, 1.2106300e+06, 2.5250830e+08],\n",
       "        [7.3910002e-03, 1.0362100e+06, 2.5456162e+08],\n",
       "        [7.4180001e-03, 8.2727300e+05, 2.5546842e+08],\n",
       "        [7.5010001e-03, 3.9039900e+05, 2.5834381e+08],\n",
       "        [7.5030001e-03, 2.5011200e+05, 2.5839098e+08]], dtype=float32),\n",
       " array([[7.4910000e-03, 3.0035900e+05, 2.5799320e+08],\n",
       "        [7.4740001e-03, 4.6403700e+05, 2.5740979e+08],\n",
       "        [7.2960001e-03, 7.9679000e+05, 2.5127949e+08],\n",
       "        [6.8750000e-03, 1.4500300e+06, 2.3679098e+08],\n",
       "        [6.6709998e-03, 8.5942800e+05, 2.2974045e+08],\n",
       "        [6.2879999e-03, 1.0327000e+06, 2.1654482e+08],\n",
       "        [5.9369998e-03, 7.7455400e+05, 2.0446848e+08]], dtype=float32),\n",
       " array([[6.0480000e-03, 1.8715200e+06, 2.0830130e+08],\n",
       "        [5.8849999e-03, 1.0856700e+06, 2.0268139e+08],\n",
       "        [5.6949998e-03, 1.3844200e+06, 1.9612405e+08],\n",
       "        [6.2890002e-03, 1.9259200e+05, 2.1657822e+08],\n",
       "        [6.4240000e-03, 1.5606900e+05, 2.2123518e+08],\n",
       "        [6.5100002e-03, 7.0487000e+04, 2.2699720e+08],\n",
       "        [6.4989999e-03, 5.4782000e+04, 2.2661886e+08]], dtype=float32),\n",
       " array([[6.9869999e-03, 1.0661900e+06, 2.4362502e+08],\n",
       "        [7.1180002e-03, 4.2625700e+05, 2.4820712e+08],\n",
       "        [7.2440002e-03, 1.3013500e+06, 2.5259150e+08],\n",
       "        [7.4330000e-03, 1.0115800e+06, 2.5919459e+08],\n",
       "        [7.2840001e-03, 9.5567400e+05, 2.5397789e+08],\n",
       "        [7.3460001e-03, 3.4565000e+05, 2.5616066e+08],\n",
       "        [7.2510000e-03, 4.7227400e+05, 2.5284640e+08]], dtype=float32),\n",
       " array([[7.2829998e-03, 6.0521900e+05, 2.5395104e+08],\n",
       "        [7.0949998e-03, 8.8487900e+05, 2.4740130e+08],\n",
       "        [6.7250002e-03, 7.9708100e+05, 2.3448141e+08],\n",
       "        [6.6860002e-03, 7.5287200e+05, 2.3314664e+08],\n",
       "        [6.7590000e-03, 5.3825300e+05, 2.3568752e+08],\n",
       "        [6.8120002e-03, 4.0612300e+05, 2.3752056e+08],\n",
       "        [6.7909998e-03, 2.4173300e+05, 2.3680366e+08]], dtype=float32),\n",
       " array([[6.7139999e-03, 5.8582600e+05, 2.3411214e+08],\n",
       "        [6.5600001e-03, 3.2912500e+05, 2.2873854e+08],\n",
       "        [6.3230000e-03, 5.6355600e+05, 2.2046699e+08],\n",
       "        [6.1929999e-03, 5.0918800e+05, 2.1593232e+08],\n",
       "        [6.3990001e-03, 6.8033400e+05, 2.2311003e+08],\n",
       "        [6.4900001e-03, 3.5153700e+05, 2.2628344e+08],\n",
       "        [6.4039999e-03, 3.8991400e+05, 2.2329344e+08]], dtype=float32),\n",
       " array([[6.3990001e-03, 3.5120900e+05, 2.2311771e+08],\n",
       "        [6.2719998e-03, 4.0429500e+05, 2.1871134e+08],\n",
       "        [6.1889999e-03, 4.7670800e+05, 2.1578482e+08],\n",
       "        [6.1670002e-03, 3.6289600e+05, 2.1503723e+08],\n",
       "        [6.1090002e-03, 4.7809500e+05, 2.1302776e+08],\n",
       "        [6.0729999e-03, 2.7410700e+05, 2.1177213e+08],\n",
       "        [6.0609998e-03, 3.0462100e+05, 2.1132896e+08]], dtype=float32),\n",
       " array([[6.0220002e-03, 3.8962100e+05, 2.0997675e+08],\n",
       "        [6.0230000e-03, 3.1999600e+05, 2.1002102e+08],\n",
       "        [6.0279998e-03, 7.0125600e+05, 2.1020130e+08],\n",
       "        [6.0319998e-03, 7.9700500e+05, 2.1033381e+08],\n",
       "        [6.0840002e-03, 5.4941300e+05, 2.1213338e+08],\n",
       "        [5.9900000e-03, 2.1788400e+05, 2.0885293e+08],\n",
       "        [5.9360000e-03, 2.7375800e+05, 2.0699094e+08]], dtype=float32),\n",
       " array([[5.9090001e-03, 5.0743000e+05, 2.0604216e+08],\n",
       "        [5.9620002e-03, 4.7165900e+05, 2.0788149e+08],\n",
       "        [5.7560001e-03, 5.1712400e+05, 2.0070272e+08],\n",
       "        [5.6690001e-03, 6.7874400e+05, 1.9766845e+08],\n",
       "        [5.6790002e-03, 1.0737600e+06, 1.9802690e+08],\n",
       "        [5.6820000e-03, 8.8992100e+05, 1.9811234e+08],\n",
       "        [5.6619998e-03, 8.2945200e+05, 1.9744390e+08]], dtype=float32),\n",
       " array([[5.7480000e-03, 4.7609500e+05, 2.0043144e+08],\n",
       "        [5.7060001e-03, 8.4763600e+05, 1.9896627e+08],\n",
       "        [5.8090002e-03, 1.0184700e+06, 2.0256576e+08],\n",
       "        [5.7660001e-03, 6.1142900e+05, 2.0103920e+08],\n",
       "        [5.8269999e-03, 4.3781300e+05, 2.0316550e+08],\n",
       "        [5.7799998e-03, 6.1715900e+05, 2.0154725e+08],\n",
       "        [5.7959999e-03, 5.4420100e+05, 2.0209328e+08]], dtype=float32),\n",
       " array([[5.7689999e-03, 6.9009600e+05, 2.0116544e+08],\n",
       "        [5.7799998e-03, 7.8340900e+05, 2.0152771e+08],\n",
       "        [5.7700002e-03, 7.5494500e+05, 2.0120762e+08],\n",
       "        [5.7879998e-03, 5.2079300e+05, 2.0180458e+08],\n",
       "        [5.7359999e-03, 5.2691700e+05, 2.0001058e+08],\n",
       "        [5.7660001e-03, 3.9875700e+05, 2.0105037e+08],\n",
       "        [5.8519999e-03, 1.1335400e+06, 2.0405221e+08]], dtype=float32),\n",
       " array([[5.8240001e-03, 1.5377200e+06, 2.0307205e+08],\n",
       "        [7.1049999e-03, 9.9042500e+06, 2.4774859e+08],\n",
       "        [6.8870001e-03, 3.2692900e+06, 2.4013013e+08],\n",
       "        [6.6760001e-03, 3.0723700e+06, 2.3438986e+08],\n",
       "        [6.6930000e-03, 2.1438300e+06, 2.3498776e+08],\n",
       "        [6.6040000e-03, 1.1908700e+06, 2.3185610e+08],\n",
       "        [6.8130000e-03, 2.4131100e+06, 2.3917618e+08]], dtype=float32),\n",
       " array([[6.6260002e-03, 1.7104100e+06, 2.3262883e+08],\n",
       "        [6.1720000e-03, 3.2580400e+06, 2.1667947e+08],\n",
       "        [6.4949999e-03, 5.0521400e+06, 2.2802122e+08],\n",
       "        [6.3809999e-03, 3.2076400e+06, 2.2401008e+08],\n",
       "        [6.4340001e-03, 2.4082300e+06, 2.2587715e+08],\n",
       "        [6.4139999e-03, 1.1751100e+06, 2.2517042e+08],\n",
       "        [6.3999998e-03, 1.2363600e+06, 2.2621253e+08]], dtype=float32),\n",
       " array([[6.3979998e-03, 1.1361600e+06, 2.2616093e+08],\n",
       "        [6.7730001e-03, 3.1491200e+06, 2.3938669e+08],\n",
       "        [6.7770001e-03, 2.0639600e+06, 2.3954645e+08],\n",
       "        [6.6570002e-03, 1.0465800e+06, 2.3530274e+08],\n",
       "        [6.7870002e-03, 9.9353800e+05, 2.3988357e+08],\n",
       "        [6.6990000e-03, 5.0376900e+05, 2.3679150e+08],\n",
       "        [6.6069998e-03, 5.3631100e+05, 2.3354710e+08]], dtype=float32),\n",
       " array([[7.0280000e-03, 8.7597000e+05, 2.4840053e+08],\n",
       "        [6.6990000e-03, 5.9886500e+05, 2.3677771e+08],\n",
       "        [6.6910000e-03, 6.0019500e+05, 2.3648752e+08],\n",
       "        [6.5979999e-03, 7.8969300e+05, 2.3322686e+08],\n",
       "        [6.7150001e-03, 6.0407600e+05, 2.3736376e+08],\n",
       "        [6.6789999e-03, 5.7744700e+05, 2.3607858e+08],\n",
       "        [6.6740001e-03, 5.7104700e+05, 2.3590326e+08]], dtype=float32),\n",
       " array([[6.5339999e-03, 7.2262700e+05, 2.3094704e+08],\n",
       "        [6.3499999e-03, 9.7795800e+05, 2.2443526e+08],\n",
       "        [6.4110002e-03, 9.4224500e+05, 2.2658995e+08],\n",
       "        [6.3850000e-03, 6.8289400e+05, 2.2627043e+08],\n",
       "        [6.4420002e-03, 7.5316700e+05, 2.2829362e+08],\n",
       "        [6.5720002e-03, 6.5990400e+05, 2.3289810e+08],\n",
       "        [6.5380000e-03, 5.2926500e+05, 2.3169498e+08]], dtype=float32),\n",
       " array([[6.4820000e-03, 4.4279300e+05, 2.2970653e+08],\n",
       "        [6.4050001e-03, 5.5084300e+05, 2.2699090e+08],\n",
       "        [6.3950000e-03, 7.9011700e+05, 2.2661915e+08],\n",
       "        [6.4160000e-03, 8.1119300e+05, 2.2810144e+08],\n",
       "        [6.3029998e-03, 7.8019200e+05, 2.2407006e+08],\n",
       "        [6.3169999e-03, 3.5656900e+05, 2.2456030e+08],\n",
       "        [6.2859999e-03, 3.1568700e+05, 2.2345078e+08]], dtype=float32),\n",
       " array([[6.2460001e-03, 8.8163200e+05, 2.2205686e+08],\n",
       "        [5.9980000e-03, 1.5478300e+06, 2.1321624e+08],\n",
       "        [5.9690000e-03, 1.3700900e+06, 2.1219915e+08],\n",
       "        [5.9739999e-03, 1.2646500e+06, 2.1236301e+08],\n",
       "        [6.1110002e-03, 7.7966700e+05, 2.1723907e+08],\n",
       "        [6.1209998e-03, 4.4202500e+05, 2.1758853e+08],\n",
       "        [5.9449999e-03, 6.4820500e+05, 2.1134237e+08]], dtype=float32),\n",
       " array([[5.9059998e-03, 9.5895600e+05, 2.0996835e+08],\n",
       "        [5.6900000e-03, 1.5536900e+06, 2.0226642e+08],\n",
       "        [5.6460002e-03, 1.5706600e+06, 2.0071075e+08],\n",
       "        [5.8160000e-03, 1.0079600e+06, 2.0679043e+08],\n",
       "        [6.4470000e-03, 6.9738800e+05, 2.2924914e+08],\n",
       "        [6.3370001e-03, 2.1645300e+06, 2.2531608e+08],\n",
       "        [6.1780000e-03, 1.3031000e+06, 2.1966842e+08]], dtype=float32),\n",
       " array([[6.0270000e-03, 7.2262800e+05, 2.1429954e+08],\n",
       "        [6.1630001e-03, 1.1053000e+06, 2.1914538e+08],\n",
       "        [6.1940001e-03, 8.6580800e+05, 2.2025762e+08],\n",
       "        [6.1889999e-03, 4.0771100e+05, 2.2008368e+08],\n",
       "        [6.1229998e-03, 6.4684300e+05, 2.1771339e+08],\n",
       "        [6.0919998e-03, 6.0260000e+05, 2.1663278e+08],\n",
       "        [5.9940000e-03, 4.9904800e+05, 2.1313850e+08]], dtype=float32),\n",
       " array([[6.0450002e-03, 4.8833700e+05, 2.1494662e+08],\n",
       "        [6.1400002e-03, 1.2498600e+06, 2.1833282e+08],\n",
       "        [6.1090002e-03, 1.3528300e+06, 2.1722126e+08],\n",
       "        [6.1220000e-03, 1.0801700e+06, 2.1770035e+08],\n",
       "        [6.1189998e-03, 1.3563900e+06, 2.1761819e+08],\n",
       "        [6.1140000e-03, 3.9963500e+05, 2.1742509e+08],\n",
       "        [6.0520000e-03, 4.1195200e+05, 2.1521101e+08]], dtype=float32),\n",
       " array([[6.0000001e-03, 6.8643400e+05, 2.1337778e+08],\n",
       "        [6.0190000e-03, 9.7925600e+05, 2.1406270e+08],\n",
       "        [6.0520000e-03, 1.1186600e+06, 2.1520424e+08],\n",
       "        [6.0790000e-03, 7.1632600e+05, 2.1619011e+08],\n",
       "        [6.0299998e-03, 5.7872200e+05, 2.1444966e+08],\n",
       "        [5.9750001e-03, 2.3326200e+05, 2.1247736e+08],\n",
       "        [5.9630000e-03, 5.9210800e+05, 2.1205416e+08]], dtype=float32),\n",
       " array([[6.1309999e-03, 1.5277600e+06, 2.1803688e+08],\n",
       "        [6.0259998e-03, 9.2804300e+05, 2.1430706e+08],\n",
       "        [6.0120001e-03, 1.1690400e+06, 2.1381629e+08],\n",
       "        [5.9839999e-03, 6.6002100e+05, 2.1132627e+08],\n",
       "        [5.9699998e-03, 5.8363600e+05, 2.1083819e+08],\n",
       "        [5.9639998e-03, 6.9831800e+05, 2.1063971e+08],\n",
       "        [5.9540002e-03, 8.0037300e+05, 2.1026890e+08]], dtype=float32),\n",
       " array([[5.9320000e-03, 7.8446000e+05, 2.0950181e+08],\n",
       "        [5.9119998e-03, 7.7352500e+05, 2.0878381e+08],\n",
       "        [5.8920002e-03, 6.8625400e+05, 2.0810008e+08],\n",
       "        [5.9019998e-03, 8.6938900e+05, 2.0842952e+08],\n",
       "        [5.8690002e-03, 8.4926000e+05, 2.0728205e+08],\n",
       "        [5.8700000e-03, 3.1003400e+05, 2.0730925e+08],\n",
       "        [5.8419998e-03, 5.3390400e+05, 2.0633024e+08]], dtype=float32),\n",
       " array([[5.8970000e-03, 6.8093200e+05, 2.0827765e+08],\n",
       "        [5.8860001e-03, 8.3694200e+05, 2.0787891e+08],\n",
       "        [5.9610000e-03, 1.0485600e+06, 2.1053726e+08],\n",
       "        [8.3029997e-03, 1.5967600e+07, 2.9440954e+08],\n",
       "        [7.4459999e-03, 1.2342800e+07, 2.6401792e+08],\n",
       "        [7.0179999e-03, 1.6462600e+06, 2.4885261e+08],\n",
       "        [6.8529998e-03, 2.2313500e+06, 2.4297690e+08]], dtype=float32),\n",
       " array([[6.8580001e-03, 2.9301200e+06, 2.4317971e+08],\n",
       "        [6.7850002e-03, 1.3654400e+06, 2.4059059e+08],\n",
       "        [6.8290001e-03, 1.7194700e+06, 2.4213549e+08],\n",
       "        [6.8430002e-03, 1.4913300e+06, 2.4263261e+08],\n",
       "        [7.2110002e-03, 3.1045400e+06, 2.5567925e+08],\n",
       "        [7.3620002e-03, 2.1700500e+06, 2.6105018e+08],\n",
       "        [7.8550000e-03, 4.6998600e+06, 2.7851213e+08]], dtype=float32),\n",
       " array([[7.9629999e-03, 9.1029400e+06, 2.8236506e+08],\n",
       "        [8.2289996e-03, 6.1314300e+06, 2.9179702e+08],\n",
       "        [9.0480000e-03, 7.5585200e+06, 3.2082451e+08],\n",
       "        [8.9140004e-03, 5.9740900e+06, 3.1622592e+08],\n",
       "        [8.8299997e-03, 7.5611500e+06, 3.1325734e+08],\n",
       "        [8.2050003e-03, 5.8955300e+06, 2.9106512e+08],\n",
       "        [8.1650000e-03, 2.0728400e+06, 2.8965568e+08]], dtype=float32),\n",
       " array([[8.0890004e-03, 2.7763000e+06, 2.8696630e+08],\n",
       "        [7.8530004e-03, 2.6429500e+06, 2.7857962e+08],\n",
       "        [7.4350000e-03, 4.8403400e+06, 2.6374283e+08],\n",
       "        [7.3819999e-03, 2.8261900e+06, 2.6189301e+08],\n",
       "        [7.3770001e-03, 3.0426000e+06, 2.6168762e+08],\n",
       "        [7.3099998e-03, 2.0195600e+06, 2.5934443e+08],\n",
       "        [7.5429999e-03, 3.3909000e+06, 2.6759469e+08]], dtype=float32),\n",
       " array([[7.9779997e-03, 6.1506100e+06, 2.8303802e+08],\n",
       "        [8.2339998e-03, 4.0036300e+06, 2.9212016e+08],\n",
       "        [7.9490002e-03, 2.9431300e+06, 2.8199005e+08],\n",
       "        [7.9819998e-03, 1.0097200e+06, 2.8315059e+08],\n",
       "        [8.7670004e-03, 1.9154300e+06, 3.1101680e+08],\n",
       "        [8.1460001e-03, 7.8197900e+05, 2.8897360e+08],\n",
       "        [8.0779996e-03, 6.0835500e+05, 2.8657011e+08]], dtype=float32),\n",
       " array([[8.0300001e-03, 2.4852900e+06, 2.8488538e+08],\n",
       "        [8.3499998e-03, 3.7829900e+06, 2.9622378e+08],\n",
       "        [8.6270003e-03, 3.3601800e+06, 3.0605341e+08],\n",
       "        [9.0920003e-03, 5.8955400e+06, 3.2265379e+08],\n",
       "        [9.0290001e-03, 4.0557100e+06, 3.2042902e+08],\n",
       "        [8.9720003e-03, 1.6495800e+06, 3.1841507e+08],\n",
       "        [9.4539998e-03, 9.7418900e+05, 3.3550192e+08]], dtype=float32),\n",
       " array([[9.0650003e-03, 1.7176900e+06, 3.2169738e+08],\n",
       "        [8.8910004e-03, 2.7806900e+06, 3.1551818e+08],\n",
       "        [8.8350000e-03, 2.9692800e+06, 3.1352589e+08],\n",
       "        [8.4809996e-03, 4.3029200e+06, 3.0132384e+08],\n",
       "        [8.1430003e-03, 3.8813200e+06, 2.8933459e+08],\n",
       "        [7.7320002e-03, 3.4713900e+06, 2.7473770e+08],\n",
       "        [8.0140000e-03, 2.0717800e+06, 2.8475712e+08]], dtype=float32),\n",
       " array([[8.1960000e-03, 2.5154800e+06, 2.9121098e+08],\n",
       "        [8.1019998e-03, 1.8754400e+06, 2.8788454e+08],\n",
       "        [8.2219997e-03, 1.7393000e+06, 2.9214794e+08],\n",
       "        [8.0209998e-03, 3.1141100e+06, 2.8594877e+08],\n",
       "        [8.1569999e-03, 2.7071100e+06, 2.9078640e+08],\n",
       "        [8.2299998e-03, 9.6701100e+05, 2.9341379e+08],\n",
       "        [8.1930002e-03, 7.8478700e+05, 2.9209117e+08]], dtype=float32),\n",
       " array([[8.1080003e-03, 2.3085000e+06, 2.8906275e+08],\n",
       "        [8.2059996e-03, 2.4770800e+06, 2.9255034e+08],\n",
       "        [8.0789998e-03, 3.5755400e+06, 2.8800573e+08],\n",
       "        [8.1359996e-03, 2.6006500e+06, 2.9098403e+08],\n",
       "        [8.0650002e-03, 2.0392000e+06, 2.8844973e+08],\n",
       "        [8.0439998e-03, 1.7080000e+06, 2.8769402e+08],\n",
       "        [8.2569998e-03, 2.2019900e+06, 2.9532842e+08]], dtype=float32),\n",
       " array([[8.0979997e-03, 1.2833300e+06, 2.8960886e+08],\n",
       "        [7.8809997e-03, 3.0780900e+06, 2.8184784e+08],\n",
       "        [7.8419996e-03, 2.9058400e+06, 2.8045622e+08],\n",
       "        [7.7269999e-03, 2.4010300e+06, 2.7711667e+08],\n",
       "        [7.7780001e-03, 2.4873900e+06, 2.7895405e+08],\n",
       "        [7.7990000e-03, 1.2967700e+06, 2.7971904e+08],\n",
       "        [7.6509998e-03, 1.8752900e+06, 2.7440851e+08]], dtype=float32),\n",
       " array([[7.5659999e-03, 2.5940100e+06, 2.7136608e+08],\n",
       "        [7.4339998e-03, 2.4001000e+06, 2.6661752e+08],\n",
       "        [7.0610000e-03, 3.7306500e+06, 2.5325203e+08],\n",
       "        [6.9499998e-03, 1.8458800e+06, 2.4932563e+08],\n",
       "        [6.9019999e-03, 9.9586900e+05, 2.4762184e+08],\n",
       "        [7.3899999e-03, 5.6081600e+05, 2.6512139e+08],\n",
       "        [7.0739998e-03, 5.2514000e+05, 2.5377755e+08]], dtype=float32),\n",
       " array([[7.0079998e-03, 1.8187500e+06, 2.5142226e+08],\n",
       "        [6.7799999e-03, 1.5516700e+06, 2.4325136e+08],\n",
       "        [6.7230002e-03, 1.4953100e+06, 2.4118451e+08],\n",
       "        [6.7019998e-03, 1.1420000e+06, 2.4119531e+08],\n",
       "        [6.6600000e-03, 1.7560300e+06, 2.3969461e+08],\n",
       "        [6.5879999e-03, 1.2134800e+06, 2.3709990e+08],\n",
       "        [6.5270001e-03, 1.1671100e+06, 2.3488773e+08]], dtype=float32),\n",
       " array([[6.4340001e-03, 8.6766600e+05, 2.3152827e+08],\n",
       "        [6.6550002e-03, 1.3965000e+06, 2.3951035e+08],\n",
       "        [6.8509998e-03, 2.8052600e+06, 2.4655317e+08],\n",
       "        [7.0969998e-03, 2.7895400e+06, 2.5546382e+08],\n",
       "        [7.1350001e-03, 2.4218600e+06, 2.5680966e+08],\n",
       "        [6.8160002e-03, 1.2978600e+06, 2.4533170e+08],\n",
       "        [6.7440001e-03, 9.7851100e+05, 2.4274010e+08]], dtype=float32),\n",
       " array([[6.7779999e-03, 1.4496400e+06, 2.4396534e+08],\n",
       "        [6.7079999e-03, 1.9466600e+06, 2.4146013e+08],\n",
       "        [6.7050001e-03, 2.0027700e+06, 2.4132946e+08],\n",
       "        [6.6620000e-03, 1.0505700e+06, 2.3846598e+08],\n",
       "        [6.7099999e-03, 2.5753900e+06, 2.4018771e+08],\n",
       "        [6.5410002e-03, 1.8389900e+06, 2.3411694e+08],\n",
       "        [6.5740002e-03, 1.1944000e+06, 2.3531965e+08]], dtype=float32),\n",
       " array([[6.5449998e-03, 1.1096700e+06, 2.3426155e+08],\n",
       "        [6.5000001e-03, 2.2846900e+06, 2.3264901e+08],\n",
       "        [6.4449999e-03, 2.3008400e+06, 2.3070357e+08],\n",
       "        [6.3629998e-03, 2.8971100e+06, 2.2909808e+08],\n",
       "        [6.2859999e-03, 3.5145400e+06, 2.2631680e+08],\n",
       "        [6.3490001e-03, 2.4956700e+06, 2.2860376e+08],\n",
       "        [6.4440002e-03, 2.1887800e+06, 2.3200646e+08]], dtype=float32),\n",
       " array([[6.3260002e-03, 1.6408400e+06, 2.2774902e+08],\n",
       "        [6.1989999e-03, 2.4710000e+06, 2.2319314e+08],\n",
       "        [6.1730002e-03, 2.0641300e+06, 2.2224408e+08],\n",
       "        [6.3410001e-03, 1.3450500e+06, 2.3040064e+08],\n",
       "        [6.4260000e-03, 1.3794700e+06, 2.3351838e+08],\n",
       "        [6.4490000e-03, 2.7288400e+05, 2.3433488e+08],\n",
       "        [6.3680001e-03, 4.1897800e+05, 2.3140864e+08]], dtype=float32)]"
      ]
     },
     "execution_count": 22,
     "metadata": {},
     "output_type": "execute_result"
    }
   ],
   "source": [
    "history = [x for x in train]\n",
    "history"
   ]
  },
  {
   "cell_type": "code",
   "execution_count": 23,
   "metadata": {
    "ExecuteTime": {
     "end_time": "2020-08-15T15:48:10.044476Z",
     "start_time": "2020-08-15T15:48:10.038477Z"
    }
   },
   "outputs": [
    {
     "data": {
      "text/plain": [
       "array([0.005613, 0.00468 , 0.004417, ..., 0.006426, 0.006449, 0.006368],\n",
       "      dtype=float32)"
      ]
     },
     "execution_count": 23,
     "metadata": {},
     "output_type": "execute_result"
    }
   ],
   "source": [
    "series = to_series(history)\n",
    "series"
   ]
  },
  {
   "cell_type": "code",
   "execution_count": 24,
   "metadata": {
    "ExecuteTime": {
     "end_time": "2020-08-15T15:48:10.513425Z",
     "start_time": "2020-08-15T15:48:10.506444Z"
    },
    "scrolled": true
   },
   "outputs": [
    {
     "data": {
      "text/plain": [
       "array([[[5.6130001e-03, 0.0000000e+00, 4.3879156e+07],\n",
       "        [4.6799998e-03, 0.0000000e+00, 3.6591008e+07],\n",
       "        [4.4169999e-03, 0.0000000e+00, 3.4534120e+07],\n",
       "        ...,\n",
       "        [4.2909998e-03, 0.0000000e+00, 3.3547504e+07],\n",
       "        [4.3139998e-03, 0.0000000e+00, 3.3724968e+07],\n",
       "        [4.4149999e-03, 0.0000000e+00, 3.4518484e+07]],\n",
       "\n",
       "       [[4.4490001e-03, 0.0000000e+00, 3.4778196e+07],\n",
       "        [4.2450000e-03, 0.0000000e+00, 3.3190304e+07],\n",
       "        [3.7880000e-03, 0.0000000e+00, 2.9617450e+07],\n",
       "        ...,\n",
       "        [3.1340001e-03, 0.0000000e+00, 2.4497514e+07],\n",
       "        [5.6710001e-03, 0.0000000e+00, 4.4335332e+07],\n",
       "        [5.6170002e-03, 0.0000000e+00, 4.3916528e+07]],\n",
       "\n",
       "       [[5.2600000e-03, 0.0000000e+00, 4.1125304e+07],\n",
       "        [6.0979999e-03, 0.0000000e+00, 4.7673884e+07],\n",
       "        [6.1309999e-03, 0.0000000e+00, 4.7928744e+07],\n",
       "        ...,\n",
       "        [5.1389998e-03, 0.0000000e+00, 4.0172928e+07],\n",
       "        [5.5459999e-03, 0.0000000e+00, 4.3357940e+07],\n",
       "        [6.1039999e-03, 0.0000000e+00, 4.7719540e+07]],\n",
       "\n",
       "       ...,\n",
       "\n",
       "       [[6.7779999e-03, 1.4496400e+06, 2.4396534e+08],\n",
       "        [6.7079999e-03, 1.9466600e+06, 2.4146013e+08],\n",
       "        [6.7050001e-03, 2.0027700e+06, 2.4132946e+08],\n",
       "        ...,\n",
       "        [6.7099999e-03, 2.5753900e+06, 2.4018771e+08],\n",
       "        [6.5410002e-03, 1.8389900e+06, 2.3411694e+08],\n",
       "        [6.5740002e-03, 1.1944000e+06, 2.3531965e+08]],\n",
       "\n",
       "       [[6.5449998e-03, 1.1096700e+06, 2.3426155e+08],\n",
       "        [6.5000001e-03, 2.2846900e+06, 2.3264901e+08],\n",
       "        [6.4449999e-03, 2.3008400e+06, 2.3070357e+08],\n",
       "        ...,\n",
       "        [6.2859999e-03, 3.5145400e+06, 2.2631680e+08],\n",
       "        [6.3490001e-03, 2.4956700e+06, 2.2860376e+08],\n",
       "        [6.4440002e-03, 2.1887800e+06, 2.3200646e+08]],\n",
       "\n",
       "       [[6.3260002e-03, 1.6408400e+06, 2.2774902e+08],\n",
       "        [6.1989999e-03, 2.4710000e+06, 2.2319314e+08],\n",
       "        [6.1730002e-03, 2.0641300e+06, 2.2224408e+08],\n",
       "        ...,\n",
       "        [6.4260000e-03, 1.3794700e+06, 2.3351838e+08],\n",
       "        [6.4490000e-03, 2.7288400e+05, 2.3433488e+08],\n",
       "        [6.3680001e-03, 4.1897800e+05, 2.3140864e+08]]], dtype=float32)"
      ]
     },
     "execution_count": 24,
     "metadata": {},
     "output_type": "execute_result"
    }
   ],
   "source": [
    "train"
   ]
  },
  {
   "cell_type": "code",
   "execution_count": 25,
   "metadata": {
    "ExecuteTime": {
     "end_time": "2020-08-15T15:48:10.833783Z",
     "start_time": "2020-08-15T15:48:10.828766Z"
    }
   },
   "outputs": [
    {
     "name": "stdout",
     "output_type": "stream",
     "text": [
      "(102, 7, 3)\n"
     ]
    },
    {
     "data": {
      "text/plain": [
       "array([[6.3109999e-03, 1.0462500e+06, 2.2931270e+08],\n",
       "       [6.3860002e-03, 1.0148300e+06, 2.3204635e+08],\n",
       "       [6.5700002e-03, 1.6427300e+06, 2.3873459e+08],\n",
       "       [6.2010000e-03, 4.0581700e+06, 2.2533304e+08],\n",
       "       [6.3149999e-03, 1.7461500e+06, 2.2946251e+08],\n",
       "       [6.3660000e-03, 1.3510300e+06, 2.3133502e+08],\n",
       "       [6.2330002e-03, 5.5413300e+05, 2.2649914e+08]], dtype=float32)"
      ]
     },
     "execution_count": 25,
     "metadata": {},
     "output_type": "execute_result"
    }
   ],
   "source": [
    "print(test.shape)\n",
    "\n",
    "test[0]"
   ]
  },
  {
   "cell_type": "code",
   "execution_count": 26,
   "metadata": {
    "ExecuteTime": {
     "end_time": "2020-08-15T15:48:11.107158Z",
     "start_time": "2020-08-15T15:48:11.103170Z"
    }
   },
   "outputs": [
    {
     "name": "stdout",
     "output_type": "stream",
     "text": [
      "<function arima_forecast at 0x0000025BBE8FD4C8>\n",
      "(1, 0, 0)\n",
      "<function Sarima_forecast at 0x0000025BA13A71F8>\n",
      "((0, 1, 0), (0, 0, 0, 0), 'n')\n"
     ]
    }
   ],
   "source": [
    "for (name, func), order in zip(models.items(), orders):\n",
    "    print(func)\n",
    "    print(order)"
   ]
  },
  {
   "cell_type": "code",
   "execution_count": 27,
   "metadata": {
    "ExecuteTime": {
     "end_time": "2020-08-15T15:48:11.278326Z",
     "start_time": "2020-08-15T15:48:11.274320Z"
    }
   },
   "outputs": [
    {
     "data": {
      "text/plain": [
       "dict_items([('arima', <function arima_forecast at 0x0000025BBE8FD4C8>), ('Sarima', <function Sarima_forecast at 0x0000025BA13A71F8>)])"
      ]
     },
     "execution_count": 27,
     "metadata": {},
     "output_type": "execute_result"
    }
   ],
   "source": [
    "models.items()"
   ]
  },
  {
   "cell_type": "code",
   "execution_count": 28,
   "metadata": {
    "ExecuteTime": {
     "end_time": "2020-08-15T15:48:11.569289Z",
     "start_time": "2020-08-15T15:48:11.561278Z"
    }
   },
   "outputs": [],
   "source": [
    "# evaluate each model\n",
    "def evaluate_algorithms(models, orders):\n",
    "    prediction_simulations = list()\n",
    "    for (name, func), order in zip(models.items(), orders): # loop on dictionary items and list orders at same time\n",
    "        # evaluate and get scores\n",
    "        score, scores, predictions = evaluate_model(func, train, test, order)\n",
    "        # summarize scores\n",
    "        summarize_scores(name, score, scores)\n",
    "        # plot scores\n",
    "        plt.plot(days, scores, marker='o', label=name)\n",
    "        # append the simulation results in a list\n",
    "        prediction_simulations.append(predictions)\n",
    "    # plot properties and showing\n",
    "    plt.ylabel('RMSE')\n",
    "    plt.legend()\n",
    "    plt.show()\n",
    "    return prediction_simulations"
   ]
  },
  {
   "cell_type": "markdown",
   "metadata": {},
   "source": [
    "<p style=\"text-align: justify\">The function <em>plot_forecasts()</em> creates a plot showing the evolution of the cryptocurrency price for the testing set, and the predictions made by ARIMA and SARIMA models.</p>\n",
    "\n",
    "<p style=\"text-align: justify\">It is also interesting to look at the residuals between prediction and testing data. A dictionary <em>\"residuals_model\"</em> is first created to store the dataframes that will contain the residuals for the models, with their names as keys. The function <em>plot_residuals()</em> is the implemented to create a figure with 3 subplots, showing from top to bottom:</p>\n",
    "\n",
    "<ul>\n",
    "    <li>Evolution of residuals with time for both models.</li>\n",
    "    <li>Histogram of the distributions of the residuals</li>\n",
    "    <li>Kernel density estimation of the residuals distributions</li>\n",
    "</ul>"
   ]
  },
  {
   "cell_type": "code",
   "execution_count": 42,
   "metadata": {
    "ExecuteTime": {
     "end_time": "2020-08-16T15:52:36.680821Z",
     "start_time": "2020-08-16T15:52:36.674825Z"
    }
   },
   "outputs": [
    {
     "data": {
      "text/plain": [
       "['mon', 'tue', 'wed', 'thr', 'fri', 'sat', 'sun']"
      ]
     },
     "execution_count": 42,
     "metadata": {},
     "output_type": "execute_result"
    }
   ],
   "source": [
    "days"
   ]
  },
  {
   "cell_type": "code",
   "execution_count": 41,
   "metadata": {
    "ExecuteTime": {
     "end_time": "2020-08-16T15:52:28.626296Z",
     "start_time": "2020-08-16T15:52:28.620341Z"
    }
   },
   "outputs": [
    {
     "data": {
      "text/plain": [
       "[0.09773198622063654,\n",
       " 0.15213831548207904,\n",
       " 0.18234240688681555,\n",
       " 0.20265578429410938,\n",
       " 0.22102263575619635,\n",
       " 0.22322041259881653,\n",
       " 0.25223660503381495]"
      ]
     },
     "execution_count": 41,
     "metadata": {},
     "output_type": "execute_result"
    }
   ],
   "source": [
    "scores"
   ]
  },
  {
   "cell_type": "code",
   "execution_count": 29,
   "metadata": {
    "ExecuteTime": {
     "end_time": "2020-08-15T15:48:12.176691Z",
     "start_time": "2020-08-15T15:48:12.162837Z"
    }
   },
   "outputs": [],
   "source": [
    "# plot the forecasts in the context of the original dataset\n",
    "def plot_forecasts(models, train, test, prediction_simulations, colors ,n_test):\n",
    "    # reshape train and tests set --> flattened for each feature\n",
    "    train = np.reshape(train, (train.shape[0]*train.shape[1],train.shape[2]))\n",
    "    test = np.reshape(test, (test.shape[0]*test.shape[1],test.shape[2]))\n",
    "    \n",
    "    #plt.plot(train) # plot training dataset\n",
    "    plt.plot([None for i in train] + [x for x in test[:,0]], color = 'green', label=\"testing set\")\n",
    "    \n",
    "    for i, (name, model), color in zip(range(len(prediction_simulations)), models.items(), colors): # looping over all results and arguments together \n",
    "        predictions = np.array(prediction_simulations[i]).flatten() # flatten predictions\n",
    "        plt.plot([None for i in train] + [i for i in predictions] , color=color, label=name)\n",
    "     \n",
    "    # define different properties on the plot\n",
    "    plt.xlabel('Days')\n",
    "    plt.ylabel('Price ($)')\n",
    "    plt.suptitle(\"Evolution of XRP price with time\",fontsize=18, fontweight='bold')\n",
    "    plt.legend()\n",
    "    # show the plot\n",
    "    plt.show()\n",
    "\n",
    "    \n",
    "residuals_model = dict() # initialize dictionary to store dataframes of residuals\n",
    "\n",
    "\n",
    "def plot_residuals(models, test, prediction_simulations, colors,n_test):\n",
    "    \n",
    "    \n",
    "    \n",
    "    # redefine train and test set without the weekly reshaping\n",
    "    test = np.reshape(test, (test.shape[0]*test.shape[1],test.shape[2])) # flatten test matrix\n",
    "    fig, (ax1, ax2, ax3) = plt.subplots(nrows=3, ncols=1, figsize = (8,8)) # figure creation with 2 subplots\n",
    "    \n",
    "    for i, (name, model), color in zip(range(len(prediction_simulations)), models.items(), colors): # looping over all results and arguments together\n",
    "        predictions = np.array(prediction_simulations[i]).flatten() # flatten predictions\n",
    "        residuals = [test[i,0] - predictions[i] for i in range(len(test))] # list comprehension to calculate residuals\n",
    "        residuals = pd.DataFrame(residuals) # creates a dataframe\n",
    "        residuals.plot(kind = 'line', ax = ax1, color=color) # line plot\n",
    "        residuals.hist(ax = ax2, bins = 30, color=color) # histogram\n",
    "        residuals.plot(kind = 'kde', ax = ax3, color=color) # kernel density estimation\n",
    "        \n",
    "        residuals_model[name] = residuals # store the residuals dataframe inside the dictionary\n",
    "        \n",
    "    # define different properties on the plot\n",
    "    ax1.set_ylabel('Residual value ($)')\n",
    "    ax1.set_xlabel('Time (days)')\n",
    "    ax2.set_ylabel('Counts')\n",
    "    plt.xlabel('Price ($)')\n",
    "    ax1.legend(['arima','Sarima'])\n",
    "    ax2.legend(['arima','Sarima'])\n",
    "    ax3.legend(['arima','Sarima'])\n",
    "    fig.suptitle(r'Evolution of the residuals', fontsize=18, fontweight='bold', y=0.92)\n",
    "    # show the plot\n",
    "    plt.show()"
   ]
  },
  {
   "cell_type": "markdown",
   "metadata": {},
   "source": [
    "<p style=\"text-align: justify\">The script below defines all the parameters necessary to run the simulation, split the dataset into a training and testing dataset, and call the <em>evaluate_algorithms()</em> function to make predictions on the testing dataset with ARIMA and SARIMA models.</p>"
   ]
  },
  {
   "cell_type": "code",
   "execution_count": 43,
   "metadata": {
    "ExecuteTime": {
     "end_time": "2020-08-16T16:09:45.336600Z",
     "start_time": "2020-08-16T16:09:45.331611Z"
    }
   },
   "outputs": [],
   "source": [
    "train_resized = np.reshape(train, (train.shape[0]*train.shape[1],train.shape[2]))"
   ]
  },
  {
   "cell_type": "code",
   "execution_count": 45,
   "metadata": {
    "ExecuteTime": {
     "end_time": "2020-08-16T16:09:52.313864Z",
     "start_time": "2020-08-16T16:09:52.307854Z"
    },
    "scrolled": true
   },
   "outputs": [
    {
     "data": {
      "text/plain": [
       "array([[[5.6130001e-03, 0.0000000e+00, 4.3879156e+07],\n",
       "        [4.6799998e-03, 0.0000000e+00, 3.6591008e+07],\n",
       "        [4.4169999e-03, 0.0000000e+00, 3.4534120e+07],\n",
       "        ...,\n",
       "        [4.2909998e-03, 0.0000000e+00, 3.3547504e+07],\n",
       "        [4.3139998e-03, 0.0000000e+00, 3.3724968e+07],\n",
       "        [4.4149999e-03, 0.0000000e+00, 3.4518484e+07]],\n",
       "\n",
       "       [[4.4490001e-03, 0.0000000e+00, 3.4778196e+07],\n",
       "        [4.2450000e-03, 0.0000000e+00, 3.3190304e+07],\n",
       "        [3.7880000e-03, 0.0000000e+00, 2.9617450e+07],\n",
       "        ...,\n",
       "        [3.1340001e-03, 0.0000000e+00, 2.4497514e+07],\n",
       "        [5.6710001e-03, 0.0000000e+00, 4.4335332e+07],\n",
       "        [5.6170002e-03, 0.0000000e+00, 4.3916528e+07]],\n",
       "\n",
       "       [[5.2600000e-03, 0.0000000e+00, 4.1125304e+07],\n",
       "        [6.0979999e-03, 0.0000000e+00, 4.7673884e+07],\n",
       "        [6.1309999e-03, 0.0000000e+00, 4.7928744e+07],\n",
       "        ...,\n",
       "        [5.1389998e-03, 0.0000000e+00, 4.0172928e+07],\n",
       "        [5.5459999e-03, 0.0000000e+00, 4.3357940e+07],\n",
       "        [6.1039999e-03, 0.0000000e+00, 4.7719540e+07]],\n",
       "\n",
       "       ...,\n",
       "\n",
       "       [[6.7779999e-03, 1.4496400e+06, 2.4396534e+08],\n",
       "        [6.7079999e-03, 1.9466600e+06, 2.4146013e+08],\n",
       "        [6.7050001e-03, 2.0027700e+06, 2.4132946e+08],\n",
       "        ...,\n",
       "        [6.7099999e-03, 2.5753900e+06, 2.4018771e+08],\n",
       "        [6.5410002e-03, 1.8389900e+06, 2.3411694e+08],\n",
       "        [6.5740002e-03, 1.1944000e+06, 2.3531965e+08]],\n",
       "\n",
       "       [[6.5449998e-03, 1.1096700e+06, 2.3426155e+08],\n",
       "        [6.5000001e-03, 2.2846900e+06, 2.3264901e+08],\n",
       "        [6.4449999e-03, 2.3008400e+06, 2.3070357e+08],\n",
       "        ...,\n",
       "        [6.2859999e-03, 3.5145400e+06, 2.2631680e+08],\n",
       "        [6.3490001e-03, 2.4956700e+06, 2.2860376e+08],\n",
       "        [6.4440002e-03, 2.1887800e+06, 2.3200646e+08]],\n",
       "\n",
       "       [[6.3260002e-03, 1.6408400e+06, 2.2774902e+08],\n",
       "        [6.1989999e-03, 2.4710000e+06, 2.2319314e+08],\n",
       "        [6.1730002e-03, 2.0641300e+06, 2.2224408e+08],\n",
       "        ...,\n",
       "        [6.4260000e-03, 1.3794700e+06, 2.3351838e+08],\n",
       "        [6.4490000e-03, 2.7288400e+05, 2.3433488e+08],\n",
       "        [6.3680001e-03, 4.1897800e+05, 2.3140864e+08]]], dtype=float32)"
      ]
     },
     "execution_count": 45,
     "metadata": {},
     "output_type": "execute_result"
    }
   ],
   "source": [
    "train"
   ]
  },
  {
   "cell_type": "code",
   "execution_count": 47,
   "metadata": {
    "ExecuteTime": {
     "end_time": "2020-08-16T16:11:21.295468Z",
     "start_time": "2020-08-16T16:11:21.287459Z"
    }
   },
   "outputs": [
    {
     "data": {
      "text/plain": [
       "array([5.6130001e-03, 0.0000000e+00, 4.3879156e+07], dtype=float32)"
      ]
     },
     "execution_count": 47,
     "metadata": {},
     "output_type": "execute_result"
    }
   ],
   "source": [
    "train_resized[0]"
   ]
  },
  {
   "cell_type": "code",
   "execution_count": null,
   "metadata": {},
   "outputs": [],
   "source": []
  },
  {
   "cell_type": "code",
   "execution_count": 30,
   "metadata": {
    "ExecuteTime": {
     "end_time": "2020-08-15T15:48:24.411146Z",
     "start_time": "2020-08-15T15:48:12.647665Z"
    }
   },
   "outputs": [
    {
     "name": "stdout",
     "output_type": "stream",
     "text": [
      "arima: Total RMSE --> [0.195]; Daily RMSE: 0.1, 0.2, 0.2, 0.2, 0.2, 0.2, 0.3\n",
      "Sarima: Total RMSE --> [0.196]; Daily RMSE: 0.1, 0.2, 0.2, 0.2, 0.2, 0.2, 0.3\n"
     ]
    },
    {
     "data": {
      "image/png": "[encoded data removed]",
      "text/plain": [
       "<Figure size 432x288 with 1 Axes>"
      ]
     },
     "metadata": {
      "needs_background": "light"
     },
     "output_type": "display_data"
    }
   ],
   "source": [
    "n_test = 714 # Splitting the dataset 714 days before the end\n",
    "\n",
    "#n_tests = [714, 350, 1400]\n",
    "# define the names and functions for the models we wish to evaluate\n",
    "models = dict()\n",
    "models['arima'] = arima_forecast\n",
    "models['Sarima'] = Sarima_forecast\n",
    "\n",
    "arima_order = (1,0,0)\n",
    "config_sarima = (0,1,0),(0,0,0,0),'n'\n",
    "\n",
    "orders = list()\n",
    "orders.extend([arima_order, config_sarima])\n",
    "\n",
    "\n",
    "# Creating a list of colors to be passed as arguments for the plots\n",
    "colors = list()\n",
    "colors.extend(['red','blue'])\n",
    "\n",
    "#for n_test in n_tests:\n",
    "train, test = split_dataset(dataset.values, n_test)\n",
    "\n",
    "# evaluate the different algorithms defined in \"models\" dictionary\n",
    "prediction_simulations = evaluate_algorithms(models, orders)"
   ]
  },
  {
   "cell_type": "markdown",
   "metadata": {},
   "source": [
    "<p style=\"text-align: justify\">As seen on the figure above, and the printed scores, the ARIMA and SARIMA models performs similarly. This is expected, considering that we are using rolling windows of 7 days in which, a seasonal pattern should hardly exist. Considering the training and testing dataset as a whole for instance would lead to different results as seasonal patterns do exist, especially when considering cryptocurrencies or other financial assets.</p>\n",
    "\n",
    "<p style=\"text-align: justify\">The RMSE error also increases as the week goes on. Indeed, considering the models are autoregressive with a lag of 1, the error gradually increases through the week depending on the evolution of the price compared to monday.</p>\n",
    "\n",
    "<p style=\"text-align: justify\">The evolution of price with time is then plotted for the predictions and the testing dataset. It can be seen why the error increases with the AR(1) model, especially when considering a cryptocurrency such as XRP, which is quite volatile. For the ARIMA model, the weekly prediction is based on the value from the previous week, with some seasonal moving average added in the SARIMA model. This shows the limitations of the models here despite the hyper-grid search carried out previously.</p>"
   ]
  },
  {
   "cell_type": "code",
   "execution_count": 48,
   "metadata": {
    "ExecuteTime": {
     "end_time": "2020-08-16T16:16:25.416970Z",
     "start_time": "2020-08-16T16:16:25.388535Z"
    }
   },
   "outputs": [
    {
     "data": {
      "text/plain": [
       "[array([6.311000e-03, 1.046250e+06, 2.293127e+08], dtype=float32),\n",
       " array([6.167000e-03, 7.022550e+05, 2.240801e+08], dtype=float32),\n",
       " array([6.7880000e-03, 6.9928400e+05, 2.4960411e+08], dtype=float32),\n",
       " array([6.6970000e-03, 3.0983800e+05, 2.4683507e+08], dtype=float32),\n",
       " array([6.3809999e-03, 3.9182200e+05, 2.3516342e+08], dtype=float32),\n",
       " array([6.4500002e-03, 3.8676600e+05, 2.3770755e+08], dtype=float32),\n",
       " array([6.2509999e-03, 4.6284300e+05, 2.3158094e+08], dtype=float32),\n",
       " array([5.8729998e-03, 8.8011700e+05, 2.1757307e+08], dtype=float32),\n",
       " array([5.6090001e-03, 6.4112600e+05, 2.0832714e+08], dtype=float32),\n",
       " array([6.057000e-03, 1.023500e+06, 2.265713e+08], dtype=float32),\n",
       " array([6.3850000e-03, 2.5618900e+06, 2.3809813e+08], dtype=float32),\n",
       " array([6.975000e-03, 3.423710e+06, 2.604453e+08], dtype=float32),\n",
       " array([9.5969997e-03, 6.3361500e+06, 3.5883008e+08], dtype=float32),\n",
       " array([3.3023000e-02, 1.5555000e+08, 1.2388216e+09], dtype=float32),\n",
       " array([3.3597998e-02, 1.2012700e+07, 1.2604758e+09], dtype=float32),\n",
       " array([3.3654999e-02, 7.9332600e+06, 1.2631469e+09], dtype=float32),\n",
       " array([3.1383999e-02, 6.3332500e+06, 1.1889919e+09], dtype=float32),\n",
       " array([5.511500e-02, 6.173010e+07, 2.088015e+09], dtype=float32),\n",
       " array([1.982120e-01, 4.026110e+08, 7.523251e+09], dtype=float32),\n",
       " array([2.7072001e-01, 2.2392301e+08, 1.0370166e+10], dtype=float32),\n",
       " array([3.1795400e-01, 2.6569901e+08, 1.2251574e+10], dtype=float32),\n",
       " array([2.320700e-01, 8.655560e+07, 8.876524e+09], dtype=float32),\n",
       " array([2.9400301e-01, 7.8433504e+07, 1.1354894e+10], dtype=float32),\n",
       " array([2.539640e-01, 1.499420e+08, 9.733521e+09], dtype=float32),\n",
       " array([2.9606801e-01, 1.6495501e+08, 1.1336524e+10], dtype=float32),\n",
       " array([2.7728799e-01, 2.8010000e+08, 1.0617742e+10], dtype=float32),\n",
       " array([2.599590e-01, 6.036780e+07, 9.954191e+09], dtype=float32),\n",
       " array([2.03165e-01, 1.19367e+08, 7.77947e+09], dtype=float32),\n",
       " array([1.778890e-01, 3.126850e+08, 6.811617e+09], dtype=float32),\n",
       " array([1.920020e-01, 5.663280e+07, 7.359876e+09], dtype=float32),\n",
       " array([1.673860e-01, 5.727380e+07, 6.416423e+09], dtype=float32),\n",
       " array([1.790210e-01, 5.805210e+07, 6.864353e+09], dtype=float32),\n",
       " array([1.699910e-01, 8.438830e+07, 6.518108e+09], dtype=float32),\n",
       " array([1.9191800e-01, 4.4708899e+08, 7.3588736e+09], dtype=float32),\n",
       " array([2.24508e-01, 5.42468e+08, 8.60850e+09], dtype=float32),\n",
       " array([2.0496801e-01, 2.3961299e+08, 7.8592604e+09], dtype=float32),\n",
       " array([2.1444100e-01, 1.3833901e+08, 8.2224916e+09], dtype=float32),\n",
       " array([1.8976800e-01, 8.8397904e+07, 7.2764344e+09], dtype=float32),\n",
       " array([1.814870e-01, 3.562260e+07, 6.958909e+09], dtype=float32),\n",
       " array([2.0267600e-01, 7.7412304e+07, 7.7713766e+09], dtype=float32),\n",
       " array([2.518250e-01, 6.101100e+08, 9.719725e+09], dtype=float32),\n",
       " array([2.562320e-01, 9.631580e+08, 9.873014e+09], dtype=float32),\n",
       " array([1.969280e-01, 9.991480e+07, 7.587939e+09], dtype=float32),\n",
       " array([2.027110e-01, 3.483510e+07, 7.810767e+09], dtype=float32),\n",
       " array([2.0599000e-01, 1.0223300e+08, 7.9371116e+09], dtype=float32),\n",
       " array([2.034420e-01, 1.325670e+08, 7.857514e+09], dtype=float32),\n",
       " array([2.387590e-01, 2.146630e+08, 9.221563e+09], dtype=float32),\n",
       " array([2.53927e-01, 1.96735e+08, 9.80739e+09], dtype=float32),\n",
       " array([2.53571e-01, 1.04650e+08, 9.81493e+09], dtype=float32),\n",
       " array([2.516910e-01, 1.761010e+08, 9.750295e+09], dtype=float32),\n",
       " array([7.7840698e-01, 1.3427200e+09, 3.0154822e+10], dtype=float32),\n",
       " array([1.1200000e+00, 6.8601402e+08, 4.3477717e+10], dtype=float32),\n",
       " array([2.390000e+00, 1.894230e+09, 9.262646e+10], dtype=float32),\n",
       " array([2.460000e+00, 3.315260e+09, 9.515147e+10], dtype=float32),\n",
       " array([1.6799999e+00, 1.8384600e+09, 6.4955085e+10], dtype=float32),\n",
       " array([1.3600000e+00, 2.6425101e+09, 5.2582576e+10], dtype=float32),\n",
       " array([1.3200001e+00, 1.0736800e+09, 5.1289465e+10], dtype=float32),\n",
       " array([6.9179899e-01, 1.2861800e+09, 2.6986537e+10], dtype=float32),\n",
       " array([1.0800000e+00, 1.7562900e+09, 4.2169352e+10], dtype=float32),\n",
       " array([1.1400000e+00, 5.5630400e+08, 4.4642927e+10], dtype=float32),\n",
       " array([9.5685899e-01, 4.5861299e+08, 3.7408215e+10], dtype=float32),\n",
       " array([9.5936799e-01, 1.7068200e+09, 3.7503574e+10], dtype=float32),\n",
       " array([8.0104798e-01, 3.5503101e+08, 3.1314534e+10], dtype=float32),\n",
       " array([7.4908000e-01, 1.0969300e+09, 2.9284604e+10], dtype=float32),\n",
       " array([5.9946299e-01, 3.8450499e+08, 2.3435543e+10], dtype=float32),\n",
       " array([5.0068802e-01, 2.6234200e+08, 1.9574157e+10], dtype=float32),\n",
       " array([4.9185500e-01, 2.7177501e+08, 1.9228836e+10], dtype=float32),\n",
       " array([6.6329700e-01, 5.3199600e+08, 2.5950032e+10], dtype=float32),\n",
       " array([8.7665701e-01, 6.7454502e+08, 3.4317793e+10], dtype=float32),\n",
       " array([8.379380e-01, 5.753640e+08, 3.280209e+10], dtype=float32),\n",
       " array([8.3264101e-01, 6.0253498e+08, 3.2621425e+10], dtype=float32),\n",
       " array([7.408980e-01, 6.134620e+08, 2.903577e+10], dtype=float32),\n",
       " array([6.8158698e-01, 2.5048099e+08, 2.6711374e+10], dtype=float32),\n",
       " array([5.522990e-01, 3.279030e+08, 2.164458e+10], dtype=float32),\n",
       " array([6.6142499e-01, 5.5813101e+08, 2.5955326e+10], dtype=float32),\n",
       " array([6.0406601e-01, 3.3654701e+08, 2.3706155e+10], dtype=float32),\n",
       " array([5.3749502e-01, 2.7652701e+08, 2.1094154e+10], dtype=float32),\n",
       " array([4.8175299e-01, 2.3172899e+08, 1.8914628e+10], dtype=float32),\n",
       " array([4.861220e-01, 3.359190e+08, 1.908617e+10], dtype=float32),\n",
       " array([4.74270e-01, 2.06345e+08, 1.86210e+10], dtype=float32),\n",
       " array([4.8340100e-01, 2.6928301e+08, 1.8979504e+10], dtype=float32),\n",
       " array([4.452760e-01, 1.945420e+08, 1.750633e+10], dtype=float32),\n",
       " array([4.4610700e-01, 2.4771400e+08, 1.7539002e+10], dtype=float32),\n",
       " array([4.1408101e-01, 2.4207501e+08, 1.6273331e+10], dtype=float32),\n",
       " array([2.7746600e-01, 2.3511699e+08, 1.0924502e+10], dtype=float32),\n",
       " array([3.1928301e-01, 3.1114400e+08, 1.2570937e+10], dtype=float32),\n",
       " array([3.3690301e-01, 2.2728400e+08, 1.3347494e+10], dtype=float32),\n",
       " array([3.3596101e-01, 2.0114701e+08, 1.3320905e+10], dtype=float32),\n",
       " array([2.7032101e-01, 2.0495800e+08, 1.0735218e+10], dtype=float32),\n",
       " array([2.7225101e-01, 2.4648899e+08, 1.0838059e+10], dtype=float32),\n",
       " array([4.9471200e-01, 1.0343800e+09, 1.9724616e+10], dtype=float32),\n",
       " array([5.7646102e-01, 1.4128000e+09, 2.3021208e+10], dtype=float32),\n",
       " array([4.8975101e-01, 5.4083200e+08, 1.9558408e+10], dtype=float32),\n",
       " array([4.4731599e-01, 1.0414700e+09, 1.7891582e+10], dtype=float32),\n",
       " array([4.5310900e-01, 2.4930200e+08, 1.8123289e+10], dtype=float32),\n",
       " array([4.4151399e-01, 3.4164800e+08, 1.7751298e+10], dtype=float32),\n",
       " array([4.9741200e-01, 5.5651898e+08, 1.9998706e+10], dtype=float32),\n",
       " array([5.1716501e-01, 6.0504198e+08, 2.0792881e+10], dtype=float32),\n",
       " array([4.7816601e-01, 1.2973400e+09, 1.9283163e+10], dtype=float32),\n",
       " array([3.5545099e-01, 1.0320000e+09, 1.4334394e+10], dtype=float32),\n",
       " array([3.4875399e-01, 3.9265162e+08, 1.4064338e+10], dtype=float32),\n",
       " array([3.0376601e-01, 3.8662771e+08, 1.2432209e+10], dtype=float32)]"
      ]
     },
     "execution_count": 48,
     "metadata": {},
     "output_type": "execute_result"
    }
   ],
   "source": [
    "[x for x in test[:,0]]"
   ]
  },
  {
   "cell_type": "code",
   "execution_count": 31,
   "metadata": {
    "ExecuteTime": {
     "end_time": "2020-08-15T15:48:24.556506Z",
     "start_time": "2020-08-15T15:48:24.414140Z"
    }
   },
   "outputs": [
    {
     "data": {
      "image/png": "[encoded data removed]",
      "text/plain": [
       "<Figure size 432x288 with 1 Axes>"
      ]
     },
     "metadata": {
      "needs_background": "light"
     },
     "output_type": "display_data"
    }
   ],
   "source": [
    "plot_forecasts(models, train, test, prediction_simulations, colors ,n_test)"
   ]
  },
  {
   "cell_type": "code",
   "execution_count": 32,
   "metadata": {
    "ExecuteTime": {
     "end_time": "2020-08-15T15:48:25.056741Z",
     "start_time": "2020-08-15T15:48:24.558469Z"
    }
   },
   "outputs": [
    {
     "data": {
      "image/png": "[encoded data removed]",
      "text/plain": [
       "<Figure size 576x576 with 3 Axes>"
      ]
     },
     "metadata": {
      "needs_background": "light"
     },
     "output_type": "display_data"
    }
   ],
   "source": [
    "plot_residuals(models, test, prediction_simulations, colors,n_test)"
   ]
  },
  {
   "cell_type": "markdown",
   "metadata": {},
   "source": [
    "<p style=\"text-align: justify\">The residuals evolution and statistics, shows a Gaussian distribution which located close to a mean of 0, which is something we need to achieve while considering the residuals of a prediction.</p>\n",
    "\n",
    "<p style=\"text-align: justify\">In the next cell, different statistics of the residuals are printed for both models. We can see, that despite having a mean close to 0, the standard deviation for both models is too high in comparison of the values at stake. One main reason is due to the big jump in XRP price after 1600 days (in 2017), which created some disruption in the models with some high residual values. A glance at the percentiles for instance for the ARIMA model, shows that 75% of the values are predicted with less than 0.02\\$ difference, and even better for the SARIMA with the values forecasted with less than 0.013\\$ on the same range, which is good already considering the price value of the currency on that period.</p>"
   ]
  },
  {
   "cell_type": "code",
   "execution_count": 33,
   "metadata": {
    "ExecuteTime": {
     "end_time": "2020-08-15T15:48:25.074657Z",
     "start_time": "2020-08-15T15:48:25.058731Z"
    }
   },
   "outputs": [
    {
     "name": "stdout",
     "output_type": "stream",
     "text": [
      "ARIMA stats :                 0\n",
      "count  714.000000\n",
      "mean     0.001416\n",
      "std      0.195259\n",
      "min     -1.519998\n",
      "25%     -0.019282\n",
      "50%      0.000015\n",
      "75%      0.020929\n",
      "max      1.263757\n",
      "\n",
      "SARIMA stats :                 0\n",
      "count  714.000000\n",
      "mean    -0.006061\n",
      "std      0.196191\n",
      "min     -1.520000\n",
      "25%     -0.025408\n",
      "50%     -0.000173\n",
      "75%      0.013341\n",
      "max      1.260000\n"
     ]
    }
   ],
   "source": [
    "print('ARIMA stats :', residuals_model['arima'].describe())\n",
    "print()\n",
    "print('SARIMA stats :', residuals_model['Sarima'].describe())"
   ]
  },
  {
   "cell_type": "markdown",
   "metadata": {},
   "source": [
    "## Extensions\n",
    "\n",
    "<p style=\"text-align: justify\">This section lists some ideas for extending this example that you may wish to explore.</p>\n",
    "\n",
    "<ul>\n",
    "\n",
    "<li><div style=\"text-align: justify\"><strong>Change the walk-forward validation procedure</strong>. Here, we used a rolling window of 7 days to predict the next 7 days of the cryptocurrency price. Depending on the problem encountered, there might be an optimal window in which the models need to be trained and re-defined for improved results.</div></li>\n",
    "\n",
    "<li><div style=\"text-align: justify\"><strong>Correct predictions with residual errors</strong>. A model of forecast residual error is interesting, but it can also be useful to make better predictions. With a good estimate of forecast error at a time step, we can make better predictions. For example, we can add the expected forecast error to a prediction to correct it and in turn improve the skill of the model.</div></li>\n",
    "    \n",
    "<li><strong>Explore Data Preparation</strong>. The model was fit on the raw data directly. Explore whether standardization or normalization or even power transforms can further improve the skill of the AR model.</li>\n",
    "\n",
    "</ul>"
   ]
  },
  {
   "cell_type": "code",
   "execution_count": null,
   "metadata": {},
   "outputs": [],
   "source": []
  }
 ],
 "metadata": {
  "kernelspec": {
   "display_name": "ts_forecasting",
   "language": "python",
   "name": "ts_forecasting"
  },
  "language_info": {
   "codemirror_mode": {
    "name": "ipython",
    "version": 3
   },
   "file_extension": ".py",
   "mimetype": "text/x-python",
   "name": "python",
   "nbconvert_exporter": "python",
   "pygments_lexer": "ipython3",
   "version": "3.7.7"
  },
  "toc": {
   "base_numbering": 1,
   "nav_menu": {},
   "number_sections": true,
   "sideBar": true,
   "skip_h1_title": false,
   "title_cell": "Table of Contents",
   "title_sidebar": "Contents",
   "toc_cell": false,
   "toc_position": {},
   "toc_section_display": true,
   "toc_window_display": false
  }
 },
 "nbformat": 4,
 "nbformat_minor": 2
}
