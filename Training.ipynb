{
 "cells": [
  {
   "cell_type": "code",
   "execution_count": 1,
   "metadata": {
    "ExecuteTime": {
     "end_time": "2020-06-07T07:29:24.384217Z",
     "start_time": "2020-06-07T07:29:22.616793Z"
    }
   },
   "outputs": [],
   "source": [
    "import os, sys, inspect\n",
    "import pandas as pd\n",
    "import matplotlib.pyplot as plt\n",
    "import numpy as np\n",
    "import seaborn as sns\n",
    "import warnings\n",
    "warnings.filterwarnings('ignore')\n",
    "warnings.filterwarnings(\"ignore\", category=DeprecationWarning)\n",
    "warnings.simplefilter('ignore')\n",
    "from IPython.display import display, Markdown, clear_output, HTML\n",
    "import ipywidgets as widgets\n",
    "from qgrid import show_grid\n",
    "import matplotlib.gridspec as gridspec\n",
    "\n",
    "import importlib\n",
    "\n",
    "class Args(object):\n",
    "    pass\n",
    "args = Args()"
   ]
  },
  {
   "cell_type": "code",
   "execution_count": 2,
   "metadata": {
    "ExecuteTime": {
     "end_time": "2020-06-07T07:29:32.165362Z",
     "start_time": "2020-06-07T07:29:24.385176Z"
    }
   },
   "outputs": [
    {
     "name": "stderr",
     "output_type": "stream",
     "text": [
      "Using TensorFlow backend.\n"
     ]
    }
   ],
   "source": [
    "import src\n",
    "import src.train\n",
    "importlib.reload(src.train)\n",
    "from src.train import Train\n",
    "from src.train import Model\n",
    "\n",
    "from src.Config import Config"
   ]
  },
  {
   "cell_type": "code",
   "execution_count": 3,
   "metadata": {
    "ExecuteTime": {
     "end_time": "2020-06-07T07:29:32.256105Z",
     "start_time": "2020-06-07T07:29:32.170335Z"
    }
   },
   "outputs": [
    {
     "data": {
      "text/markdown": [
       "<a id=\"top\"></a>"
      ],
      "text/plain": [
       "<IPython.core.display.Markdown object>"
      ]
     },
     "metadata": {},
     "output_type": "display_data"
    }
   ],
   "source": [
    "# create tabs per field\n",
    "display(Markdown('<a id=\"top\"></a>'))\n",
    "sources = ['District']\n",
    "if Config.MODELLING_CONFIG[\"MODEL_TYPE\"] == \"Supervised\":\n",
    "    sections = [\"Summary\", \"Metrics\", \"Feature Importance\", \"Actual-vs-Predict\"]\n",
    "else:\n",
    "    sections = [\"Summary\", \"Metrics\", \"Actual-vs-Predict\"]\n",
    "accordions = {}\n",
    "\n",
    "for source in sources:\n",
    "    accordions[source] = widgets.Accordion(children=[widgets.Output() for section in sections])\n",
    "    [accordions[source].set_title(isection, section) for isection, section in enumerate(sections)]\n",
    "    \n",
    "tab_fields = widgets.Tab(children=[accordions[source] for source in accordions])\n",
    "[tab_fields.set_title(i, source) for i, source in enumerate(accordions.keys())];"
   ]
  },
  {
   "cell_type": "code",
   "execution_count": 4,
   "metadata": {
    "ExecuteTime": {
     "end_time": "2020-06-07T07:29:32.277070Z",
     "start_time": "2020-06-07T07:29:32.260097Z"
    },
    "scrolled": false
   },
   "outputs": [
    {
     "data": {
      "application/vnd.jupyter.widget-view+json": {
       "model_id": "6bddf689ceee42138ad200d1b296b0ba",
       "version_major": 2,
       "version_minor": 0
      },
      "text/plain": [
       "Tab(children=(Accordion(children=(Output(), Output(), Output(), Output()), _titles={'0': 'Summary', '1': 'Metr…"
      ]
     },
     "metadata": {},
     "output_type": "display_data"
    }
   ],
   "source": [
    "tab_fields"
   ]
  },
  {
   "cell_type": "code",
   "execution_count": 5,
   "metadata": {
    "ExecuteTime": {
     "end_time": "2020-06-07T07:29:55.363789Z",
     "start_time": "2020-06-07T07:29:32.282037Z"
    }
   },
   "outputs": [],
   "source": [
    "%matplotlib agg\n",
    "\n",
    "if Config.MODELLING_CONFIG[\"MODEL_TYPE\"] == 'Supervised':\n",
    "\n",
    "    algs = [\"XGBR\", \"XGBR_tuned\", \"LGBMR\", \"LGBMR_tuned\"]\n",
    "\n",
    "    for source in accordions:\n",
    "        train = Train(\"Prod_Sales\")\n",
    "        results = None\n",
    "        with accordions[source].children[0]:\n",
    "            clear_output()\n",
    "            train.read_csv_file(vars='Primax_95', fname='primax_95')\n",
    "            train.run(algs)\n",
    "            train.save_models()\n",
    "            display(Markdown('[Home](#toc)'))\n",
    "\n",
    "        with accordions[source].children[1]:\n",
    "            clear_output()\n",
    "            for imet, (metric, group_data) in enumerate(train.results.groupby('metric_name')):\n",
    "                display(Markdown(r'<h3> {}. {} </h3>'.format(imet+1, metric)))\n",
    "                display(Markdown(r'<p> Boxplot of {0} performance segregated by algorithms for cluster in {1}. </p>'.format(metric, source)))\n",
    "                display(Train.boxplot_metric(group_data, metric))\n",
    "                if len(train.models) > 1:\n",
    "                    display(Markdown(r'<p> Barplot of {0} performance by algorithm for each cluster. Overall, there are <b>{1}</b> cluster. </p>'.format(metric, len(train.models))))\n",
    "                    display(Train.barplot_metric(group_data, metric))\n",
    "                    display(Markdown(r'<p> Pie chart showing the percentage of best algorithm(s) for {1} cluster in terms of {0} metric. </p>'.format(metric, len(train.models))))\n",
    "                    display(train.piechart_metric(metric))\n",
    "                    display(Markdown(r'<p> Boxplot of {0} performance from best algorithm in {1}. </p>'.format(metric, source)))\n",
    "                    display(train.boxplot_best(metric))\n",
    "            display(Markdown('[Home](#toc)'))\n",
    "            \n",
    "        with accordions[source].children[2]:\n",
    "            clear_output()\n",
    "            districts = train.get_districts_for_plt(20)\n",
    "            for idistrict, district in enumerate(districts):\n",
    "                display(Markdown(r'<h3>{}. {} </h3>'.format(idistrict+1, district)))\n",
    "                display(train.models[district][0].feature_importance_plot())\n",
    "            display(Markdown('[Home](#toc)'))\n",
    "\n",
    "        with accordions[source].children[3]:\n",
    "            clear_output()\n",
    "            districts = train.get_districts_for_plt(20)\n",
    "            for idistrict, district in enumerate(districts):\n",
    "                display(Markdown(r'<h3>{}. {} </h3>'.format(idistrict+1, district)))\n",
    "                display(train.actual_pred_plot(district))\n",
    "                display(train.models[district][0].residual_plot())\n",
    "                index = train.models[district][0].date\n",
    "                display(train.time_series_plot(index, district))\n",
    "            display(Markdown('[Home](#toc)'))\n",
    "            \n",
    "elif Config.MODELLING_CONFIG[\"MODEL_TYPE\"] == 'Forecasting':\n",
    "    algs = [\"ARIMA\", \"SARIMA\", \"HOLT_WINTER\"]\n",
    "\n",
    "    for source in accordions:\n",
    "        train = Train(\"Prod_Sales\")\n",
    "        results = None\n",
    "        with accordions[source].children[0]:\n",
    "            clear_output()\n",
    "            train.read_csv_file(vars='Biodiesel_50', fname='biodiesel_B10')\n",
    "            train.run(algs)\n",
    "            train.save_models()\n",
    "            display(Markdown('[Home](#toc)'))\n",
    "\n",
    "        with accordions[source].children[1]:\n",
    "            clear_output()\n",
    "            for imet, (metric, group_data) in enumerate(train.results.groupby('metric_name')):\n",
    "                display(Markdown(r'<h3> {}. {} </h3>'.format(imet+1, metric)))\n",
    "                display(Markdown(r'<p> Boxplot of {0} performance segregated by algorithms for cluster in {1}. </p>'.format(metric, source)))\n",
    "                display(Train.boxplot_metric(group_data, metric))\n",
    "                if len(train.models) > 1:\n",
    "                    display(Markdown(r'<p> Barplot of {0} performance by algorithm for each cluster. Overall, there are <b>{1}</b> cluster. </p>'.format(metric, len(train.models))))\n",
    "                    display(Train.barplot_metric(group_data, metric))\n",
    "                    display(Markdown(r'<p> Pie chart showing the percentage of best algorithm(s) for {1} cluster in terms of {0} metric. </p>'.format(metric, len(train.models))))\n",
    "                    display(train.piechart_metric(metric))\n",
    "                    display(Markdown(r'<p> Boxplot of {0} performance from best algorithm in {1}. </p>'.format(metric, source)))\n",
    "                    display(train.boxplot_best(metric))\n",
    "            display(Markdown('[Home](#toc)'))\n",
    "\n",
    "        with accordions[source].children[2]:\n",
    "            clear_output()\n",
    "            districts = train.get_districts_for_plt(40)\n",
    "            for idistrict, district in enumerate(districts):\n",
    "                display(Markdown(r'<h3>{}. {} </h3>'.format(idistrict+1, district)))\n",
    "                display(train.actual_pred_plot(district))\n",
    "                display(train.models[district][0].residual_plot())\n",
    "                index = train.models[district][0].date\n",
    "                display(train.time_series_plot(index, district))\n",
    "            display(Markdown('[Home](#toc)'))"
   ]
  },
  {
   "cell_type": "code",
   "execution_count": null,
   "metadata": {},
   "outputs": [],
   "source": []
  },
  {
   "cell_type": "code",
   "execution_count": null,
   "metadata": {},
   "outputs": [],
   "source": []
  }
 ],
 "metadata": {
  "kernelspec": {
   "display_name": "Python 3.7.6 64-bit",
   "language": "python",
   "name": "python37664bit86cd7af839574b719694da79b128144c"
  },
  "language_info": {
   "codemirror_mode": {
    "name": "ipython",
    "version": 3
   },
   "file_extension": ".py",
   "mimetype": "text/x-python",
   "name": "python",
   "nbconvert_exporter": "python",
   "pygments_lexer": "ipython3",
   "version": "3.7.6"
  },
  "toc": {
   "base_numbering": 1,
   "nav_menu": {},
   "number_sections": true,
   "sideBar": true,
   "skip_h1_title": false,
   "title_cell": "Table of Contents",
   "title_sidebar": "Contents",
   "toc_cell": false,
   "toc_position": {},
   "toc_section_display": true,
   "toc_window_display": false
  }
 },
 "nbformat": 4,
 "nbformat_minor": 2
}
