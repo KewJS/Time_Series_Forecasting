{
 "cells": [
  {
   "cell_type": "code",
   "execution_count": 99,
   "metadata": {
    "ExecuteTime": {
     "end_time": "2020-05-30T16:02:35.330244Z",
     "start_time": "2020-05-30T16:02:35.315216Z"
    }
   },
   "outputs": [],
   "source": [
    "import numpy as np\n",
    "import pandas as pd\n",
    "import tqdm\n",
    "import random\n",
    "import os\n",
    "import importlib\n",
    "import matplotlib.pyplot as plt\n",
    "\n",
    "from sklearn.preprocessing import StandardScaler\n",
    "from sklearn.model_selection import train_test_split\n",
    "from sklearn.metrics import mean_absolute_error\n",
    "\n",
    "import tensorflow as tf\n",
    "from tensorflow.keras.models import *\n",
    "from tensorflow.keras.layers import *\n",
    "from tensorflow.keras import backend as K\n",
    "\n",
    "import src\n",
    "import src.analysis\n",
    "importlib.reload(src.analysis)\n",
    "from src.analysis import Analysis\n",
    "\n",
    "from src.Config import Config"
   ]
  },
  {
   "cell_type": "markdown",
   "metadata": {},
   "source": [
    "# Load Data"
   ]
  },
  {
   "cell_type": "code",
   "execution_count": 31,
   "metadata": {
    "ExecuteTime": {
     "end_time": "2020-05-30T14:20:52.282525Z",
     "start_time": "2020-05-30T14:20:52.042542Z"
    }
   },
   "outputs": [
    {
     "name": "stdout",
     "output_type": "stream",
     "text": [
      "(18249, 13)\n"
     ]
    },
    {
     "data": {
      "text/html": [
       "<div>\n",
       "<style scoped>\n",
       "    .dataframe tbody tr th:only-of-type {\n",
       "        vertical-align: middle;\n",
       "    }\n",
       "\n",
       "    .dataframe tbody tr th {\n",
       "        vertical-align: top;\n",
       "    }\n",
       "\n",
       "    .dataframe thead th {\n",
       "        text-align: right;\n",
       "    }\n",
       "</style>\n",
       "<table border=\"1\" class=\"dataframe\">\n",
       "  <thead>\n",
       "    <tr style=\"text-align: right;\">\n",
       "      <th></th>\n",
       "      <th>Date</th>\n",
       "      <th>AveragePrice</th>\n",
       "      <th>Total Volume</th>\n",
       "      <th>4046</th>\n",
       "      <th>4225</th>\n",
       "      <th>4770</th>\n",
       "      <th>Total Bags</th>\n",
       "      <th>Small Bags</th>\n",
       "      <th>Large Bags</th>\n",
       "      <th>XLarge Bags</th>\n",
       "      <th>type</th>\n",
       "      <th>year</th>\n",
       "      <th>region</th>\n",
       "    </tr>\n",
       "  </thead>\n",
       "  <tbody>\n",
       "    <tr>\n",
       "      <th>0</th>\n",
       "      <td>2015-12-27</td>\n",
       "      <td>1.33</td>\n",
       "      <td>64236.62</td>\n",
       "      <td>1036.74</td>\n",
       "      <td>54454.85</td>\n",
       "      <td>48.16</td>\n",
       "      <td>8696.87</td>\n",
       "      <td>8603.62</td>\n",
       "      <td>93.25</td>\n",
       "      <td>0.0</td>\n",
       "      <td>conventional</td>\n",
       "      <td>2015</td>\n",
       "      <td>Albany</td>\n",
       "    </tr>\n",
       "    <tr>\n",
       "      <th>1</th>\n",
       "      <td>2015-12-20</td>\n",
       "      <td>1.35</td>\n",
       "      <td>54876.98</td>\n",
       "      <td>674.28</td>\n",
       "      <td>44638.81</td>\n",
       "      <td>58.33</td>\n",
       "      <td>9505.56</td>\n",
       "      <td>9408.07</td>\n",
       "      <td>97.49</td>\n",
       "      <td>0.0</td>\n",
       "      <td>conventional</td>\n",
       "      <td>2015</td>\n",
       "      <td>Albany</td>\n",
       "    </tr>\n",
       "    <tr>\n",
       "      <th>2</th>\n",
       "      <td>2015-12-13</td>\n",
       "      <td>0.93</td>\n",
       "      <td>118220.22</td>\n",
       "      <td>794.70</td>\n",
       "      <td>109149.67</td>\n",
       "      <td>130.50</td>\n",
       "      <td>8145.35</td>\n",
       "      <td>8042.21</td>\n",
       "      <td>103.14</td>\n",
       "      <td>0.0</td>\n",
       "      <td>conventional</td>\n",
       "      <td>2015</td>\n",
       "      <td>Albany</td>\n",
       "    </tr>\n",
       "    <tr>\n",
       "      <th>3</th>\n",
       "      <td>2015-12-06</td>\n",
       "      <td>1.08</td>\n",
       "      <td>78992.15</td>\n",
       "      <td>1132.00</td>\n",
       "      <td>71976.41</td>\n",
       "      <td>72.58</td>\n",
       "      <td>5811.16</td>\n",
       "      <td>5677.40</td>\n",
       "      <td>133.76</td>\n",
       "      <td>0.0</td>\n",
       "      <td>conventional</td>\n",
       "      <td>2015</td>\n",
       "      <td>Albany</td>\n",
       "    </tr>\n",
       "    <tr>\n",
       "      <th>4</th>\n",
       "      <td>2015-11-29</td>\n",
       "      <td>1.28</td>\n",
       "      <td>51039.60</td>\n",
       "      <td>941.48</td>\n",
       "      <td>43838.39</td>\n",
       "      <td>75.78</td>\n",
       "      <td>6183.95</td>\n",
       "      <td>5986.26</td>\n",
       "      <td>197.69</td>\n",
       "      <td>0.0</td>\n",
       "      <td>conventional</td>\n",
       "      <td>2015</td>\n",
       "      <td>Albany</td>\n",
       "    </tr>\n",
       "  </tbody>\n",
       "</table>\n",
       "</div>"
      ],
      "text/plain": [
       "         Date  AveragePrice  Total Volume     4046       4225    4770  Total Bags  Small Bags  Large Bags  XLarge Bags          type  year  region\n",
       "0  2015-12-27          1.33      64236.62  1036.74   54454.85   48.16     8696.87     8603.62       93.25          0.0  conventional  2015  Albany\n",
       "1  2015-12-20          1.35      54876.98   674.28   44638.81   58.33     9505.56     9408.07       97.49          0.0  conventional  2015  Albany\n",
       "2  2015-12-13          0.93     118220.22   794.70  109149.67  130.50     8145.35     8042.21      103.14          0.0  conventional  2015  Albany\n",
       "3  2015-12-06          1.08      78992.15  1132.00   71976.41   72.58     5811.16     5677.40      133.76          0.0  conventional  2015  Albany\n",
       "4  2015-11-29          1.28      51039.60   941.48   43838.39   75.78     6183.95     5986.26      197.69          0.0  conventional  2015  Albany"
      ]
     },
     "execution_count": 31,
     "metadata": {},
     "output_type": "execute_result"
    }
   ],
   "source": [
    "df = pd.read_csv(r'D:\\03-Training\\03-SelfLearning\\16-Forecasting\\MEDIUM_NoteBook-master\\Extreme_Event_Forecasting\\avocado.csv',index_col=0)\n",
    "print(df.shape)\n",
    "df.head()"
   ]
  },
  {
   "cell_type": "code",
   "execution_count": 34,
   "metadata": {
    "ExecuteTime": {
     "end_time": "2020-05-30T14:22:17.128245Z",
     "start_time": "2020-05-30T14:22:17.117810Z"
    }
   },
   "outputs": [
    {
     "data": {
      "text/plain": [
       "array(['Albany', 'Atlanta', 'BaltimoreWashington', 'Boise', 'Boston',\n",
       "       'BuffaloRochester', 'California', 'Charlotte', 'Chicago',\n",
       "       'CincinnatiDayton', 'Columbus', 'DallasFtWorth', 'Denver',\n",
       "       'Detroit', 'GrandRapids', 'GreatLakes', 'HarrisburgScranton',\n",
       "       'HartfordSpringfield', 'Houston', 'Indianapolis', 'Jacksonville',\n",
       "       'LasVegas', 'LosAngeles', 'Louisville', 'MiamiFtLauderdale',\n",
       "       'Midsouth', 'Nashville', 'NewOrleansMobile', 'NewYork',\n",
       "       'Northeast', 'NorthernNewEngland', 'Orlando', 'Philadelphia',\n",
       "       'PhoenixTucson', 'Pittsburgh', 'Plains', 'Portland',\n",
       "       'RaleighGreensboro', 'RichmondNorfolk', 'Roanoke', 'Sacramento',\n",
       "       'SanDiego', 'SanFrancisco', 'Seattle', 'SouthCarolina',\n",
       "       'SouthCentral', 'Southeast', 'Spokane', 'StLouis', 'Syracuse',\n",
       "       'Tampa', 'TotalUS', 'West', 'WestTexNewMexico'], dtype=object)"
      ]
     },
     "execution_count": 34,
     "metadata": {},
     "output_type": "execute_result"
    }
   ],
   "source": [
    "df['region'].unique()"
   ]
  },
  {
   "cell_type": "code",
   "execution_count": 40,
   "metadata": {
    "ExecuteTime": {
     "end_time": "2020-05-30T14:24:05.015179Z",
     "start_time": "2020-05-30T14:24:05.004296Z"
    }
   },
   "outputs": [],
   "source": [
    "def plot_seris(county, typ):\n",
    "    \n",
    "    plt.figure(figsize=(9,6))\n",
    "    reg_train = df[(df['type']==typ)&(df['year']!=2018)].groupby('region')\n",
    "    p_train = reg_train.get_group(county)[['Date', 'AveragePrice']].reset_index(drop=True)\n",
    "    plt.plot(range(0,len(p_train)), p_train['AveragePrice'].values)\n",
    "    \n",
    "    reg_test = df[(df['type']==typ)&(df['year']==2018)].groupby('region')\n",
    "    p_test = reg_test.get_group(county)[['Date', 'AveragePrice']].reset_index(drop=True)\n",
    "    plt.plot(range(len(p_train),len(p_train)+len(p_test)),p_test['AveragePrice'].values)\n",
    "    plt.title('AveragePrice'+' '+typ.upper()+' '+county)\n",
    "    plt.show()"
   ]
  },
  {
   "cell_type": "code",
   "execution_count": 41,
   "metadata": {
    "ExecuteTime": {
     "end_time": "2020-05-30T14:24:05.382501Z",
     "start_time": "2020-05-30T14:24:05.207222Z"
    }
   },
   "outputs": [
    {
     "data": {
      "image/png": "[encoded data removed]",
      "text/plain": [
       "<Figure size 648x432 with 1 Axes>"
      ]
     },
     "metadata": {
      "needs_background": "light"
     },
     "output_type": "display_data"
    }
   ],
   "source": [
    "plot_seris('Albany','conventional')"
   ]
  },
  {
   "cell_type": "markdown",
   "metadata": {},
   "source": [
    "# Prepare dataset for modelling"
   ]
  },
  {
   "cell_type": "code",
   "execution_count": 72,
   "metadata": {
    "ExecuteTime": {
     "end_time": "2020-05-30T14:40:50.451759Z",
     "start_time": "2020-05-30T14:40:50.443783Z"
    }
   },
   "outputs": [],
   "source": [
    "sequence_length = 4\n",
    "\n",
    "def gen_sequence(id_df, seq_length, seq_cols):\n",
    "    data_matrix = id_df[seq_cols].values\n",
    "    num_elements = data_matrix.shape[0]\n",
    "    for start, stop in zip(range(0, num_elements-seq_length), range(seq_length, num_elements)):\n",
    "        yield data_matrix[start:stop, :]\n",
    "\n",
    "def gen_labels(id_df, seq_length, label):\n",
    "    data_matrix = id_df[label].values\n",
    "    num_elements = data_matrix.shape[0]\n",
    "\n",
    "    return data_matrix[seq_length:num_elements, :]"
   ]
  },
  {
   "cell_type": "code",
   "execution_count": 73,
   "metadata": {
    "ExecuteTime": {
     "end_time": "2020-05-30T14:40:53.203508Z",
     "start_time": "2020-05-30T14:40:50.864111Z"
    }
   },
   "outputs": [],
   "source": [
    "X_train_c, X_train_o = [], []\n",
    "X_test_c, X_test_o = [], []\n",
    "X_other_train_c, X_other_train_o = [], []\n",
    "X_other_test_c, X_other_test_o = [], []\n",
    "\n",
    "for county in df[\"region\"].unique(): \n",
    "    for sequence in gen_sequence(df[(df[\"region\"]==county)&(df[\"type\"]==\"conventional\")&(df[\"year\"]!=2018)], \n",
    "                                 sequence_length, ['AveragePrice']):\n",
    "        X_train_c.append(sequence) if county != 'Albany' else X_other_train_c.append(sequence)\n",
    "        \n",
    "    for sequence in gen_sequence(df[(df[\"region\"]==county)&(df[\"type\"]==\"organic\")&(df[\"year\"]!=2018)], \n",
    "                                 sequence_length, ['AveragePrice']):\n",
    "        X_train_o.append(sequence) if county != 'Albany' else X_other_train_o.append(sequence)\n",
    "        \n",
    "    for sequence in gen_sequence(df[(df[\"region\"]==county)&(df[\"type\"]==\"conventional\")&(df[\"year\"]==2018)], \n",
    "                                 sequence_length, ['AveragePrice']):\n",
    "        X_test_c.append(sequence) if county != 'Albany' else X_other_test_c.append(sequence)\n",
    "        \n",
    "    for sequence in gen_sequence(df[(df[\"region\"]==county)&(df[\"type\"]==\"organic\")&(df[\"year\"]==2018)], \n",
    "                                 sequence_length, ['AveragePrice']):\n",
    "        X_test_o.append(sequence) if county != 'Albany' else X_other_test_o.append(sequence)\n",
    "        \n",
    "y_train_c, y_train_o = [], []\n",
    "y_test_c, y_test_o = [], []\n",
    "y_other_train_c, y_other_train_o = [], []\n",
    "y_other_test_c, y_other_test_o = [], []\n",
    "\n",
    "for county in df[\"region\"].unique():\n",
    "    \n",
    "    for sequence in gen_labels(df[(df[\"region\"]==county)&(df[\"type\"]==\"conventional\")&(df[\"year\"]!=2018)], \n",
    "                               sequence_length, ['AveragePrice']):\n",
    "        y_train_c.append(sequence) if county != 'Albany' else y_other_train_c.append(sequence)\n",
    "        \n",
    "    for sequence in gen_labels(df[(df[\"region\"]==county)&(df[\"type\"]==\"organic\")&(df[\"year\"]!=2018)], \n",
    "                               sequence_length, ['AveragePrice']):\n",
    "        y_train_o.append(sequence) if county != 'Albany' else y_other_train_o.append(sequence)\n",
    "        \n",
    "    for sequence in gen_labels(df[(df[\"region\"]==county)&(df[\"type\"]==\"conventional\")&(df[\"year\"]==2018)],\n",
    "                               sequence_length, ['AveragePrice']):\n",
    "        y_test_c.append(sequence) if county != 'Albany' else y_other_test_c.append(sequence)\n",
    "        \n",
    "    for sequence in gen_labels(df[(df[\"region\"]==county)&(df[\"type\"]==\"organic\")&(df[\"year\"]==2018)],\n",
    "                               sequence_length, ['AveragePrice']):\n",
    "        y_test_o.append(sequence) if county != 'Albany' else y_other_test_o.append(sequence)\n",
    "\n",
    "y_train_c, y_train_o = np.asarray(y_train_c), np.asarray(y_train_o)\n",
    "y_test_c, y_test_o = np.asarray(y_test_c), np.asarray(y_test_o)\n",
    "y_other_train_c, y_other_train_o = np.asarray(y_other_train_c), np.asarray(y_other_train_o)\n",
    "y_other_test_c, y_other_test_o = np.asarray(y_other_test_c), np.asarray(y_other_test_o)"
   ]
  },
  {
   "cell_type": "code",
   "execution_count": 74,
   "metadata": {
    "ExecuteTime": {
     "end_time": "2020-05-30T14:41:28.865297Z",
     "start_time": "2020-05-30T14:41:28.850061Z"
    }
   },
   "outputs": [
    {
     "name": "stdout",
     "output_type": "stream",
     "text": [
      "(17063, 4, 1) (17063, 1)\n"
     ]
    }
   ],
   "source": [
    "X = np.concatenate([X_train_c,X_train_o,X_test_c,X_test_o],axis=0)\n",
    "y = np.concatenate([y_train_c,y_train_o,y_test_c,y_test_o],axis=0)\n",
    "\n",
    "print(X.shape,y.shape)"
   ]
  },
  {
   "cell_type": "code",
   "execution_count": 75,
   "metadata": {
    "ExecuteTime": {
     "end_time": "2020-05-30T14:42:19.296907Z",
     "start_time": "2020-05-30T14:42:18.047819Z"
    }
   },
   "outputs": [],
   "source": [
    "col = ['Total Volume', '4046', '4225', '4770', 'Total Bags', 'Small Bags', 'Large Bags', 'XLarge Bags']\n",
    " \n",
    "f_train_c, f_train_o = [], []\n",
    "f_test_c, f_test_o = [], []\n",
    "f_other_train_c, f_other_train_o = [], []\n",
    "f_other_test_c, f_other_test_o = [], []\n",
    "\n",
    "for county in df[\"region\"].unique():\n",
    "    for sequence in gen_sequence(df[(df[\"region\"]==county)&(df[\"type\"]==\"conventional\")&(df[\"year\"]!=2018)], \n",
    "                                 sequence_length, col):\n",
    "        f_train_c.append(sequence) if county != 'Albany' else f_other_train_c.append(sequence)\n",
    "        \n",
    "    for sequence in gen_sequence(df[(df[\"region\"]==county)&(df[\"type\"]==\"organic\")&(df[\"year\"]!=2018)], \n",
    "                                 sequence_length, col):\n",
    "        f_train_o.append(sequence) if county != 'Albany' else f_other_train_o.append(sequence)\n",
    "        \n",
    "    for sequence in gen_sequence(df[(df[\"region\"]==county)&(df[\"type\"]==\"conventional\")&(df[\"year\"]==2018)],\n",
    "                                 sequence_length, col):\n",
    "        f_test_c.append(sequence) if county != 'Albany' else f_other_test_c.append(sequence)\n",
    "        \n",
    "    for sequence in gen_sequence(df[(df[\"region\"]==county)&(df[\"type\"]==\"organic\")&(df[\"year\"]==2018)],\n",
    "                                 sequence_length, col):\n",
    "        f_test_o.append(sequence) if county != 'Albany' else f_other_test_o.append(sequence)\n",
    "    \n",
    "f_train_c, f_train_o = np.asarray(f_train_c), np.asarray(f_train_o)\n",
    "f_test_c, f_test_o = np.asarray(f_test_c), np.asarray(f_test_o)\n",
    "f_other_train_c, f_other_train_o = np.asarray(f_other_train_c), np.asarray(f_other_train_o)\n",
    "f_other_test_c, f_other_test_o = np.asarray(f_other_test_c), np.asarray(f_other_test_o)"
   ]
  },
  {
   "cell_type": "code",
   "execution_count": 76,
   "metadata": {
    "ExecuteTime": {
     "end_time": "2020-05-30T14:42:29.072785Z",
     "start_time": "2020-05-30T14:42:29.060777Z"
    }
   },
   "outputs": [
    {
     "name": "stdout",
     "output_type": "stream",
     "text": [
      "(17063, 4, 8)\n"
     ]
    }
   ],
   "source": [
    "F = np.concatenate([f_train_c,f_train_o,f_test_c,f_test_o],axis=0)\n",
    "\n",
    "print(F.shape)"
   ]
  },
  {
   "cell_type": "markdown",
   "metadata": {},
   "source": [
    "## Forecast + Autoencoder"
   ]
  },
  {
   "cell_type": "code",
   "execution_count": 77,
   "metadata": {
    "ExecuteTime": {
     "end_time": "2020-05-30T14:46:19.233068Z",
     "start_time": "2020-05-30T14:43:42.225742Z"
    }
   },
   "outputs": [
    {
     "name": "stdout",
     "output_type": "stream",
     "text": [
      "Epoch 1/100\n",
      "127/127 - 3s - loss: 0.5281 - mse: 0.5281\n",
      "Epoch 2/100\n",
      "127/127 - 3s - loss: 0.1467 - mse: 0.1467\n",
      "Epoch 3/100\n",
      "127/127 - 3s - loss: 0.1096 - mse: 0.1096\n",
      "Epoch 4/100\n",
      "127/127 - 2s - loss: 0.0744 - mse: 0.0744\n",
      "Epoch 5/100\n",
      "127/127 - 1s - loss: 0.0556 - mse: 0.0556\n",
      "Epoch 6/100\n",
      "127/127 - 1s - loss: 0.0457 - mse: 0.0457\n",
      "Epoch 7/100\n",
      "127/127 - 2s - loss: 0.0412 - mse: 0.0412\n",
      "Epoch 8/100\n",
      "127/127 - 1s - loss: 0.0384 - mse: 0.0384\n",
      "Epoch 9/100\n",
      "127/127 - 1s - loss: 0.0363 - mse: 0.0363\n",
      "Epoch 10/100\n",
      "127/127 - 1s - loss: 0.0335 - mse: 0.0335\n",
      "Epoch 11/100\n",
      "127/127 - 1s - loss: 0.0322 - mse: 0.0322\n",
      "Epoch 12/100\n",
      "127/127 - 2s - loss: 0.0319 - mse: 0.0319\n",
      "Epoch 13/100\n",
      "127/127 - 2s - loss: 0.0297 - mse: 0.0297\n",
      "Epoch 14/100\n",
      "127/127 - 1s - loss: 0.0302 - mse: 0.0302\n",
      "Epoch 15/100\n",
      "127/127 - 1s - loss: 0.0293 - mse: 0.0293\n",
      "Epoch 16/100\n",
      "127/127 - 1s - loss: 0.0292 - mse: 0.0292\n",
      "Epoch 17/100\n",
      "127/127 - 1s - loss: 0.0290 - mse: 0.0290\n",
      "Epoch 18/100\n",
      "127/127 - 1s - loss: 0.0272 - mse: 0.0272\n",
      "Epoch 19/100\n",
      "127/127 - 1s - loss: 0.0282 - mse: 0.0282\n",
      "Epoch 20/100\n",
      "127/127 - 1s - loss: 0.0273 - mse: 0.0273\n",
      "Epoch 21/100\n",
      "127/127 - 1s - loss: 0.0277 - mse: 0.0277\n",
      "Epoch 22/100\n",
      "127/127 - 1s - loss: 0.0275 - mse: 0.0275\n",
      "Epoch 23/100\n",
      "127/127 - 1s - loss: 0.0272 - mse: 0.0272\n",
      "Epoch 24/100\n",
      "127/127 - 1s - loss: 0.0273 - mse: 0.0273\n",
      "Epoch 25/100\n",
      "127/127 - 1s - loss: 0.0280 - mse: 0.0280\n",
      "Epoch 26/100\n",
      "127/127 - 1s - loss: 0.0266 - mse: 0.0266\n",
      "Epoch 27/100\n",
      "127/127 - 1s - loss: 0.0255 - mse: 0.0255\n",
      "Epoch 28/100\n",
      "127/127 - 1s - loss: 0.0273 - mse: 0.0273\n",
      "Epoch 29/100\n",
      "127/127 - 1s - loss: 0.0267 - mse: 0.0267\n",
      "Epoch 30/100\n",
      "127/127 - 1s - loss: 0.0263 - mse: 0.0263\n",
      "Epoch 31/100\n",
      "127/127 - 1s - loss: 0.0268 - mse: 0.0268\n",
      "Epoch 32/100\n",
      "127/127 - 1s - loss: 0.0264 - mse: 0.0264\n",
      "Epoch 33/100\n",
      "127/127 - 1s - loss: 0.0264 - mse: 0.0264\n",
      "Epoch 34/100\n",
      "127/127 - 2s - loss: 0.0257 - mse: 0.0257\n",
      "Epoch 35/100\n",
      "127/127 - 1s - loss: 0.0255 - mse: 0.0255\n",
      "Epoch 36/100\n",
      "127/127 - 1s - loss: 0.0257 - mse: 0.0257\n",
      "Epoch 37/100\n",
      "127/127 - 1s - loss: 0.0241 - mse: 0.0241\n",
      "Epoch 38/100\n",
      "127/127 - 1s - loss: 0.0250 - mse: 0.0250\n",
      "Epoch 39/100\n",
      "127/127 - 2s - loss: 0.0254 - mse: 0.0254\n",
      "Epoch 40/100\n",
      "127/127 - 2s - loss: 0.0252 - mse: 0.0252\n",
      "Epoch 41/100\n",
      "127/127 - 2s - loss: 0.0256 - mse: 0.0256\n",
      "Epoch 42/100\n",
      "127/127 - 1s - loss: 0.0251 - mse: 0.0251\n",
      "Epoch 43/100\n",
      "127/127 - 1s - loss: 0.0251 - mse: 0.0251\n",
      "Epoch 44/100\n",
      "127/127 - 2s - loss: 0.0256 - mse: 0.0256\n",
      "Epoch 45/100\n",
      "127/127 - 1s - loss: 0.0254 - mse: 0.0254\n",
      "Epoch 46/100\n",
      "127/127 - 1s - loss: 0.0250 - mse: 0.0250\n",
      "Epoch 47/100\n",
      "127/127 - 1s - loss: 0.0249 - mse: 0.0249\n",
      "Epoch 48/100\n",
      "127/127 - 1s - loss: 0.0262 - mse: 0.0262\n",
      "Epoch 49/100\n",
      "127/127 - 1s - loss: 0.0249 - mse: 0.0249\n",
      "Epoch 50/100\n",
      "127/127 - 1s - loss: 0.0252 - mse: 0.0252\n",
      "Epoch 51/100\n",
      "127/127 - 1s - loss: 0.0248 - mse: 0.0248\n",
      "Epoch 52/100\n",
      "127/127 - 1s - loss: 0.0250 - mse: 0.0250\n",
      "Epoch 53/100\n",
      "127/127 - 1s - loss: 0.0244 - mse: 0.0244\n",
      "Epoch 54/100\n",
      "127/127 - 1s - loss: 0.0249 - mse: 0.0249\n",
      "Epoch 55/100\n",
      "127/127 - 1s - loss: 0.0247 - mse: 0.0247\n",
      "Epoch 56/100\n",
      "127/127 - 1s - loss: 0.0259 - mse: 0.0259\n",
      "Epoch 57/100\n",
      "127/127 - 1s - loss: 0.0245 - mse: 0.0245\n",
      "Epoch 58/100\n",
      "127/127 - 1s - loss: 0.0253 - mse: 0.0253\n",
      "Epoch 59/100\n",
      "127/127 - 1s - loss: 0.0257 - mse: 0.0257\n",
      "Epoch 60/100\n",
      "127/127 - 1s - loss: 0.0252 - mse: 0.0252\n",
      "Epoch 61/100\n",
      "127/127 - 1s - loss: 0.0251 - mse: 0.0251\n",
      "Epoch 62/100\n",
      "127/127 - 1s - loss: 0.0240 - mse: 0.0240\n",
      "Epoch 63/100\n",
      "127/127 - 1s - loss: 0.0249 - mse: 0.0249\n",
      "Epoch 64/100\n",
      "127/127 - 1s - loss: 0.0243 - mse: 0.0243\n",
      "Epoch 65/100\n",
      "127/127 - 1s - loss: 0.0246 - mse: 0.0246\n",
      "Epoch 66/100\n",
      "127/127 - 1s - loss: 0.0244 - mse: 0.0244\n",
      "Epoch 67/100\n",
      "127/127 - 1s - loss: 0.0242 - mse: 0.0242\n",
      "Epoch 68/100\n",
      "127/127 - 1s - loss: 0.0246 - mse: 0.0246\n",
      "Epoch 69/100\n",
      "127/127 - 1s - loss: 0.0240 - mse: 0.0240\n",
      "Epoch 70/100\n",
      "127/127 - 1s - loss: 0.0247 - mse: 0.0247\n",
      "Epoch 71/100\n",
      "127/127 - 1s - loss: 0.0251 - mse: 0.0251\n",
      "Epoch 72/100\n",
      "127/127 - 1s - loss: 0.0248 - mse: 0.0248\n",
      "Epoch 73/100\n",
      "127/127 - 1s - loss: 0.0245 - mse: 0.0245\n",
      "Epoch 74/100\n",
      "127/127 - 1s - loss: 0.0248 - mse: 0.0248\n",
      "Epoch 75/100\n",
      "127/127 - 1s - loss: 0.0239 - mse: 0.0239\n",
      "Epoch 76/100\n",
      "127/127 - 1s - loss: 0.0256 - mse: 0.0256\n",
      "Epoch 77/100\n",
      "127/127 - 1s - loss: 0.0248 - mse: 0.0248\n",
      "Epoch 78/100\n",
      "127/127 - 1s - loss: 0.0242 - mse: 0.0242\n",
      "Epoch 79/100\n",
      "127/127 - 1s - loss: 0.0246 - mse: 0.0246\n",
      "Epoch 80/100\n",
      "127/127 - 1s - loss: 0.0246 - mse: 0.0246\n",
      "Epoch 81/100\n",
      "127/127 - 1s - loss: 0.0248 - mse: 0.0248\n",
      "Epoch 82/100\n",
      "127/127 - 1s - loss: 0.0246 - mse: 0.0246\n",
      "Epoch 83/100\n",
      "127/127 - 1s - loss: 0.0246 - mse: 0.0246\n",
      "Epoch 84/100\n",
      "127/127 - 1s - loss: 0.0249 - mse: 0.0249\n",
      "Epoch 85/100\n",
      "127/127 - 1s - loss: 0.0245 - mse: 0.0245\n",
      "Epoch 86/100\n",
      "127/127 - 1s - loss: 0.0254 - mse: 0.0254\n",
      "Epoch 87/100\n",
      "127/127 - 1s - loss: 0.0241 - mse: 0.0241\n",
      "Epoch 88/100\n",
      "127/127 - 1s - loss: 0.0253 - mse: 0.0253\n",
      "Epoch 89/100\n",
      "127/127 - 1s - loss: 0.0251 - mse: 0.0251\n",
      "Epoch 90/100\n",
      "127/127 - 1s - loss: 0.0243 - mse: 0.0243\n",
      "Epoch 91/100\n",
      "127/127 - 1s - loss: 0.0244 - mse: 0.0244\n",
      "Epoch 92/100\n",
      "127/127 - 1s - loss: 0.0243 - mse: 0.0243\n",
      "Epoch 93/100\n",
      "127/127 - 1s - loss: 0.0248 - mse: 0.0248\n",
      "Epoch 94/100\n",
      "127/127 - 1s - loss: 0.0250 - mse: 0.0250\n",
      "Epoch 95/100\n",
      "127/127 - 1s - loss: 0.0242 - mse: 0.0242\n",
      "Epoch 96/100\n",
      "127/127 - 2s - loss: 0.0249 - mse: 0.0249\n",
      "Epoch 97/100\n",
      "127/127 - 2s - loss: 0.0256 - mse: 0.0256\n",
      "Epoch 98/100\n",
      "127/127 - 2s - loss: 0.0245 - mse: 0.0245\n",
      "Epoch 99/100\n",
      "127/127 - 2s - loss: 0.0238 - mse: 0.0238\n",
      "Epoch 100/100\n",
      "127/127 - 1s - loss: 0.0245 - mse: 0.0245\n"
     ]
    },
    {
     "data": {
      "text/plain": [
       "<tensorflow.python.keras.callbacks.History at 0x22da25dfa08>"
      ]
     },
     "execution_count": 77,
     "metadata": {},
     "output_type": "execute_result"
    }
   ],
   "source": [
    "tf.random.set_seed(33)\n",
    "os.environ['PYTHONHASHSEED'] = str(33)\n",
    "np.random.seed(33)\n",
    "random.seed(33)\n",
    "\n",
    "session_conf = tf.compat.v1.ConfigProto(\n",
    "    intra_op_parallelism_threads=1, \n",
    "    inter_op_parallelism_threads=1\n",
    ")\n",
    "sess = tf.compat.v1.Session(\n",
    "    graph=tf.compat.v1.get_default_graph(), \n",
    "    config=session_conf\n",
    ")\n",
    "tf.compat.v1.keras.backend.set_session(sess)\n",
    "\n",
    "\n",
    "\n",
    "### DEFINE LSTM AUTOENCODER ###\n",
    "inputs_ae = Input(shape=(sequence_length, 1))\n",
    "encoded_ae = LSTM(128, return_sequences=True, dropout=0.3)(inputs_ae, training=True)\n",
    "decoded_ae = LSTM(32, return_sequences=True, dropout=0.3)(encoded_ae, training=True)\n",
    "out_ae = TimeDistributed(Dense(1))(decoded_ae)\n",
    "\n",
    "sequence_autoencoder = Model(inputs_ae, out_ae)\n",
    "sequence_autoencoder.compile(optimizer='adam', loss='mse', metrics=['mse'])\n",
    "\n",
    "### TRAIN AUTOENCODER ###\n",
    "sequence_autoencoder.fit(X[:len(X_train_c)+len(X_train_o)], X[:len(X_train_c)+len(X_train_o)], \n",
    "                         batch_size=128, epochs=100, verbose=2, shuffle=True)"
   ]
  },
  {
   "cell_type": "code",
   "execution_count": 78,
   "metadata": {
    "ExecuteTime": {
     "end_time": "2020-05-30T14:46:47.778459Z",
     "start_time": "2020-05-30T14:46:46.448458Z"
    }
   },
   "outputs": [
    {
     "data": {
      "text/plain": [
       "(17063, 4, 136)"
      ]
     },
     "execution_count": 78,
     "metadata": {},
     "output_type": "execute_result"
    }
   ],
   "source": [
    "encoder = Model(inputs_ae, encoded_ae)\n",
    "XX = encoder.predict(X)\n",
    "XXF = np.concatenate([XX, F], axis=2)\n",
    "XXF.shape"
   ]
  },
  {
   "cell_type": "code",
   "execution_count": 80,
   "metadata": {
    "ExecuteTime": {
     "end_time": "2020-05-30T14:47:01.763907Z",
     "start_time": "2020-05-30T14:47:01.758919Z"
    }
   },
   "outputs": [],
   "source": [
    "X_train1, X_test1 = XXF[:len(X_train_c)+len(X_train_o)], XXF[len(X_train_c)+len(X_train_o):]\n",
    "y_train1, y_test1 = y[:len(y_train_c)+len(y_train_o)], y[len(y_train_c)+len(y_train_o):]"
   ]
  },
  {
   "cell_type": "code",
   "execution_count": 81,
   "metadata": {
    "ExecuteTime": {
     "end_time": "2020-05-30T14:47:06.766408Z",
     "start_time": "2020-05-30T14:47:06.454643Z"
    }
   },
   "outputs": [],
   "source": [
    "scaler1 = StandardScaler()\n",
    "X_train1 = scaler1.fit_transform(X_train1.reshape(-1,XXF.shape[-1])).reshape(-1,sequence_length,XXF.shape[-1])\n",
    "X_test1 = scaler1.transform(X_test1.reshape(-1,XXF.shape[-1])).reshape(-1,sequence_length,XXF.shape[-1])"
   ]
  },
  {
   "cell_type": "code",
   "execution_count": 82,
   "metadata": {
    "ExecuteTime": {
     "end_time": "2020-05-30T14:48:23.312067Z",
     "start_time": "2020-05-30T14:47:18.160371Z"
    }
   },
   "outputs": [
    {
     "name": "stdout",
     "output_type": "stream",
     "text": [
      "Epoch 1/30\n",
      "127/127 - 2s - loss: 0.1139 - mse: 0.1139\n",
      "Epoch 2/30\n",
      "127/127 - 2s - loss: 0.0365 - mse: 0.0365\n",
      "Epoch 3/30\n",
      "127/127 - 2s - loss: 0.0351 - mse: 0.0351\n",
      "Epoch 4/30\n",
      "127/127 - 2s - loss: 0.0344 - mse: 0.0344\n",
      "Epoch 5/30\n",
      "127/127 - 2s - loss: 0.0342 - mse: 0.0342\n",
      "Epoch 6/30\n",
      "127/127 - 2s - loss: 0.0338 - mse: 0.0338\n",
      "Epoch 7/30\n",
      "127/127 - 2s - loss: 0.0340 - mse: 0.0340\n",
      "Epoch 8/30\n",
      "127/127 - 2s - loss: 0.0335 - mse: 0.0335\n",
      "Epoch 9/30\n",
      "127/127 - 2s - loss: 0.0331 - mse: 0.0331\n",
      "Epoch 10/30\n",
      "127/127 - 2s - loss: 0.0333 - mse: 0.0333\n",
      "Epoch 11/30\n",
      "127/127 - 2s - loss: 0.0332 - mse: 0.0332\n",
      "Epoch 12/30\n",
      "127/127 - 2s - loss: 0.0328 - mse: 0.0328\n",
      "Epoch 13/30\n",
      "127/127 - 2s - loss: 0.0329 - mse: 0.0329\n",
      "Epoch 14/30\n",
      "127/127 - 2s - loss: 0.0325 - mse: 0.0325\n",
      "Epoch 15/30\n",
      "127/127 - 2s - loss: 0.0325 - mse: 0.0325\n",
      "Epoch 16/30\n",
      "127/127 - 2s - loss: 0.0324 - mse: 0.0324\n",
      "Epoch 17/30\n",
      "127/127 - 2s - loss: 0.0326 - mse: 0.0326\n",
      "Epoch 18/30\n",
      "127/127 - 2s - loss: 0.0326 - mse: 0.0326\n",
      "Epoch 19/30\n",
      "127/127 - 3s - loss: 0.0324 - mse: 0.0324\n",
      "Epoch 20/30\n",
      "127/127 - 2s - loss: 0.0321 - mse: 0.0321\n",
      "Epoch 21/30\n",
      "127/127 - 2s - loss: 0.0320 - mse: 0.0320\n",
      "Epoch 22/30\n",
      "127/127 - 2s - loss: 0.0321 - mse: 0.0321\n",
      "Epoch 23/30\n",
      "127/127 - 2s - loss: 0.0323 - mse: 0.0323\n",
      "Epoch 24/30\n",
      "127/127 - 2s - loss: 0.0319 - mse: 0.0319\n",
      "Epoch 25/30\n",
      "127/127 - 2s - loss: 0.0319 - mse: 0.0319\n",
      "Epoch 26/30\n",
      "127/127 - 2s - loss: 0.0316 - mse: 0.0316\n",
      "Epoch 27/30\n",
      "127/127 - 2s - loss: 0.0316 - mse: 0.0316\n",
      "Epoch 28/30\n",
      "127/127 - 2s - loss: 0.0316 - mse: 0.0316\n",
      "Epoch 29/30\n",
      "127/127 - 2s - loss: 0.0319 - mse: 0.0319\n",
      "Epoch 30/30\n",
      "127/127 - 3s - loss: 0.0316 - mse: 0.0316\n"
     ]
    }
   ],
   "source": [
    "tf.random.set_seed(33)\n",
    "os.environ['PYTHONHASHSEED'] = str(33)\n",
    "np.random.seed(33)\n",
    "random.seed(33)\n",
    "\n",
    "session_conf = tf.compat.v1.ConfigProto(\n",
    "    intra_op_parallelism_threads=1, \n",
    "    inter_op_parallelism_threads=1\n",
    ")\n",
    "sess = tf.compat.v1.Session(\n",
    "    graph=tf.compat.v1.get_default_graph(), \n",
    "    config=session_conf\n",
    ")\n",
    "tf.compat.v1.keras.backend.set_session(sess)\n",
    "\n",
    "\n",
    "\n",
    "### DEFINE FORECASTER ###\n",
    "inputs1 = Input(shape=(X_train1.shape[1], X_train1.shape[2]))\n",
    "lstm1 = LSTM(128, return_sequences=True, dropout=0.3)(inputs1, training=True)\n",
    "lstm1 = LSTM(32, return_sequences=False, dropout=0.3)(lstm1, training=True)\n",
    "dense1 = Dense(50)(lstm1)\n",
    "out1 = Dense(1)(dense1)\n",
    "\n",
    "model1 = Model(inputs1, out1)\n",
    "model1.compile(loss='mse', optimizer='adam', metrics=['mse'])\n",
    "\n",
    "### FIT FORECASTER ###\n",
    "history = model1.fit(X_train1, y_train1, epochs=30, batch_size=128, verbose=2, shuffle=True)"
   ]
  },
  {
   "cell_type": "code",
   "execution_count": 83,
   "metadata": {
    "ExecuteTime": {
     "end_time": "2020-05-30T15:50:18.490065Z",
     "start_time": "2020-05-30T15:50:18.482062Z"
    }
   },
   "outputs": [],
   "source": [
    "def stoc_drop1(R, enc, NN):\n",
    "    \n",
    "    enc_pred = np.vstack(enc([X[len(X_train_c)+len(X_train_o):], R]))\n",
    "    enc_pred = np.concatenate([enc_pred, F[len(X_train_c)+len(X_train_o):]], axis=2)\n",
    "    trans_pred = scaler1.transform(enc_pred.reshape(-1,enc_pred.shape[-1])).reshape(-1,sequence_length,enc_pred.shape[-1])\n",
    "    NN_pred = NN([trans_pred, R])\n",
    "    \n",
    "    return np.vstack(NN_pred)"
   ]
  },
  {
   "cell_type": "code",
   "execution_count": 84,
   "metadata": {
    "ExecuteTime": {
     "end_time": "2020-05-30T15:50:32.280066Z",
     "start_time": "2020-05-30T15:50:25.603044Z"
    }
   },
   "outputs": [
    {
     "name": "stderr",
     "output_type": "stream",
     "text": [
      "100%|███████████████████████████████████████████████████████████████████████████████████████████████████████████████████████████████████████████████████████████████████████████| 100/100 [00:06<00:00, 15.13it/s]"
     ]
    },
    {
     "name": "stdout",
     "output_type": "stream",
     "text": [
      "0.12228441143108988 0.0017645477640543367\n"
     ]
    },
    {
     "name": "stderr",
     "output_type": "stream",
     "text": [
      "\n"
     ]
    }
   ],
   "source": [
    "scores1 = []\n",
    "enc = K.function([encoder.layers[0].input], [encoder.layers[-1].output])\n",
    "NN = K.function([model1.layers[0].input], [model1.layers[-1].output])\n",
    "\n",
    "for i in tqdm.tqdm(range(0,100)):\n",
    "    scores1.append(mean_absolute_error(y_test1, stoc_drop1(0.5, enc, NN)))\n",
    "\n",
    "print(np.mean(scores1), np.std(scores1))"
   ]
  },
  {
   "cell_type": "markdown",
   "metadata": {},
   "source": [
    "## Simple forecast"
   ]
  },
  {
   "cell_type": "code",
   "execution_count": 85,
   "metadata": {
    "ExecuteTime": {
     "end_time": "2020-05-30T15:50:50.499418Z",
     "start_time": "2020-05-30T15:50:50.490934Z"
    }
   },
   "outputs": [
    {
     "name": "stdout",
     "output_type": "stream",
     "text": [
      "(17063, 4, 9)\n"
     ]
    }
   ],
   "source": [
    "XF = np.concatenate([X, F], axis=2)\n",
    "print(XF.shape)"
   ]
  },
  {
   "cell_type": "code",
   "execution_count": 86,
   "metadata": {
    "ExecuteTime": {
     "end_time": "2020-05-30T15:50:54.094358Z",
     "start_time": "2020-05-30T15:50:54.089822Z"
    }
   },
   "outputs": [],
   "source": [
    "X_train2, X_test2 = XF[:len(X_train_c)+len(X_train_o)], XF[len(X_train_c)+len(X_train_o):]\n",
    "y_train2, y_test2 = y[:len(y_train_c)+len(y_train_o)], y[len(y_train_c)+len(y_train_o):]"
   ]
  },
  {
   "cell_type": "code",
   "execution_count": 87,
   "metadata": {
    "ExecuteTime": {
     "end_time": "2020-05-30T15:50:57.594607Z",
     "start_time": "2020-05-30T15:50:57.569637Z"
    }
   },
   "outputs": [],
   "source": [
    "scaler2 = StandardScaler()\n",
    "X_train2 = scaler2.fit_transform(X_train2.reshape(-1,X_train2.shape[-1])).reshape(-1,sequence_length,X_train2.shape[-1])\n",
    "X_test2 = scaler2.transform(X_test2.reshape(-1,X_train2.shape[-1])).reshape(-1,sequence_length,X_train2.shape[-1])"
   ]
  },
  {
   "cell_type": "code",
   "execution_count": 88,
   "metadata": {
    "ExecuteTime": {
     "end_time": "2020-05-30T15:51:39.995067Z",
     "start_time": "2020-05-30T15:51:03.347892Z"
    }
   },
   "outputs": [
    {
     "name": "stdout",
     "output_type": "stream",
     "text": [
      "Epoch 1/30\n",
      "127/127 - 1s - loss: 0.2602 - mse: 0.2602\n",
      "Epoch 2/30\n",
      "127/127 - 1s - loss: 0.0470 - mse: 0.0470\n",
      "Epoch 3/30\n",
      "127/127 - 1s - loss: 0.0446 - mse: 0.0446\n",
      "Epoch 4/30\n",
      "127/127 - 1s - loss: 0.0436 - mse: 0.0436\n",
      "Epoch 5/30\n",
      "127/127 - 1s - loss: 0.0427 - mse: 0.0427\n",
      "Epoch 6/30\n",
      "127/127 - 1s - loss: 0.0417 - mse: 0.0417\n",
      "Epoch 7/30\n",
      "127/127 - 1s - loss: 0.0419 - mse: 0.0419\n",
      "Epoch 8/30\n",
      "127/127 - 1s - loss: 0.0410 - mse: 0.0410\n",
      "Epoch 9/30\n",
      "127/127 - 1s - loss: 0.0403 - mse: 0.0403\n",
      "Epoch 10/30\n",
      "127/127 - 1s - loss: 0.0398 - mse: 0.0398\n",
      "Epoch 11/30\n",
      "127/127 - 1s - loss: 0.0399 - mse: 0.0399\n",
      "Epoch 12/30\n",
      "127/127 - 1s - loss: 0.0385 - mse: 0.0385\n",
      "Epoch 13/30\n",
      "127/127 - 1s - loss: 0.0386 - mse: 0.0386\n",
      "Epoch 14/30\n",
      "127/127 - 1s - loss: 0.0385 - mse: 0.0385\n",
      "Epoch 15/30\n",
      "127/127 - 1s - loss: 0.0378 - mse: 0.0378\n",
      "Epoch 16/30\n",
      "127/127 - 1s - loss: 0.0387 - mse: 0.0387\n",
      "Epoch 17/30\n",
      "127/127 - 1s - loss: 0.0373 - mse: 0.0373\n",
      "Epoch 18/30\n",
      "127/127 - 1s - loss: 0.0371 - mse: 0.0371\n",
      "Epoch 19/30\n",
      "127/127 - 1s - loss: 0.0378 - mse: 0.0378\n",
      "Epoch 20/30\n",
      "127/127 - 1s - loss: 0.0369 - mse: 0.0369\n",
      "Epoch 21/30\n",
      "127/127 - 1s - loss: 0.0368 - mse: 0.0368\n",
      "Epoch 22/30\n",
      "127/127 - 1s - loss: 0.0370 - mse: 0.0370\n",
      "Epoch 23/30\n",
      "127/127 - 1s - loss: 0.0377 - mse: 0.0377\n",
      "Epoch 24/30\n",
      "127/127 - 1s - loss: 0.0367 - mse: 0.0367\n",
      "Epoch 25/30\n",
      "127/127 - 1s - loss: 0.0370 - mse: 0.0370\n",
      "Epoch 26/30\n",
      "127/127 - 1s - loss: 0.0362 - mse: 0.0362\n",
      "Epoch 27/30\n",
      "127/127 - 1s - loss: 0.0364 - mse: 0.0364\n",
      "Epoch 28/30\n",
      "127/127 - 1s - loss: 0.0365 - mse: 0.0365\n",
      "Epoch 29/30\n",
      "127/127 - 1s - loss: 0.0359 - mse: 0.0359\n",
      "Epoch 30/30\n",
      "127/127 - 1s - loss: 0.0359 - mse: 0.0359\n"
     ]
    }
   ],
   "source": [
    "tf.random.set_seed(33)\n",
    "os.environ['PYTHONHASHSEED'] = str(33)\n",
    "np.random.seed(33)\n",
    "random.seed(33)\n",
    "\n",
    "session_conf = tf.compat.v1.ConfigProto(\n",
    "    intra_op_parallelism_threads=1, \n",
    "    inter_op_parallelism_threads=1\n",
    ")\n",
    "sess = tf.compat.v1.Session(\n",
    "    graph=tf.compat.v1.get_default_graph(), \n",
    "    config=session_conf\n",
    ")\n",
    "tf.compat.v1.keras.backend.set_session(sess)\n",
    "\n",
    "\n",
    "\n",
    "### DEFINE LSTM FORECASTER ###\n",
    "inputs2 = Input(shape=(X_train2.shape[1], X_train2.shape[2]))\n",
    "lstm2 = LSTM(128, return_sequences=True, dropout=0.3)(inputs2, training=True)\n",
    "lstm2 = LSTM(32, return_sequences=False, dropout=0.3)(lstm2, training=True)\n",
    "dense2 = Dense(50)(lstm2)\n",
    "out2 = Dense(1)(dense2)\n",
    "\n",
    "model2 = Model(inputs2, out2)\n",
    "model2.compile(loss='mse', optimizer='adam', metrics=['mse'])\n",
    "\n",
    "### FIT FORECASTER ###\n",
    "history = model2.fit(X_train2, y_train2, epochs=30, batch_size=128, verbose=2, shuffle=True)"
   ]
  },
  {
   "cell_type": "code",
   "execution_count": 89,
   "metadata": {
    "ExecuteTime": {
     "end_time": "2020-05-30T15:51:40.000034Z",
     "start_time": "2020-05-30T15:51:39.996045Z"
    }
   },
   "outputs": [],
   "source": [
    "def stoc_drop2(R, NN):\n",
    "    \n",
    "    trans_pred = scaler2.transform(XF[len(X_train_c)+len(X_train_o):].reshape(-1,XF.shape[-1])).reshape(-1,sequence_length,XF.shape[-1])\n",
    "    NN_pred = NN([trans_pred,R])\n",
    "    \n",
    "    return np.vstack(NN_pred)"
   ]
  },
  {
   "cell_type": "code",
   "execution_count": 90,
   "metadata": {
    "ExecuteTime": {
     "end_time": "2020-05-30T15:54:32.694845Z",
     "start_time": "2020-05-30T15:54:29.560233Z"
    }
   },
   "outputs": [
    {
     "name": "stderr",
     "output_type": "stream",
     "text": [
      "100%|███████████████████████████████████████████████████████████████████████████████████████████████████████████████████████████████████████████████████████████████████████████| 100/100 [00:03<00:00, 32.32it/s]"
     ]
    },
    {
     "name": "stdout",
     "output_type": "stream",
     "text": [
      "0.13159476308306717 0.0021927159858375796\n"
     ]
    },
    {
     "name": "stderr",
     "output_type": "stream",
     "text": [
      "\n"
     ]
    }
   ],
   "source": [
    "scores2 = []\n",
    "NN = K.function([model2.layers[0].input], [model2.layers[-1].output])\n",
    "\n",
    "for i in tqdm.tqdm(range(0,100)):\n",
    "    scores2.append(mean_absolute_error(y_test2, stoc_drop2(0.5, NN)))\n",
    "\n",
    "print(np.mean(scores2), np.std(scores2))"
   ]
  },
  {
   "cell_type": "markdown",
   "metadata": {},
   "source": [
    "# Compared Results"
   ]
  },
  {
   "cell_type": "code",
   "execution_count": 91,
   "metadata": {
    "ExecuteTime": {
     "end_time": "2020-05-30T15:54:51.542074Z",
     "start_time": "2020-05-30T15:54:51.532402Z"
    }
   },
   "outputs": [],
   "source": [
    "def test_county(county):\n",
    "    \n",
    "    test_X_c, test_X_o = [], []\n",
    "    \n",
    "    for sequence in gen_sequence(df[(df[\"region\"]==county)&(df[\"type\"]==\"conventional\")&(df[\"year\"]==2018)], \n",
    "                                 sequence_length, ['AveragePrice']):\n",
    "        test_X_c.append(sequence)\n",
    "        \n",
    "    for sequence in gen_sequence(df[(df[\"region\"]==county)&(df[\"type\"]==\"organic\")&(df[\"year\"]==2018)], \n",
    "                                 sequence_length, ['AveragePrice']):\n",
    "        test_X_o.append(sequence)\n",
    "        \n",
    "    test_X_c, test_X_o = np.asarray(test_X_c), np.asarray(test_X_o)\n",
    "    \n",
    "    test_y_c, test_y_o = [], []\n",
    "    \n",
    "    for sequence in gen_labels(df[(df[\"region\"]==county)&(df[\"type\"]==\"conventional\")&(df[\"year\"]==2018)],\n",
    "                               sequence_length, ['AveragePrice']):\n",
    "        test_y_c.append(sequence)\n",
    "        \n",
    "    for sequence in gen_labels(df[(df[\"region\"]==county)&(df[\"type\"]==\"organic\")&(df[\"year\"]==2018)], \n",
    "                               sequence_length, ['AveragePrice']):\n",
    "        test_y_o.append(sequence)\n",
    "        \n",
    "    test_y_c, test_y_o = np.asarray(test_y_c), np.asarray(test_y_o)\n",
    "    \n",
    "    test_F_c, test_F_o = [], []\n",
    "    \n",
    "    for sequence in gen_sequence(df[(df[\"region\"]==county)&(df[\"type\"]==\"conventional\")&(df[\"year\"]==2018)], \n",
    "                                 sequence_length, col):\n",
    "        test_F_c.append(sequence)\n",
    "        \n",
    "    for sequence in gen_sequence(df[(df[\"region\"]==county)&(df[\"type\"]==\"organic\")&(df[\"year\"]==2018)],\n",
    "                                 sequence_length, col):\n",
    "        test_F_o.append(sequence)\n",
    "        \n",
    "    test_F_c, test_F_o = np.asarray(test_F_c), np.asarray(test_F_o)\n",
    "    \n",
    "    X = np.concatenate([test_X_c,test_X_o],axis=0)\n",
    "    y = np.concatenate([test_y_c,test_y_o],axis=0)\n",
    "    F = np.concatenate([test_F_c,test_F_o],axis=0)\n",
    "    \n",
    "    return X, y, F"
   ]
  },
  {
   "cell_type": "code",
   "execution_count": 92,
   "metadata": {
    "ExecuteTime": {
     "end_time": "2020-05-30T15:54:57.968683Z",
     "start_time": "2020-05-30T15:54:57.961725Z"
    }
   },
   "outputs": [],
   "source": [
    "def test_stoc_drop1(county, R, enc, NN):\n",
    "    \n",
    "    X, y, F = test_county(county)\n",
    "    \n",
    "    enc_pred = np.vstack(enc([X, R]))\n",
    "    enc_pred = np.concatenate([enc_pred, F], axis=2)\n",
    "    trans_pred = scaler1.transform(enc_pred.reshape(-1,enc_pred.shape[-1])).reshape(-1,sequence_length,enc_pred.shape[-1])\n",
    "    NN_pred = NN([trans_pred, R])\n",
    "    \n",
    "    return np.vstack(NN_pred), y\n",
    "\n",
    "\n",
    "def test_stoc_drop2(county, R, NN):\n",
    "    \n",
    "    X, y, F = test_county(county)\n",
    "    \n",
    "    XF = np.concatenate([X, F], axis=2)\n",
    "    trans_pred = scaler2.transform(XF.reshape(-1,XF.shape[-1])).reshape(-1,sequence_length,XF.shape[-1])\n",
    "    NN_pred = NN([trans_pred, R])\n",
    "    \n",
    "    return np.vstack(NN_pred), y"
   ]
  },
  {
   "cell_type": "code",
   "execution_count": 93,
   "metadata": {
    "ExecuteTime": {
     "end_time": "2020-05-30T15:55:02.932525Z",
     "start_time": "2020-05-30T15:55:02.696137Z"
    }
   },
   "outputs": [],
   "source": [
    "enc = K.function([encoder.layers[0].input], [encoder.layers[-1].output])\n",
    "NN = K.function([model1.layers[0].input], [model1.layers[-1].output])\n",
    "pred1_test, y1_test = test_stoc_drop1('TotalUS', 0.5, enc, NN)"
   ]
  },
  {
   "cell_type": "code",
   "execution_count": 94,
   "metadata": {
    "ExecuteTime": {
     "end_time": "2020-05-30T15:55:10.551869Z",
     "start_time": "2020-05-30T15:55:07.761829Z"
    }
   },
   "outputs": [
    {
     "name": "stderr",
     "output_type": "stream",
     "text": [
      "100%|███████████████████████████████████████████████████████████████████████████████████████████████████████████████████████████████████████████████████████████████████████████| 100/100 [00:02<00:00, 36.61it/s]"
     ]
    },
    {
     "name": "stdout",
     "output_type": "stream",
     "text": [
      "0.07468783167898656 0.010119802898604965\n"
     ]
    },
    {
     "name": "stderr",
     "output_type": "stream",
     "text": [
      "\n"
     ]
    }
   ],
   "source": [
    "mae1_test = []\n",
    "enc = K.function([encoder.layers[0].input], [encoder.layers[-1].output])\n",
    "NN = K.function([model1.layers[0].input], [model1.layers[-1].output])\n",
    "\n",
    "for i in tqdm.tqdm(range(0,100)):\n",
    "    mae1_test.append(mean_absolute_error(y1_test, test_stoc_drop1('TotalUS', 0.5, enc, NN)[0]))\n",
    "\n",
    "print(np.mean(mae1_test), np.std(mae1_test))"
   ]
  },
  {
   "cell_type": "code",
   "execution_count": 95,
   "metadata": {
    "ExecuteTime": {
     "end_time": "2020-05-30T15:55:13.148318Z",
     "start_time": "2020-05-30T15:55:12.978200Z"
    }
   },
   "outputs": [],
   "source": [
    "NN = K.function([model2.layers[0].input], [model2.layers[-1].output])\n",
    "pred2_test, y2_test = test_stoc_drop2('TotalUS', 0.5, NN)"
   ]
  },
  {
   "cell_type": "code",
   "execution_count": 96,
   "metadata": {
    "ExecuteTime": {
     "end_time": "2020-05-30T15:55:21.953455Z",
     "start_time": "2020-05-30T15:55:19.332102Z"
    }
   },
   "outputs": [
    {
     "name": "stderr",
     "output_type": "stream",
     "text": [
      "100%|███████████████████████████████████████████████████████████████████████████████████████████████████████████████████████████████████████████████████████████████████████████| 100/100 [00:02<00:00, 38.78it/s]"
     ]
    },
    {
     "name": "stdout",
     "output_type": "stream",
     "text": [
      "0.11173290429562327 0.017923403230460808\n"
     ]
    },
    {
     "name": "stderr",
     "output_type": "stream",
     "text": [
      "\n"
     ]
    }
   ],
   "source": [
    "mae2_test = []\n",
    "NN = K.function([model2.layers[0].input], [model2.layers[-1].output])\n",
    "\n",
    "for i in tqdm.tqdm(range(0,100)):\n",
    "    mae2_test.append(mean_absolute_error(y2_test, test_stoc_drop2('TotalUS', 0.5, NN)[0]))\n",
    "\n",
    "print(np.mean(mae2_test), np.std(mae2_test))"
   ]
  },
  {
   "cell_type": "code",
   "execution_count": 97,
   "metadata": {
    "ExecuteTime": {
     "end_time": "2020-05-30T15:55:24.514200Z",
     "start_time": "2020-05-30T15:55:24.417335Z"
    }
   },
   "outputs": [
    {
     "data": {
      "text/plain": [
       "Text(0.5, 1.0, 'TotalUS')"
      ]
     },
     "execution_count": 97,
     "metadata": {},
     "output_type": "execute_result"
    },
    {
     "data": {
      "image/png": "[encoded data removed]",
      "text/plain": [
       "<Figure size 432x288 with 1 Axes>"
      ]
     },
     "metadata": {
      "needs_background": "light"
     },
     "output_type": "display_data"
    }
   ],
   "source": [
    "bar = plt.bar([0,1], [np.mean(mae1_test), np.mean(mae2_test)], \n",
    "              yerr=[2.95*np.std(mae1_test), 2.95*np.std(mae2_test)])\n",
    "plt.xticks([0,1], ['model1','model2'], rotation=90)\n",
    "bar[0].set_color('cyan'), bar[1].set_color('magenta')\n",
    "plt.title('TotalUS')"
   ]
  },
  {
   "cell_type": "markdown",
   "metadata": {},
   "source": [
    "# Test on Sales Data"
   ]
  },
  {
   "cell_type": "code",
   "execution_count": 100,
   "metadata": {
    "ExecuteTime": {
     "end_time": "2020-05-30T16:02:39.305415Z",
     "start_time": "2020-05-30T16:02:38.918282Z"
    },
    "scrolled": true
   },
   "outputs": [
    {
     "name": "stdout",
     "output_type": "stream",
     "text": [
      "  Loading BIODIESEL B10 data ...\n",
      "  Generate time series features ...\n",
      "    Understand the mean and standard deviation of time series data for better understanding on the data ...\n",
      "    Moving average on 7 and 21 period size ...\n",
      "    Moving average convergence divergence ...\n",
      "    Bollinger band ...\n",
      "    Rate of change ...\n",
      "    Exponential moving average ...\n",
      "    Momentum ...\n",
      "  Extract time series feature in frequency domain ...\n",
      "  Prepare time series feature to the right format ...\n",
      "  Saving  Biodiesel dataframe to file 'data_local\\biodiesel_B10.csv' ...\n",
      "  done.\n"
     ]
    },
    {
     "data": {
      "image/png": "[encoded data removed]",
      "text/plain": [
       "<Figure size 504x360 with 1 Axes>"
      ]
     },
     "metadata": {
      "needs_background": "light"
     },
     "output_type": "display_data"
    },
    {
     "data": {
      "image/png": "[encoded data removed]",
      "text/plain": [
       "<Figure size 504x360 with 1 Axes>"
      ]
     },
     "metadata": {
      "needs_background": "light"
     },
     "output_type": "display_data"
    },
    {
     "data": {
      "image/png": "[encoded data removed]",
      "text/plain": [
       "<Figure size 504x360 with 1 Axes>"
      ]
     },
     "metadata": {
      "needs_background": "light"
     },
     "output_type": "display_data"
    }
   ],
   "source": [
    "analysis = Analysis()\n",
    "\n",
    "analysis.get_biodiesel()"
   ]
  },
  {
   "cell_type": "code",
   "execution_count": null,
   "metadata": {},
   "outputs": [],
   "source": []
  }
 ],
 "metadata": {
  "kernelspec": {
   "display_name": "Python 3.7.6 64-bit",
   "language": "python",
   "name": "python37664bit86cd7af839574b719694da79b128144c"
  },
  "language_info": {
   "codemirror_mode": {
    "name": "ipython",
    "version": 3
   },
   "file_extension": ".py",
   "mimetype": "text/x-python",
   "name": "python",
   "nbconvert_exporter": "python",
   "pygments_lexer": "ipython3",
   "version": "3.7.6"
  },
  "toc": {
   "base_numbering": 1,
   "nav_menu": {},
   "number_sections": true,
   "sideBar": true,
   "skip_h1_title": false,
   "title_cell": "Table of Contents",
   "title_sidebar": "Contents",
   "toc_cell": false,
   "toc_position": {},
   "toc_section_display": true,
   "toc_window_display": false
  }
 },
 "nbformat": 4,
 "nbformat_minor": 2
}
